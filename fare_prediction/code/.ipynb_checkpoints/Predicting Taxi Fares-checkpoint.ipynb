{
 "cells": [
  {
   "cell_type": "markdown",
   "id": "valid-duplicate",
   "metadata": {},
   "source": [
    "# New York Taxi Fare "
   ]
  },
  {
   "cell_type": "markdown",
   "id": "coordinate-objective",
   "metadata": {},
   "source": [
    "## Executive Summary"
   ]
  },
  {
   "cell_type": "markdown",
   "id": "wireless-oxide",
   "metadata": {},
   "source": [
    "Predicting taxi fares given the location, pickup and dropoff timings in New York. Using the Haversine formula, distance between the pickup and dropoff points are calculated and used as inputs in the model. "
   ]
  },
  {
   "cell_type": "markdown",
   "id": "hidden-construction",
   "metadata": {},
   "source": [
    "## Problem Statement\n",
    "Always wondered about the costs of transportation when planning your budget? This model aims to provide accurate estimations of transport expenditure when taking taxis in New York. In addition, it might provide a good gauge as to how much a taxi fare should be so as to not be fooled! "
   ]
  },
  {
   "cell_type": "markdown",
   "id": "egyptian-traveler",
   "metadata": {},
   "source": [
    "### Import libraries"
   ]
  },
  {
   "cell_type": "code",
   "execution_count": 1,
   "id": "departmental-chuck",
   "metadata": {},
   "outputs": [
    {
     "name": "stdout",
     "output_type": "stream",
     "text": [
      "INFO:tensorflow:Enabling eager execution\n",
      "INFO:tensorflow:Enabling v2 tensorshape\n",
      "INFO:tensorflow:Enabling resource variables\n",
      "INFO:tensorflow:Enabling tensor equality\n",
      "INFO:tensorflow:Enabling control flow v2\n"
     ]
    }
   ],
   "source": [
    "import warnings\n",
    "import pandas as pd\n",
    "import matplotlib.pyplot as plt\n",
    "import numpy as np\n",
    "import seaborn as sns\n",
    "from keras.models import Sequential\n",
    "from keras.layers import Dense,LSTM, TimeDistributed, Flatten, MaxPooling1D,Conv1D,Dropout\n",
    "\n",
    "from sklearn.preprocessing import MinMaxScaler\n",
    "from sklearn.metrics import mean_squared_error\n",
    "from sklearn.linear_model import LinearRegression, Ridge, Lasso,ElasticNet,HuberRegressor,PassiveAggressiveRegressor,SGDRegressor\n",
    "from sklearn.pipeline import Pipeline\n",
    "from sklearn.tree import DecisionTreeRegressor,ExtraTreeRegressor\n",
    "from sklearn.svm import SVR\n",
    "from sklearn.ensemble import AdaBoostRegressor,BaggingRegressor,RandomForestRegressor,ExtraTreesRegressor,GradientBoostingRegressor\n",
    "from sklearn.model_selection import train_test_split,GridSearchCV,RandomizedSearchCV\n",
    "from sklearn.preprocessing import StandardScaler\n",
    "from statsmodels.tsa.arima.model import ARIMA\n",
    "from math import radians, cos, sin, asin, sqrt\n",
    "pd.set_option('display.float_format', lambda x: '%.3f' % x)\n",
    "\n",
    "warnings.filterwarnings(\"ignore\")\n",
    "%matplotlib inline"
   ]
  },
  {
   "cell_type": "markdown",
   "id": "functional-lightning",
   "metadata": {},
   "source": [
    "### Data Visualization"
   ]
  },
  {
   "cell_type": "code",
   "execution_count": 2,
   "id": "secret-medium",
   "metadata": {},
   "outputs": [],
   "source": [
    "# loading train data\n",
    "df = pd.read_csv('../data/train.csv')\n",
    "\n",
    "# loading test data\n",
    "test_df = pd.read_csv('../data/test.csv')\n",
    "\n",
    "# loading sample submissions\n",
    "sample = pd.read_csv('../data/sample_submission.csv')"
   ]
  },
  {
   "cell_type": "code",
   "execution_count": 3,
   "id": "japanese-native",
   "metadata": {},
   "outputs": [
    {
     "name": "stdout",
     "output_type": "stream",
     "text": [
      "Number of records: 40059023\n",
      "Number of columns: 8\n"
     ]
    }
   ],
   "source": [
    "# number of rows and columns\n",
    "print(f'Number of records: {df.shape[0]}')\n",
    "print(f'Number of columns: {df.shape[1]}')"
   ]
  },
  {
   "cell_type": "code",
   "execution_count": 4,
   "id": "cosmetic-shuttle",
   "metadata": {},
   "outputs": [
    {
     "name": "stdout",
     "output_type": "stream",
     "text": [
      "<class 'pandas.core.frame.DataFrame'>\n",
      "RangeIndex: 40059023 entries, 0 to 40059022\n",
      "Data columns (total 8 columns):\n",
      " #   Column             Dtype  \n",
      "---  ------             -----  \n",
      " 0   key                object \n",
      " 1   fare_amount        float64\n",
      " 2   pickup_datetime    object \n",
      " 3   pickup_longitude   float64\n",
      " 4   pickup_latitude    float64\n",
      " 5   dropoff_longitude  float64\n",
      " 6   dropoff_latitude   float64\n",
      " 7   passenger_count    float64\n",
      "dtypes: float64(6), object(2)\n",
      "memory usage: 2.4+ GB\n"
     ]
    }
   ],
   "source": [
    "# Data types\n",
    "df.info()"
   ]
  },
  {
   "cell_type": "markdown",
   "id": "specialized-analysis",
   "metadata": {},
   "source": [
    "### Data dictionary"
   ]
  },
  {
   "cell_type": "markdown",
   "id": "decreased-travel",
   "metadata": {},
   "source": [
    "|Feature|Type|Dataset|Description|\n",
    "|:---|:---|:---|:---|\n",
    "|`key`|object|train/test|Unique ID field - pickup_datetime + unique integer|\n",
    "|`fare_amount`|float|train|Cost of taxi fare|\n",
    "|`pickup_datetime`|object|train/test|Date and time of pick up|\n",
    "|`pickup_longitude`|float|train/test|Longitude coordinate of where taxi ride started|\n",
    "|`pickup_latitutde`|float|train/test|Latitude coordinate of where taxi ride started|\n",
    "|`dropoff_longitude`|float|train/test|Longitude coordinate of where taxi ride ended|\n",
    "|`dropoff_latitude`|float|train/test|Latitude coordinate of where taxi ride ended|\n",
    "|`passenger_count`|float|train/test|Indicating number of passengers in the taxi|"
   ]
  },
  {
   "cell_type": "code",
   "execution_count": 5,
   "id": "possible-console",
   "metadata": {},
   "outputs": [
    {
     "data": {
      "text/html": [
       "<div>\n",
       "<style scoped>\n",
       "    .dataframe tbody tr th:only-of-type {\n",
       "        vertical-align: middle;\n",
       "    }\n",
       "\n",
       "    .dataframe tbody tr th {\n",
       "        vertical-align: top;\n",
       "    }\n",
       "\n",
       "    .dataframe thead th {\n",
       "        text-align: right;\n",
       "    }\n",
       "</style>\n",
       "<table border=\"1\" class=\"dataframe\">\n",
       "  <thead>\n",
       "    <tr style=\"text-align: right;\">\n",
       "      <th></th>\n",
       "      <th>fare_amount</th>\n",
       "      <th>pickup_longitude</th>\n",
       "      <th>pickup_latitude</th>\n",
       "      <th>dropoff_longitude</th>\n",
       "      <th>dropoff_latitude</th>\n",
       "      <th>passenger_count</th>\n",
       "    </tr>\n",
       "  </thead>\n",
       "  <tbody>\n",
       "    <tr>\n",
       "      <th>count</th>\n",
       "      <td>40059023.000</td>\n",
       "      <td>40059023.000</td>\n",
       "      <td>40059022.000</td>\n",
       "      <td>40058751.000</td>\n",
       "      <td>40058751.000</td>\n",
       "      <td>40059022.000</td>\n",
       "    </tr>\n",
       "    <tr>\n",
       "      <th>mean</th>\n",
       "      <td>11.342</td>\n",
       "      <td>-72.509</td>\n",
       "      <td>39.920</td>\n",
       "      <td>-72.510</td>\n",
       "      <td>39.920</td>\n",
       "      <td>1.685</td>\n",
       "    </tr>\n",
       "    <tr>\n",
       "      <th>std</th>\n",
       "      <td>13.895</td>\n",
       "      <td>12.923</td>\n",
       "      <td>9.721</td>\n",
       "      <td>12.740</td>\n",
       "      <td>9.631</td>\n",
       "      <td>1.326</td>\n",
       "    </tr>\n",
       "    <tr>\n",
       "      <th>min</th>\n",
       "      <td>-300.000</td>\n",
       "      <td>-3442.060</td>\n",
       "      <td>-3492.264</td>\n",
       "      <td>-3442.025</td>\n",
       "      <td>-3547.887</td>\n",
       "      <td>0.000</td>\n",
       "    </tr>\n",
       "    <tr>\n",
       "      <th>25%</th>\n",
       "      <td>6.000</td>\n",
       "      <td>-73.992</td>\n",
       "      <td>40.735</td>\n",
       "      <td>-73.991</td>\n",
       "      <td>40.734</td>\n",
       "      <td>1.000</td>\n",
       "    </tr>\n",
       "    <tr>\n",
       "      <th>50%</th>\n",
       "      <td>8.500</td>\n",
       "      <td>-73.982</td>\n",
       "      <td>40.753</td>\n",
       "      <td>-73.980</td>\n",
       "      <td>40.753</td>\n",
       "      <td>1.000</td>\n",
       "    </tr>\n",
       "    <tr>\n",
       "      <th>75%</th>\n",
       "      <td>12.500</td>\n",
       "      <td>-73.967</td>\n",
       "      <td>40.767</td>\n",
       "      <td>-73.964</td>\n",
       "      <td>40.768</td>\n",
       "      <td>2.000</td>\n",
       "    </tr>\n",
       "    <tr>\n",
       "      <th>max</th>\n",
       "      <td>61550.860</td>\n",
       "      <td>3457.626</td>\n",
       "      <td>3406.008</td>\n",
       "      <td>3457.622</td>\n",
       "      <td>3537.133</td>\n",
       "      <td>208.000</td>\n",
       "    </tr>\n",
       "  </tbody>\n",
       "</table>\n",
       "</div>"
      ],
      "text/plain": [
       "       fare_amount  pickup_longitude  pickup_latitude  dropoff_longitude  \\\n",
       "count 40059023.000      40059023.000     40059022.000       40058751.000   \n",
       "mean        11.342           -72.509           39.920            -72.510   \n",
       "std         13.895            12.923            9.721             12.740   \n",
       "min       -300.000         -3442.060        -3492.264          -3442.025   \n",
       "25%          6.000           -73.992           40.735            -73.991   \n",
       "50%          8.500           -73.982           40.753            -73.980   \n",
       "75%         12.500           -73.967           40.767            -73.964   \n",
       "max      61550.860          3457.626         3406.008           3457.622   \n",
       "\n",
       "       dropoff_latitude  passenger_count  \n",
       "count      40058751.000     40059022.000  \n",
       "mean             39.920            1.685  \n",
       "std               9.631            1.326  \n",
       "min           -3547.887            0.000  \n",
       "25%              40.734            1.000  \n",
       "50%              40.753            1.000  \n",
       "75%              40.768            2.000  \n",
       "max            3537.133          208.000  "
      ]
     },
     "execution_count": 5,
     "metadata": {},
     "output_type": "execute_result"
    }
   ],
   "source": [
    "# Statistical summary of data\n",
    "df.describe()"
   ]
  },
  {
   "cell_type": "markdown",
   "id": "historical-output",
   "metadata": {},
   "source": [
    "1) Negative fare amounts? Max fare amount over $1000?! <br>\n",
    "2) 0 passengers yet its in the records?"
   ]
  },
  {
   "cell_type": "markdown",
   "id": "consecutive-forty",
   "metadata": {},
   "source": [
    "### Exploratory Data Analysis \n",
    "Cleaning dataset"
   ]
  },
  {
   "cell_type": "code",
   "execution_count": 6,
   "id": "eastern-ideal",
   "metadata": {},
   "outputs": [
    {
     "data": {
      "text/html": [
       "<div>\n",
       "<style scoped>\n",
       "    .dataframe tbody tr th:only-of-type {\n",
       "        vertical-align: middle;\n",
       "    }\n",
       "\n",
       "    .dataframe tbody tr th {\n",
       "        vertical-align: top;\n",
       "    }\n",
       "\n",
       "    .dataframe thead th {\n",
       "        text-align: right;\n",
       "    }\n",
       "</style>\n",
       "<table border=\"1\" class=\"dataframe\">\n",
       "  <thead>\n",
       "    <tr style=\"text-align: right;\">\n",
       "      <th></th>\n",
       "      <th>key</th>\n",
       "      <th>fare_amount</th>\n",
       "      <th>pickup_datetime</th>\n",
       "      <th>pickup_longitude</th>\n",
       "      <th>pickup_latitude</th>\n",
       "      <th>dropoff_longitude</th>\n",
       "      <th>dropoff_latitude</th>\n",
       "      <th>passenger_count</th>\n",
       "    </tr>\n",
       "  </thead>\n",
       "  <tbody>\n",
       "    <tr>\n",
       "      <th>0</th>\n",
       "      <td>2009-06-15 17:26:21.0000001</td>\n",
       "      <td>4.500</td>\n",
       "      <td>2009-06-15 17:26:21 UTC</td>\n",
       "      <td>-73.844</td>\n",
       "      <td>40.721</td>\n",
       "      <td>-73.842</td>\n",
       "      <td>40.712</td>\n",
       "      <td>1.000</td>\n",
       "    </tr>\n",
       "    <tr>\n",
       "      <th>1</th>\n",
       "      <td>2010-01-05 16:52:16.0000002</td>\n",
       "      <td>16.900</td>\n",
       "      <td>2010-01-05 16:52:16 UTC</td>\n",
       "      <td>-74.016</td>\n",
       "      <td>40.711</td>\n",
       "      <td>-73.979</td>\n",
       "      <td>40.782</td>\n",
       "      <td>1.000</td>\n",
       "    </tr>\n",
       "    <tr>\n",
       "      <th>2</th>\n",
       "      <td>2011-08-18 00:35:00.00000049</td>\n",
       "      <td>5.700</td>\n",
       "      <td>2011-08-18 00:35:00 UTC</td>\n",
       "      <td>-73.983</td>\n",
       "      <td>40.761</td>\n",
       "      <td>-73.991</td>\n",
       "      <td>40.751</td>\n",
       "      <td>2.000</td>\n",
       "    </tr>\n",
       "    <tr>\n",
       "      <th>3</th>\n",
       "      <td>2012-04-21 04:30:42.0000001</td>\n",
       "      <td>7.700</td>\n",
       "      <td>2012-04-21 04:30:42 UTC</td>\n",
       "      <td>-73.987</td>\n",
       "      <td>40.733</td>\n",
       "      <td>-73.992</td>\n",
       "      <td>40.758</td>\n",
       "      <td>1.000</td>\n",
       "    </tr>\n",
       "    <tr>\n",
       "      <th>4</th>\n",
       "      <td>2010-03-09 07:51:00.000000135</td>\n",
       "      <td>5.300</td>\n",
       "      <td>2010-03-09 07:51:00 UTC</td>\n",
       "      <td>-73.968</td>\n",
       "      <td>40.768</td>\n",
       "      <td>-73.957</td>\n",
       "      <td>40.784</td>\n",
       "      <td>1.000</td>\n",
       "    </tr>\n",
       "  </tbody>\n",
       "</table>\n",
       "</div>"
      ],
      "text/plain": [
       "                             key  fare_amount          pickup_datetime  \\\n",
       "0    2009-06-15 17:26:21.0000001        4.500  2009-06-15 17:26:21 UTC   \n",
       "1    2010-01-05 16:52:16.0000002       16.900  2010-01-05 16:52:16 UTC   \n",
       "2   2011-08-18 00:35:00.00000049        5.700  2011-08-18 00:35:00 UTC   \n",
       "3    2012-04-21 04:30:42.0000001        7.700  2012-04-21 04:30:42 UTC   \n",
       "4  2010-03-09 07:51:00.000000135        5.300  2010-03-09 07:51:00 UTC   \n",
       "\n",
       "   pickup_longitude  pickup_latitude  dropoff_longitude  dropoff_latitude  \\\n",
       "0           -73.844           40.721            -73.842            40.712   \n",
       "1           -74.016           40.711            -73.979            40.782   \n",
       "2           -73.983           40.761            -73.991            40.751   \n",
       "3           -73.987           40.733            -73.992            40.758   \n",
       "4           -73.968           40.768            -73.957            40.784   \n",
       "\n",
       "   passenger_count  \n",
       "0            1.000  \n",
       "1            1.000  \n",
       "2            2.000  \n",
       "3            1.000  \n",
       "4            1.000  "
      ]
     },
     "execution_count": 6,
     "metadata": {},
     "output_type": "execute_result"
    }
   ],
   "source": [
    "df.head()"
   ]
  },
  {
   "cell_type": "code",
   "execution_count": 7,
   "id": "serial-stage",
   "metadata": {
    "scrolled": true
   },
   "outputs": [
    {
     "data": {
      "text/html": [
       "<div>\n",
       "<style scoped>\n",
       "    .dataframe tbody tr th:only-of-type {\n",
       "        vertical-align: middle;\n",
       "    }\n",
       "\n",
       "    .dataframe tbody tr th {\n",
       "        vertical-align: top;\n",
       "    }\n",
       "\n",
       "    .dataframe thead th {\n",
       "        text-align: right;\n",
       "    }\n",
       "</style>\n",
       "<table border=\"1\" class=\"dataframe\">\n",
       "  <thead>\n",
       "    <tr style=\"text-align: right;\">\n",
       "      <th></th>\n",
       "      <th>key</th>\n",
       "      <th>fare_amount</th>\n",
       "      <th>pickup_datetime</th>\n",
       "      <th>pickup_longitude</th>\n",
       "      <th>pickup_latitude</th>\n",
       "      <th>dropoff_longitude</th>\n",
       "      <th>dropoff_latitude</th>\n",
       "      <th>passenger_count</th>\n",
       "    </tr>\n",
       "  </thead>\n",
       "  <tbody>\n",
       "    <tr>\n",
       "      <th>120227</th>\n",
       "      <td>2012-12-11 12:57:00.00000013</td>\n",
       "      <td>12.500</td>\n",
       "      <td>2012-12-11 12:57:00 UTC</td>\n",
       "      <td>-73.993</td>\n",
       "      <td>40.743</td>\n",
       "      <td>NaN</td>\n",
       "      <td>NaN</td>\n",
       "      <td>0.000</td>\n",
       "    </tr>\n",
       "    <tr>\n",
       "      <th>245696</th>\n",
       "      <td>2013-03-21 18:07:07.0000001</td>\n",
       "      <td>86.500</td>\n",
       "      <td>2013-03-21 18:07:07 UTC</td>\n",
       "      <td>-73.992</td>\n",
       "      <td>40.741</td>\n",
       "      <td>NaN</td>\n",
       "      <td>NaN</td>\n",
       "      <td>0.000</td>\n",
       "    </tr>\n",
       "    <tr>\n",
       "      <th>340533</th>\n",
       "      <td>2012-12-11 12:50:52.00000010</td>\n",
       "      <td>27.500</td>\n",
       "      <td>2012-12-11 12:50:52 UTC</td>\n",
       "      <td>-73.980</td>\n",
       "      <td>40.785</td>\n",
       "      <td>NaN</td>\n",
       "      <td>NaN</td>\n",
       "      <td>0.000</td>\n",
       "    </tr>\n",
       "    <tr>\n",
       "      <th>428108</th>\n",
       "      <td>2011-09-08 09:12:52.0000001</td>\n",
       "      <td>11.800</td>\n",
       "      <td>2011-09-08 09:12:52 UTC</td>\n",
       "      <td>-73.987</td>\n",
       "      <td>40.752</td>\n",
       "      <td>NaN</td>\n",
       "      <td>NaN</td>\n",
       "      <td>0.000</td>\n",
       "    </tr>\n",
       "    <tr>\n",
       "      <th>471472</th>\n",
       "      <td>2012-12-11 12:34:20.0000006</td>\n",
       "      <td>7.800</td>\n",
       "      <td>2012-12-11 12:34:20 UTC</td>\n",
       "      <td>0.000</td>\n",
       "      <td>0.000</td>\n",
       "      <td>NaN</td>\n",
       "      <td>NaN</td>\n",
       "      <td>0.000</td>\n",
       "    </tr>\n",
       "    <tr>\n",
       "      <th>...</th>\n",
       "      <td>...</td>\n",
       "      <td>...</td>\n",
       "      <td>...</td>\n",
       "      <td>...</td>\n",
       "      <td>...</td>\n",
       "      <td>...</td>\n",
       "      <td>...</td>\n",
       "      <td>...</td>\n",
       "    </tr>\n",
       "    <tr>\n",
       "      <th>39712660</th>\n",
       "      <td>2012-12-11 12:22:14.0000001</td>\n",
       "      <td>9.250</td>\n",
       "      <td>2012-12-11 12:22:14 UTC</td>\n",
       "      <td>-73.957</td>\n",
       "      <td>40.775</td>\n",
       "      <td>NaN</td>\n",
       "      <td>NaN</td>\n",
       "      <td>0.000</td>\n",
       "    </tr>\n",
       "    <tr>\n",
       "      <th>39715392</th>\n",
       "      <td>2012-12-11 11:46:53.0000003</td>\n",
       "      <td>68.750</td>\n",
       "      <td>2012-12-11 11:46:53 UTC</td>\n",
       "      <td>-73.988</td>\n",
       "      <td>40.748</td>\n",
       "      <td>NaN</td>\n",
       "      <td>NaN</td>\n",
       "      <td>0.000</td>\n",
       "    </tr>\n",
       "    <tr>\n",
       "      <th>39731306</th>\n",
       "      <td>2013-07-01 12:25:52.0000002</td>\n",
       "      <td>9.700</td>\n",
       "      <td>2013-07-01 12:25:52 UTC</td>\n",
       "      <td>-73.982</td>\n",
       "      <td>40.768</td>\n",
       "      <td>NaN</td>\n",
       "      <td>NaN</td>\n",
       "      <td>0.000</td>\n",
       "    </tr>\n",
       "    <tr>\n",
       "      <th>39752012</th>\n",
       "      <td>2012-09-03 16:01:55.0000002</td>\n",
       "      <td>8.880</td>\n",
       "      <td>2012-09-03 16:01:55 UTC</td>\n",
       "      <td>-74.005</td>\n",
       "      <td>40.741</td>\n",
       "      <td>NaN</td>\n",
       "      <td>NaN</td>\n",
       "      <td>0.000</td>\n",
       "    </tr>\n",
       "    <tr>\n",
       "      <th>40059022</th>\n",
       "      <td>2009-01-23 22:30:48.0000002</td>\n",
       "      <td>15.000</td>\n",
       "      <td>2009-01-23 22:30:48 UTC</td>\n",
       "      <td>-73.900</td>\n",
       "      <td>NaN</td>\n",
       "      <td>NaN</td>\n",
       "      <td>NaN</td>\n",
       "      <td>NaN</td>\n",
       "    </tr>\n",
       "  </tbody>\n",
       "</table>\n",
       "<p>272 rows × 8 columns</p>\n",
       "</div>"
      ],
      "text/plain": [
       "                                   key  fare_amount          pickup_datetime  \\\n",
       "120227    2012-12-11 12:57:00.00000013       12.500  2012-12-11 12:57:00 UTC   \n",
       "245696     2013-03-21 18:07:07.0000001       86.500  2013-03-21 18:07:07 UTC   \n",
       "340533    2012-12-11 12:50:52.00000010       27.500  2012-12-11 12:50:52 UTC   \n",
       "428108     2011-09-08 09:12:52.0000001       11.800  2011-09-08 09:12:52 UTC   \n",
       "471472     2012-12-11 12:34:20.0000006        7.800  2012-12-11 12:34:20 UTC   \n",
       "...                                ...          ...                      ...   \n",
       "39712660   2012-12-11 12:22:14.0000001        9.250  2012-12-11 12:22:14 UTC   \n",
       "39715392   2012-12-11 11:46:53.0000003       68.750  2012-12-11 11:46:53 UTC   \n",
       "39731306   2013-07-01 12:25:52.0000002        9.700  2013-07-01 12:25:52 UTC   \n",
       "39752012   2012-09-03 16:01:55.0000002        8.880  2012-09-03 16:01:55 UTC   \n",
       "40059022   2009-01-23 22:30:48.0000002       15.000  2009-01-23 22:30:48 UTC   \n",
       "\n",
       "          pickup_longitude  pickup_latitude  dropoff_longitude  \\\n",
       "120227             -73.993           40.743                NaN   \n",
       "245696             -73.992           40.741                NaN   \n",
       "340533             -73.980           40.785                NaN   \n",
       "428108             -73.987           40.752                NaN   \n",
       "471472               0.000            0.000                NaN   \n",
       "...                    ...              ...                ...   \n",
       "39712660           -73.957           40.775                NaN   \n",
       "39715392           -73.988           40.748                NaN   \n",
       "39731306           -73.982           40.768                NaN   \n",
       "39752012           -74.005           40.741                NaN   \n",
       "40059022           -73.900              NaN                NaN   \n",
       "\n",
       "          dropoff_latitude  passenger_count  \n",
       "120227                 NaN            0.000  \n",
       "245696                 NaN            0.000  \n",
       "340533                 NaN            0.000  \n",
       "428108                 NaN            0.000  \n",
       "471472                 NaN            0.000  \n",
       "...                    ...              ...  \n",
       "39712660               NaN            0.000  \n",
       "39715392               NaN            0.000  \n",
       "39731306               NaN            0.000  \n",
       "39752012               NaN            0.000  \n",
       "40059022               NaN              NaN  \n",
       "\n",
       "[272 rows x 8 columns]"
      ]
     },
     "execution_count": 7,
     "metadata": {},
     "output_type": "execute_result"
    }
   ],
   "source": [
    "# 69 rows with at least 1 null value\n",
    "df[df.isnull().any(1)]"
   ]
  },
  {
   "cell_type": "code",
   "execution_count": 8,
   "id": "devoted-graphics",
   "metadata": {},
   "outputs": [
    {
     "data": {
      "text/plain": [
       "Index(['pickup_latitude', 'dropoff_longitude', 'dropoff_latitude',\n",
       "       'passenger_count'],\n",
       "      dtype='object')"
      ]
     },
     "execution_count": 8,
     "metadata": {},
     "output_type": "execute_result"
    }
   ],
   "source": [
    "# columns with null values\n",
    "df.columns[df.isnull().any()]"
   ]
  },
  {
   "cell_type": "code",
   "execution_count": 9,
   "id": "protective-whale",
   "metadata": {},
   "outputs": [],
   "source": [
    "# drop these record since they are impt in determining prices\n",
    "df1 = df[~df.isnull().any(1)]"
   ]
  },
  {
   "cell_type": "markdown",
   "id": "right-elizabeth",
   "metadata": {},
   "source": [
    "#### Dropping unrealistic longitudes/latitudes\n",
    "1) Longitudes should be negative and latitudes should be positive"
   ]
  },
  {
   "cell_type": "code",
   "execution_count": 10,
   "id": "valuable-infrastructure",
   "metadata": {},
   "outputs": [],
   "source": [
    "# swap these values\n",
    "incorrect_location = df1[((df1['dropoff_latitude'] < 0) | (df1['pickup_latitude'] < 0)) & ((df1['dropoff_longitude'] > 0) | (df1['pickup_longitude'] > 0))]"
   ]
  },
  {
   "cell_type": "code",
   "execution_count": 11,
   "id": "mineral-garlic",
   "metadata": {},
   "outputs": [],
   "source": [
    "# swap columns\n",
    "incorrect_location.columns = ['key','fare_amount',\"pickup_datetime\",\"pickup_latitude\",\"pickup_longitude\",\n",
    "                              \"dropoff_latitude\",\"dropoff_longitude\",\"passenger_count\"]"
   ]
  },
  {
   "cell_type": "code",
   "execution_count": 12,
   "id": "occupational-activity",
   "metadata": {},
   "outputs": [],
   "source": [
    "# merge these values back into original df\n",
    "df1.loc[df1.index.isin(incorrect_location.index),[\"pickup_latitude\",\"pickup_longitude\",\"dropoff_latitude\",\"dropoff_longitude\"]] = incorrect_location[[\"pickup_latitude\",\"pickup_longitude\",\"dropoff_latitude\",\"dropoff_longitude\"]]"
   ]
  },
  {
   "cell_type": "code",
   "execution_count": 13,
   "id": "cross-ecology",
   "metadata": {
    "scrolled": true
   },
   "outputs": [
    {
     "data": {
      "text/html": [
       "<div>\n",
       "<style scoped>\n",
       "    .dataframe tbody tr th:only-of-type {\n",
       "        vertical-align: middle;\n",
       "    }\n",
       "\n",
       "    .dataframe tbody tr th {\n",
       "        vertical-align: top;\n",
       "    }\n",
       "\n",
       "    .dataframe thead th {\n",
       "        text-align: right;\n",
       "    }\n",
       "</style>\n",
       "<table border=\"1\" class=\"dataframe\">\n",
       "  <thead>\n",
       "    <tr style=\"text-align: right;\">\n",
       "      <th></th>\n",
       "      <th>key</th>\n",
       "      <th>fare_amount</th>\n",
       "      <th>pickup_datetime</th>\n",
       "      <th>pickup_longitude</th>\n",
       "      <th>pickup_latitude</th>\n",
       "      <th>dropoff_longitude</th>\n",
       "      <th>dropoff_latitude</th>\n",
       "      <th>passenger_count</th>\n",
       "    </tr>\n",
       "  </thead>\n",
       "  <tbody>\n",
       "    <tr>\n",
       "      <th>66433</th>\n",
       "      <td>2010-07-28 09:22:00.000000254</td>\n",
       "      <td>7.300</td>\n",
       "      <td>2010-07-28 09:22:00 UTC</td>\n",
       "      <td>-0.004</td>\n",
       "      <td>0.003</td>\n",
       "      <td>0.006</td>\n",
       "      <td>-0.004</td>\n",
       "      <td>5.000</td>\n",
       "    </tr>\n",
       "    <tr>\n",
       "      <th>98000</th>\n",
       "      <td>2011-10-16 19:39:00.00000069</td>\n",
       "      <td>5.700</td>\n",
       "      <td>2011-10-16 19:39:00 UTC</td>\n",
       "      <td>0.003</td>\n",
       "      <td>-0.001</td>\n",
       "      <td>-0.001</td>\n",
       "      <td>0.002</td>\n",
       "      <td>2.000</td>\n",
       "    </tr>\n",
       "    <tr>\n",
       "      <th>174356</th>\n",
       "      <td>2011-11-21 21:36:00.00000081</td>\n",
       "      <td>9.700</td>\n",
       "      <td>2011-11-21 21:36:00 UTC</td>\n",
       "      <td>1703.093</td>\n",
       "      <td>2140.601</td>\n",
       "      <td>-1189.615</td>\n",
       "      <td>-1251.196</td>\n",
       "      <td>1.000</td>\n",
       "    </tr>\n",
       "    <tr>\n",
       "      <th>444028</th>\n",
       "      <td>2010-11-28 12:16:00.000000129</td>\n",
       "      <td>5.700</td>\n",
       "      <td>2010-11-28 12:16:00 UTC</td>\n",
       "      <td>-0.002</td>\n",
       "      <td>0.002</td>\n",
       "      <td>0.002</td>\n",
       "      <td>-0.002</td>\n",
       "      <td>1.000</td>\n",
       "    </tr>\n",
       "    <tr>\n",
       "      <th>549740</th>\n",
       "      <td>2011-04-21 15:58:00.00000020</td>\n",
       "      <td>5.700</td>\n",
       "      <td>2011-04-21 15:58:00 UTC</td>\n",
       "      <td>0.000</td>\n",
       "      <td>-0.002</td>\n",
       "      <td>-0.000</td>\n",
       "      <td>0.002</td>\n",
       "      <td>5.000</td>\n",
       "    </tr>\n",
       "    <tr>\n",
       "      <th>...</th>\n",
       "      <td>...</td>\n",
       "      <td>...</td>\n",
       "      <td>...</td>\n",
       "      <td>...</td>\n",
       "      <td>...</td>\n",
       "      <td>...</td>\n",
       "      <td>...</td>\n",
       "      <td>...</td>\n",
       "    </tr>\n",
       "    <tr>\n",
       "      <th>39161212</th>\n",
       "      <td>2011-01-22 15:02:00.00000054</td>\n",
       "      <td>9.700</td>\n",
       "      <td>2011-01-22 15:02:00 UTC</td>\n",
       "      <td>-0.001</td>\n",
       "      <td>-0.003</td>\n",
       "      <td>0.000</td>\n",
       "      <td>0.000</td>\n",
       "      <td>1.000</td>\n",
       "    </tr>\n",
       "    <tr>\n",
       "      <th>39218828</th>\n",
       "      <td>2011-12-21 21:26:00.00000018</td>\n",
       "      <td>16.500</td>\n",
       "      <td>2011-12-21 21:26:00 UTC</td>\n",
       "      <td>3270.324</td>\n",
       "      <td>1733.734</td>\n",
       "      <td>-424.799</td>\n",
       "      <td>-58.576</td>\n",
       "      <td>1.000</td>\n",
       "    </tr>\n",
       "    <tr>\n",
       "      <th>39293787</th>\n",
       "      <td>2009-02-20 17:46:00.000000182</td>\n",
       "      <td>6.900</td>\n",
       "      <td>2009-02-20 17:46:00 UTC</td>\n",
       "      <td>0.000</td>\n",
       "      <td>-0.000</td>\n",
       "      <td>-0.000</td>\n",
       "      <td>0.000</td>\n",
       "      <td>2.000</td>\n",
       "    </tr>\n",
       "    <tr>\n",
       "      <th>39545130</th>\n",
       "      <td>2010-11-19 09:49:00.00000084</td>\n",
       "      <td>5.700</td>\n",
       "      <td>2010-11-19 09:49:00 UTC</td>\n",
       "      <td>-0.000</td>\n",
       "      <td>-0.000</td>\n",
       "      <td>0.000</td>\n",
       "      <td>0.000</td>\n",
       "      <td>3.000</td>\n",
       "    </tr>\n",
       "    <tr>\n",
       "      <th>39689072</th>\n",
       "      <td>2012-01-20 00:52:00.00000053</td>\n",
       "      <td>8.500</td>\n",
       "      <td>2012-01-20 00:52:00 UTC</td>\n",
       "      <td>-2569.499</td>\n",
       "      <td>-1357.424</td>\n",
       "      <td>1265.529</td>\n",
       "      <td>0.155</td>\n",
       "      <td>1.000</td>\n",
       "    </tr>\n",
       "  </tbody>\n",
       "</table>\n",
       "<p>287 rows × 8 columns</p>\n",
       "</div>"
      ],
      "text/plain": [
       "                                    key  fare_amount          pickup_datetime  \\\n",
       "66433     2010-07-28 09:22:00.000000254        7.300  2010-07-28 09:22:00 UTC   \n",
       "98000      2011-10-16 19:39:00.00000069        5.700  2011-10-16 19:39:00 UTC   \n",
       "174356     2011-11-21 21:36:00.00000081        9.700  2011-11-21 21:36:00 UTC   \n",
       "444028    2010-11-28 12:16:00.000000129        5.700  2010-11-28 12:16:00 UTC   \n",
       "549740     2011-04-21 15:58:00.00000020        5.700  2011-04-21 15:58:00 UTC   \n",
       "...                                 ...          ...                      ...   \n",
       "39161212   2011-01-22 15:02:00.00000054        9.700  2011-01-22 15:02:00 UTC   \n",
       "39218828   2011-12-21 21:26:00.00000018       16.500  2011-12-21 21:26:00 UTC   \n",
       "39293787  2009-02-20 17:46:00.000000182        6.900  2009-02-20 17:46:00 UTC   \n",
       "39545130   2010-11-19 09:49:00.00000084        5.700  2010-11-19 09:49:00 UTC   \n",
       "39689072   2012-01-20 00:52:00.00000053        8.500  2012-01-20 00:52:00 UTC   \n",
       "\n",
       "          pickup_longitude  pickup_latitude  dropoff_longitude  \\\n",
       "66433               -0.004            0.003              0.006   \n",
       "98000                0.003           -0.001             -0.001   \n",
       "174356            1703.093         2140.601          -1189.615   \n",
       "444028              -0.002            0.002              0.002   \n",
       "549740               0.000           -0.002             -0.000   \n",
       "...                    ...              ...                ...   \n",
       "39161212            -0.001           -0.003              0.000   \n",
       "39218828          3270.324         1733.734           -424.799   \n",
       "39293787             0.000           -0.000             -0.000   \n",
       "39545130            -0.000           -0.000              0.000   \n",
       "39689072         -2569.499        -1357.424           1265.529   \n",
       "\n",
       "          dropoff_latitude  passenger_count  \n",
       "66433               -0.004            5.000  \n",
       "98000                0.002            2.000  \n",
       "174356           -1251.196            1.000  \n",
       "444028              -0.002            1.000  \n",
       "549740               0.002            5.000  \n",
       "...                    ...              ...  \n",
       "39161212             0.000            1.000  \n",
       "39218828           -58.576            1.000  \n",
       "39293787             0.000            2.000  \n",
       "39545130             0.000            3.000  \n",
       "39689072             0.155            1.000  \n",
       "\n",
       "[287 rows x 8 columns]"
      ]
     },
     "execution_count": 13,
     "metadata": {},
     "output_type": "execute_result"
    }
   ],
   "source": [
    "# remaining odd coordinates, drop them\n",
    "df1[((df1['dropoff_latitude'] < 0) | (df1['pickup_latitude'] < 0)) & ((df1['dropoff_longitude'] > 0) | (df1['pickup_longitude'] > 0))]"
   ]
  },
  {
   "cell_type": "code",
   "execution_count": 14,
   "id": "stylish-priority",
   "metadata": {},
   "outputs": [],
   "source": [
    "# drop the remaining 77 rows\n",
    "todrop = df1[((df1['dropoff_latitude'] < 0) | (df1['pickup_latitude'] < 0)) & ((df1['dropoff_longitude'] > 0) | (df1['pickup_longitude'] > 0))]\n",
    "df1 = df1[~df1.index.isin(todrop.index)]"
   ]
  },
  {
   "cell_type": "markdown",
   "id": "vanilla-maple",
   "metadata": {},
   "source": [
    "#### Dropping unrealistic longitudes/latitudes\n",
    "2) Coordinates should fall within USA"
   ]
  },
  {
   "cell_type": "code",
   "execution_count": 15,
   "id": "helpful-instruction",
   "metadata": {},
   "outputs": [],
   "source": [
    "# dropping these records that sit in the ATLANTIC OCEAN:\n",
    "# train:\n",
    "df1 = df1.drop(df1[(df1['dropoff_latitude'] == 0) & (df1['dropoff_longitude'] == 0) & (df1['pickup_latitude'] == 0) & (df1['pickup_longitude'] ==0)].index)"
   ]
  },
  {
   "cell_type": "markdown",
   "id": "flush-country",
   "metadata": {},
   "source": [
    "Since range of longitudes and latitudes for cities in USA is between -125 & -67 and 24 & 50 respectively, remove all the other records that fall outside of these ranges"
   ]
  },
  {
   "cell_type": "code",
   "execution_count": 16,
   "id": "cooked-saskatchewan",
   "metadata": {},
   "outputs": [
    {
     "data": {
      "text/html": [
       "<div>\n",
       "<style scoped>\n",
       "    .dataframe tbody tr th:only-of-type {\n",
       "        vertical-align: middle;\n",
       "    }\n",
       "\n",
       "    .dataframe tbody tr th {\n",
       "        vertical-align: top;\n",
       "    }\n",
       "\n",
       "    .dataframe thead th {\n",
       "        text-align: right;\n",
       "    }\n",
       "</style>\n",
       "<table border=\"1\" class=\"dataframe\">\n",
       "  <thead>\n",
       "    <tr style=\"text-align: right;\">\n",
       "      <th></th>\n",
       "      <th>key</th>\n",
       "      <th>fare_amount</th>\n",
       "      <th>pickup_datetime</th>\n",
       "      <th>pickup_longitude</th>\n",
       "      <th>pickup_latitude</th>\n",
       "      <th>dropoff_longitude</th>\n",
       "      <th>dropoff_latitude</th>\n",
       "      <th>passenger_count</th>\n",
       "    </tr>\n",
       "  </thead>\n",
       "  <tbody>\n",
       "    <tr>\n",
       "      <th>0</th>\n",
       "      <td>2009-06-15 17:26:21.0000001</td>\n",
       "      <td>4.500</td>\n",
       "      <td>2009-06-15 17:26:21 UTC</td>\n",
       "      <td>-73.844</td>\n",
       "      <td>40.721</td>\n",
       "      <td>-73.842</td>\n",
       "      <td>40.712</td>\n",
       "      <td>1.000</td>\n",
       "    </tr>\n",
       "    <tr>\n",
       "      <th>1</th>\n",
       "      <td>2010-01-05 16:52:16.0000002</td>\n",
       "      <td>16.900</td>\n",
       "      <td>2010-01-05 16:52:16 UTC</td>\n",
       "      <td>-74.016</td>\n",
       "      <td>40.711</td>\n",
       "      <td>-73.979</td>\n",
       "      <td>40.782</td>\n",
       "      <td>1.000</td>\n",
       "    </tr>\n",
       "    <tr>\n",
       "      <th>2</th>\n",
       "      <td>2011-08-18 00:35:00.00000049</td>\n",
       "      <td>5.700</td>\n",
       "      <td>2011-08-18 00:35:00 UTC</td>\n",
       "      <td>-73.983</td>\n",
       "      <td>40.761</td>\n",
       "      <td>-73.991</td>\n",
       "      <td>40.751</td>\n",
       "      <td>2.000</td>\n",
       "    </tr>\n",
       "    <tr>\n",
       "      <th>3</th>\n",
       "      <td>2012-04-21 04:30:42.0000001</td>\n",
       "      <td>7.700</td>\n",
       "      <td>2012-04-21 04:30:42 UTC</td>\n",
       "      <td>-73.987</td>\n",
       "      <td>40.733</td>\n",
       "      <td>-73.992</td>\n",
       "      <td>40.758</td>\n",
       "      <td>1.000</td>\n",
       "    </tr>\n",
       "    <tr>\n",
       "      <th>4</th>\n",
       "      <td>2010-03-09 07:51:00.000000135</td>\n",
       "      <td>5.300</td>\n",
       "      <td>2010-03-09 07:51:00 UTC</td>\n",
       "      <td>-73.968</td>\n",
       "      <td>40.768</td>\n",
       "      <td>-73.957</td>\n",
       "      <td>40.784</td>\n",
       "      <td>1.000</td>\n",
       "    </tr>\n",
       "  </tbody>\n",
       "</table>\n",
       "</div>"
      ],
      "text/plain": [
       "                             key  fare_amount          pickup_datetime  \\\n",
       "0    2009-06-15 17:26:21.0000001        4.500  2009-06-15 17:26:21 UTC   \n",
       "1    2010-01-05 16:52:16.0000002       16.900  2010-01-05 16:52:16 UTC   \n",
       "2   2011-08-18 00:35:00.00000049        5.700  2011-08-18 00:35:00 UTC   \n",
       "3    2012-04-21 04:30:42.0000001        7.700  2012-04-21 04:30:42 UTC   \n",
       "4  2010-03-09 07:51:00.000000135        5.300  2010-03-09 07:51:00 UTC   \n",
       "\n",
       "   pickup_longitude  pickup_latitude  dropoff_longitude  dropoff_latitude  \\\n",
       "0           -73.844           40.721            -73.842            40.712   \n",
       "1           -74.016           40.711            -73.979            40.782   \n",
       "2           -73.983           40.761            -73.991            40.751   \n",
       "3           -73.987           40.733            -73.992            40.758   \n",
       "4           -73.968           40.768            -73.957            40.784   \n",
       "\n",
       "   passenger_count  \n",
       "0            1.000  \n",
       "1            1.000  \n",
       "2            2.000  \n",
       "3            1.000  \n",
       "4            1.000  "
      ]
     },
     "execution_count": 16,
     "metadata": {},
     "output_type": "execute_result"
    }
   ],
   "source": [
    "df1.head()"
   ]
  },
  {
   "cell_type": "code",
   "execution_count": 17,
   "id": "dying-hayes",
   "metadata": {},
   "outputs": [
    {
     "data": {
      "text/html": [
       "<div>\n",
       "<style scoped>\n",
       "    .dataframe tbody tr th:only-of-type {\n",
       "        vertical-align: middle;\n",
       "    }\n",
       "\n",
       "    .dataframe tbody tr th {\n",
       "        vertical-align: top;\n",
       "    }\n",
       "\n",
       "    .dataframe thead th {\n",
       "        text-align: right;\n",
       "    }\n",
       "</style>\n",
       "<table border=\"1\" class=\"dataframe\">\n",
       "  <thead>\n",
       "    <tr style=\"text-align: right;\">\n",
       "      <th></th>\n",
       "      <th>key</th>\n",
       "      <th>fare_amount</th>\n",
       "      <th>pickup_datetime</th>\n",
       "      <th>pickup_longitude</th>\n",
       "      <th>pickup_latitude</th>\n",
       "      <th>dropoff_longitude</th>\n",
       "      <th>dropoff_latitude</th>\n",
       "      <th>passenger_count</th>\n",
       "    </tr>\n",
       "  </thead>\n",
       "  <tbody>\n",
       "  </tbody>\n",
       "</table>\n",
       "</div>"
      ],
      "text/plain": [
       "Empty DataFrame\n",
       "Columns: [key, fare_amount, pickup_datetime, pickup_longitude, pickup_latitude, dropoff_longitude, dropoff_latitude, passenger_count]\n",
       "Index: []"
      ]
     },
     "execution_count": 17,
     "metadata": {},
     "output_type": "execute_result"
    }
   ],
   "source": [
    "# drop these records: Odd latitudes\n",
    "df1[((df1[\"pickup_latitude\"] < 24) & (df1[\"pickup_latitude\"] > 50)) | (df1[\"dropoff_latitude\"]) < 24 & (df1[\"dropoff_latitude\"] > 50)]"
   ]
  },
  {
   "cell_type": "code",
   "execution_count": 18,
   "id": "diagnostic-forum",
   "metadata": {},
   "outputs": [
    {
     "data": {
      "text/html": [
       "<div>\n",
       "<style scoped>\n",
       "    .dataframe tbody tr th:only-of-type {\n",
       "        vertical-align: middle;\n",
       "    }\n",
       "\n",
       "    .dataframe tbody tr th {\n",
       "        vertical-align: top;\n",
       "    }\n",
       "\n",
       "    .dataframe thead th {\n",
       "        text-align: right;\n",
       "    }\n",
       "</style>\n",
       "<table border=\"1\" class=\"dataframe\">\n",
       "  <thead>\n",
       "    <tr style=\"text-align: right;\">\n",
       "      <th></th>\n",
       "      <th>key</th>\n",
       "      <th>fare_amount</th>\n",
       "      <th>pickup_datetime</th>\n",
       "      <th>pickup_longitude</th>\n",
       "      <th>pickup_latitude</th>\n",
       "      <th>dropoff_longitude</th>\n",
       "      <th>dropoff_latitude</th>\n",
       "      <th>passenger_count</th>\n",
       "    </tr>\n",
       "  </thead>\n",
       "  <tbody>\n",
       "    <tr>\n",
       "      <th>1260</th>\n",
       "      <td>2011-03-10 20:25:00.00000049</td>\n",
       "      <td>5.700</td>\n",
       "      <td>2011-03-10 20:25:00 UTC</td>\n",
       "      <td>-73.974</td>\n",
       "      <td>40.755</td>\n",
       "      <td>0.000</td>\n",
       "      <td>0.000</td>\n",
       "      <td>2.000</td>\n",
       "    </tr>\n",
       "    <tr>\n",
       "      <th>2280</th>\n",
       "      <td>2011-08-29 08:24:00.000000107</td>\n",
       "      <td>8.900</td>\n",
       "      <td>2011-08-29 08:24:00 UTC</td>\n",
       "      <td>-73.937</td>\n",
       "      <td>40.758</td>\n",
       "      <td>0.000</td>\n",
       "      <td>40.758</td>\n",
       "      <td>1.000</td>\n",
       "    </tr>\n",
       "    <tr>\n",
       "      <th>4278</th>\n",
       "      <td>2015-04-07 23:33:02.0000005</td>\n",
       "      <td>7.000</td>\n",
       "      <td>2015-04-07 23:33:02 UTC</td>\n",
       "      <td>-73.973</td>\n",
       "      <td>40.757</td>\n",
       "      <td>0.000</td>\n",
       "      <td>0.000</td>\n",
       "      <td>1.000</td>\n",
       "    </tr>\n",
       "    <tr>\n",
       "      <th>8647</th>\n",
       "      <td>2014-03-27 18:01:00.00000071</td>\n",
       "      <td>21.500</td>\n",
       "      <td>2014-03-27 18:01:00 UTC</td>\n",
       "      <td>-74.002</td>\n",
       "      <td>40.751</td>\n",
       "      <td>0.000</td>\n",
       "      <td>0.000</td>\n",
       "      <td>1.000</td>\n",
       "    </tr>\n",
       "    <tr>\n",
       "      <th>10458</th>\n",
       "      <td>2013-02-23 20:58:00.000000150</td>\n",
       "      <td>2.500</td>\n",
       "      <td>2013-02-23 20:58:00 UTC</td>\n",
       "      <td>-73.980</td>\n",
       "      <td>40.766</td>\n",
       "      <td>0.000</td>\n",
       "      <td>0.000</td>\n",
       "      <td>1.000</td>\n",
       "    </tr>\n",
       "    <tr>\n",
       "      <th>...</th>\n",
       "      <td>...</td>\n",
       "      <td>...</td>\n",
       "      <td>...</td>\n",
       "      <td>...</td>\n",
       "      <td>...</td>\n",
       "      <td>...</td>\n",
       "      <td>...</td>\n",
       "      <td>...</td>\n",
       "    </tr>\n",
       "    <tr>\n",
       "      <th>40052862</th>\n",
       "      <td>2012-02-14 18:36:00.000000223</td>\n",
       "      <td>2.900</td>\n",
       "      <td>2012-02-14 18:36:00 UTC</td>\n",
       "      <td>-73.948</td>\n",
       "      <td>40.790</td>\n",
       "      <td>0.000</td>\n",
       "      <td>0.000</td>\n",
       "      <td>1.000</td>\n",
       "    </tr>\n",
       "    <tr>\n",
       "      <th>40052883</th>\n",
       "      <td>2012-09-22 20:24:00.00000075</td>\n",
       "      <td>9.500</td>\n",
       "      <td>2012-09-22 20:24:00 UTC</td>\n",
       "      <td>0.000</td>\n",
       "      <td>41.454</td>\n",
       "      <td>0.000</td>\n",
       "      <td>41.454</td>\n",
       "      <td>5.000</td>\n",
       "    </tr>\n",
       "    <tr>\n",
       "      <th>40053667</th>\n",
       "      <td>2012-02-05 11:16:00.00000062</td>\n",
       "      <td>8.900</td>\n",
       "      <td>2012-02-05 11:16:00 UTC</td>\n",
       "      <td>0.000</td>\n",
       "      <td>40.735</td>\n",
       "      <td>0.000</td>\n",
       "      <td>40.750</td>\n",
       "      <td>1.000</td>\n",
       "    </tr>\n",
       "    <tr>\n",
       "      <th>40054139</th>\n",
       "      <td>2014-06-16 11:02:00.00000076</td>\n",
       "      <td>57.330</td>\n",
       "      <td>2014-06-16 11:02:00 UTC</td>\n",
       "      <td>-73.782</td>\n",
       "      <td>40.644</td>\n",
       "      <td>0.000</td>\n",
       "      <td>0.000</td>\n",
       "      <td>2.000</td>\n",
       "    </tr>\n",
       "    <tr>\n",
       "      <th>40057111</th>\n",
       "      <td>2015-01-02 18:26:45.0000001</td>\n",
       "      <td>6.500</td>\n",
       "      <td>2015-01-02 18:26:45 UTC</td>\n",
       "      <td>-73.995</td>\n",
       "      <td>40.750</td>\n",
       "      <td>0.000</td>\n",
       "      <td>0.000</td>\n",
       "      <td>2.000</td>\n",
       "    </tr>\n",
       "  </tbody>\n",
       "</table>\n",
       "<p>35698 rows × 8 columns</p>\n",
       "</div>"
      ],
      "text/plain": [
       "                                    key  fare_amount          pickup_datetime  \\\n",
       "1260       2011-03-10 20:25:00.00000049        5.700  2011-03-10 20:25:00 UTC   \n",
       "2280      2011-08-29 08:24:00.000000107        8.900  2011-08-29 08:24:00 UTC   \n",
       "4278        2015-04-07 23:33:02.0000005        7.000  2015-04-07 23:33:02 UTC   \n",
       "8647       2014-03-27 18:01:00.00000071       21.500  2014-03-27 18:01:00 UTC   \n",
       "10458     2013-02-23 20:58:00.000000150        2.500  2013-02-23 20:58:00 UTC   \n",
       "...                                 ...          ...                      ...   \n",
       "40052862  2012-02-14 18:36:00.000000223        2.900  2012-02-14 18:36:00 UTC   \n",
       "40052883   2012-09-22 20:24:00.00000075        9.500  2012-09-22 20:24:00 UTC   \n",
       "40053667   2012-02-05 11:16:00.00000062        8.900  2012-02-05 11:16:00 UTC   \n",
       "40054139   2014-06-16 11:02:00.00000076       57.330  2014-06-16 11:02:00 UTC   \n",
       "40057111    2015-01-02 18:26:45.0000001        6.500  2015-01-02 18:26:45 UTC   \n",
       "\n",
       "          pickup_longitude  pickup_latitude  dropoff_longitude  \\\n",
       "1260               -73.974           40.755              0.000   \n",
       "2280               -73.937           40.758              0.000   \n",
       "4278               -73.973           40.757              0.000   \n",
       "8647               -74.002           40.751              0.000   \n",
       "10458              -73.980           40.766              0.000   \n",
       "...                    ...              ...                ...   \n",
       "40052862           -73.948           40.790              0.000   \n",
       "40052883             0.000           41.454              0.000   \n",
       "40053667             0.000           40.735              0.000   \n",
       "40054139           -73.782           40.644              0.000   \n",
       "40057111           -73.995           40.750              0.000   \n",
       "\n",
       "          dropoff_latitude  passenger_count  \n",
       "1260                 0.000            2.000  \n",
       "2280                40.758            1.000  \n",
       "4278                 0.000            1.000  \n",
       "8647                 0.000            1.000  \n",
       "10458                0.000            1.000  \n",
       "...                    ...              ...  \n",
       "40052862             0.000            1.000  \n",
       "40052883            41.454            5.000  \n",
       "40053667            40.750            1.000  \n",
       "40054139             0.000            2.000  \n",
       "40057111             0.000            2.000  \n",
       "\n",
       "[35698 rows x 8 columns]"
      ]
     },
     "execution_count": 18,
     "metadata": {},
     "output_type": "execute_result"
    }
   ],
   "source": [
    "# drop these records: Odd longitudes\n",
    "df1.loc[((df1[\"pickup_longitude\"] < -125) & (df1[\"pickup_longitude\"]  > -67)) | (df1[\"dropoff_longitude\"])  < -125 & (df1[\"dropoff_longitude\"] > -67)]"
   ]
  },
  {
   "cell_type": "code",
   "execution_count": 19,
   "id": "unusual-circular",
   "metadata": {},
   "outputs": [],
   "source": [
    "todrop = df1.loc[((df1[\"pickup_longitude\"] < -125) & (df1[\"pickup_longitude\"]  > -67)) | (df1[\"dropoff_longitude\"])  < -125 & (df1[\"dropoff_longitude\"] > -67)]\n",
    "df1 = df1[~df1.index.isin(todrop.index)]"
   ]
  },
  {
   "cell_type": "markdown",
   "id": "congressional-receiver",
   "metadata": {},
   "source": [
    "#### Drop records that fall outside of `test_df`'s coordinates"
   ]
  },
  {
   "cell_type": "code",
   "execution_count": 20,
   "id": "disturbed-shelf",
   "metadata": {
    "scrolled": false
   },
   "outputs": [
    {
     "data": {
      "text/plain": [
       "<AxesSubplot:xlabel='pickup_longitude'>"
      ]
     },
     "execution_count": 20,
     "metadata": {},
     "output_type": "execute_result"
    },
    {
     "data": {
      "image/png": "[encoded data removed]",
      "text/plain": [
       "<Figure size 864x576 with 2 Axes>"
      ]
     },
     "metadata": {
      "needs_background": "light"
     },
     "output_type": "display_data"
    }
   ],
   "source": [
    "# looking at range of pickup latitude and longitude in test set\n",
    "fig,ax = plt.subplots(2,figsize = (12,8))\n",
    "sns.boxplot(test_df['pickup_latitude'],ax = ax[0])\n",
    "sns.boxplot(test_df['pickup_longitude'],ax = ax[1])"
   ]
  },
  {
   "cell_type": "code",
   "execution_count": 21,
   "id": "fiscal-initial",
   "metadata": {},
   "outputs": [
    {
     "data": {
      "text/html": [
       "<div>\n",
       "<style scoped>\n",
       "    .dataframe tbody tr th:only-of-type {\n",
       "        vertical-align: middle;\n",
       "    }\n",
       "\n",
       "    .dataframe tbody tr th {\n",
       "        vertical-align: top;\n",
       "    }\n",
       "\n",
       "    .dataframe thead th {\n",
       "        text-align: right;\n",
       "    }\n",
       "</style>\n",
       "<table border=\"1\" class=\"dataframe\">\n",
       "  <thead>\n",
       "    <tr style=\"text-align: right;\">\n",
       "      <th></th>\n",
       "      <th>pickup_longitude</th>\n",
       "      <th>pickup_latitude</th>\n",
       "      <th>dropoff_longitude</th>\n",
       "      <th>dropoff_latitude</th>\n",
       "      <th>passenger_count</th>\n",
       "    </tr>\n",
       "  </thead>\n",
       "  <tbody>\n",
       "    <tr>\n",
       "      <th>count</th>\n",
       "      <td>9914.000</td>\n",
       "      <td>9914.000</td>\n",
       "      <td>9914.000</td>\n",
       "      <td>9914.000</td>\n",
       "      <td>9914.000</td>\n",
       "    </tr>\n",
       "    <tr>\n",
       "      <th>mean</th>\n",
       "      <td>-73.975</td>\n",
       "      <td>40.751</td>\n",
       "      <td>-73.974</td>\n",
       "      <td>40.752</td>\n",
       "      <td>1.671</td>\n",
       "    </tr>\n",
       "    <tr>\n",
       "      <th>std</th>\n",
       "      <td>0.043</td>\n",
       "      <td>0.034</td>\n",
       "      <td>0.039</td>\n",
       "      <td>0.035</td>\n",
       "      <td>1.279</td>\n",
       "    </tr>\n",
       "    <tr>\n",
       "      <th>min</th>\n",
       "      <td>-74.252</td>\n",
       "      <td>40.573</td>\n",
       "      <td>-74.263</td>\n",
       "      <td>40.569</td>\n",
       "      <td>1.000</td>\n",
       "    </tr>\n",
       "    <tr>\n",
       "      <th>25%</th>\n",
       "      <td>-73.993</td>\n",
       "      <td>40.736</td>\n",
       "      <td>-73.991</td>\n",
       "      <td>40.735</td>\n",
       "      <td>1.000</td>\n",
       "    </tr>\n",
       "    <tr>\n",
       "      <th>50%</th>\n",
       "      <td>-73.982</td>\n",
       "      <td>40.753</td>\n",
       "      <td>-73.980</td>\n",
       "      <td>40.754</td>\n",
       "      <td>1.000</td>\n",
       "    </tr>\n",
       "    <tr>\n",
       "      <th>75%</th>\n",
       "      <td>-73.968</td>\n",
       "      <td>40.767</td>\n",
       "      <td>-73.964</td>\n",
       "      <td>40.769</td>\n",
       "      <td>2.000</td>\n",
       "    </tr>\n",
       "    <tr>\n",
       "      <th>max</th>\n",
       "      <td>-72.987</td>\n",
       "      <td>41.710</td>\n",
       "      <td>-72.991</td>\n",
       "      <td>41.697</td>\n",
       "      <td>6.000</td>\n",
       "    </tr>\n",
       "  </tbody>\n",
       "</table>\n",
       "</div>"
      ],
      "text/plain": [
       "       pickup_longitude  pickup_latitude  dropoff_longitude  dropoff_latitude  \\\n",
       "count          9914.000         9914.000           9914.000          9914.000   \n",
       "mean            -73.975           40.751            -73.974            40.752   \n",
       "std               0.043            0.034              0.039             0.035   \n",
       "min             -74.252           40.573            -74.263            40.569   \n",
       "25%             -73.993           40.736            -73.991            40.735   \n",
       "50%             -73.982           40.753            -73.980            40.754   \n",
       "75%             -73.968           40.767            -73.964            40.769   \n",
       "max             -72.987           41.710            -72.991            41.697   \n",
       "\n",
       "       passenger_count  \n",
       "count         9914.000  \n",
       "mean             1.671  \n",
       "std              1.279  \n",
       "min              1.000  \n",
       "25%              1.000  \n",
       "50%              1.000  \n",
       "75%              2.000  \n",
       "max              6.000  "
      ]
     },
     "execution_count": 21,
     "metadata": {},
     "output_type": "execute_result"
    }
   ],
   "source": [
    "test_df.describe()"
   ]
  },
  {
   "cell_type": "code",
   "execution_count": 22,
   "id": "parallel-spyware",
   "metadata": {},
   "outputs": [],
   "source": [
    "df1 = df1[((df1['pickup_longitude'] > -75) & (df1['pickup_longitude'] < -72)) & ((df1['pickup_latitude'] > 40) & (df1['pickup_latitude'] < 42)) & ((df1['dropoff_longitude'] > -75) & (df1['dropoff_longitude'] < -72)) & ((df1['dropoff_latitude'] > 40) & (df1['dropoff_latitude'] < 42))]"
   ]
  },
  {
   "cell_type": "code",
   "execution_count": 23,
   "id": "detailed-worry",
   "metadata": {},
   "outputs": [
    {
     "data": {
      "text/plain": [
       "<AxesSubplot:xlabel='pickup_longitude'>"
      ]
     },
     "execution_count": 23,
     "metadata": {},
     "output_type": "execute_result"
    },
    {
     "data": {
      "image/png": "[encoded data removed]",
      "text/plain": [
       "<Figure size 864x576 with 2 Axes>"
      ]
     },
     "metadata": {
      "needs_background": "light"
     },
     "output_type": "display_data"
    }
   ],
   "source": [
    "# looking at range of pickup latitude and longitude in test set\n",
    "fig,ax = plt.subplots(2,figsize = (12,8))\n",
    "sns.boxplot(df1['pickup_latitude'],ax = ax[0])\n",
    "sns.boxplot(df1['pickup_longitude'],ax = ax[1])"
   ]
  },
  {
   "cell_type": "markdown",
   "id": "divine-storm",
   "metadata": {},
   "source": [
    "#### Drop unrealistic cab fares\n",
    "Drop negative cab fares"
   ]
  },
  {
   "cell_type": "code",
   "execution_count": 24,
   "id": "expired-agency",
   "metadata": {
    "scrolled": true
   },
   "outputs": [],
   "source": [
    "df1 = df1.drop(df1[df1['fare_amount'] <= 0].index)"
   ]
  },
  {
   "cell_type": "markdown",
   "id": "juvenile-waste",
   "metadata": {},
   "source": [
    "#### Drop unrealistic passenger count"
   ]
  },
  {
   "cell_type": "code",
   "execution_count": 25,
   "id": "secure-priest",
   "metadata": {
    "scrolled": false
   },
   "outputs": [
    {
     "data": {
      "text/plain": [
       "<AxesSubplot:xlabel='passenger_count'>"
      ]
     },
     "execution_count": 25,
     "metadata": {},
     "output_type": "execute_result"
    },
    {
     "data": {
      "image/png": "[encoded data removed]",
      "text/plain": [
       "<Figure size 864x576 with 1 Axes>"
      ]
     },
     "metadata": {
      "needs_background": "light"
     },
     "output_type": "display_data"
    }
   ],
   "source": [
    "fig,ax = plt.subplots(figsize = (12,8))\n",
    "sns.boxplot(df1['passenger_count'])"
   ]
  },
  {
   "cell_type": "code",
   "execution_count": 26,
   "id": "foster-cologne",
   "metadata": {},
   "outputs": [
    {
     "data": {
      "text/html": [
       "<div>\n",
       "<style scoped>\n",
       "    .dataframe tbody tr th:only-of-type {\n",
       "        vertical-align: middle;\n",
       "    }\n",
       "\n",
       "    .dataframe tbody tr th {\n",
       "        vertical-align: top;\n",
       "    }\n",
       "\n",
       "    .dataframe thead th {\n",
       "        text-align: right;\n",
       "    }\n",
       "</style>\n",
       "<table border=\"1\" class=\"dataframe\">\n",
       "  <thead>\n",
       "    <tr style=\"text-align: right;\">\n",
       "      <th></th>\n",
       "      <th>key</th>\n",
       "      <th>fare_amount</th>\n",
       "      <th>pickup_datetime</th>\n",
       "      <th>pickup_longitude</th>\n",
       "      <th>pickup_latitude</th>\n",
       "      <th>dropoff_longitude</th>\n",
       "      <th>dropoff_latitude</th>\n",
       "      <th>passenger_count</th>\n",
       "    </tr>\n",
       "  </thead>\n",
       "  <tbody>\n",
       "    <tr>\n",
       "      <th>3107489</th>\n",
       "      <td>2009-05-12 14:50:00.000000175</td>\n",
       "      <td>2.700</td>\n",
       "      <td>2009-05-12 14:50:00 UTC</td>\n",
       "      <td>-73.938</td>\n",
       "      <td>40.758</td>\n",
       "      <td>-73.938</td>\n",
       "      <td>40.758</td>\n",
       "      <td>208.000</td>\n",
       "    </tr>\n",
       "    <tr>\n",
       "      <th>3323791</th>\n",
       "      <td>2011-08-27 01:24:00.000000168</td>\n",
       "      <td>8.500</td>\n",
       "      <td>2011-08-27 01:24:00 UTC</td>\n",
       "      <td>-73.988</td>\n",
       "      <td>40.760</td>\n",
       "      <td>-74.001</td>\n",
       "      <td>40.752</td>\n",
       "      <td>129.000</td>\n",
       "    </tr>\n",
       "    <tr>\n",
       "      <th>4432483</th>\n",
       "      <td>2009-05-11 13:56:00.00000088</td>\n",
       "      <td>11.100</td>\n",
       "      <td>2009-05-11 13:56:00 UTC</td>\n",
       "      <td>-73.938</td>\n",
       "      <td>40.758</td>\n",
       "      <td>-73.938</td>\n",
       "      <td>40.758</td>\n",
       "      <td>208.000</td>\n",
       "    </tr>\n",
       "    <tr>\n",
       "      <th>7001143</th>\n",
       "      <td>2009-02-26 08:29:00.000000201</td>\n",
       "      <td>2.700</td>\n",
       "      <td>2009-02-26 08:29:00 UTC</td>\n",
       "      <td>-73.938</td>\n",
       "      <td>40.758</td>\n",
       "      <td>-73.938</td>\n",
       "      <td>40.758</td>\n",
       "      <td>208.000</td>\n",
       "    </tr>\n",
       "    <tr>\n",
       "      <th>13968321</th>\n",
       "      <td>2010-03-23 13:22:00.00000022</td>\n",
       "      <td>7.100</td>\n",
       "      <td>2010-03-23 13:22:00 UTC</td>\n",
       "      <td>-73.937</td>\n",
       "      <td>40.758</td>\n",
       "      <td>-73.937</td>\n",
       "      <td>40.758</td>\n",
       "      <td>208.000</td>\n",
       "    </tr>\n",
       "    <tr>\n",
       "      <th>20520151</th>\n",
       "      <td>2010-12-29 12:33:00.00000081</td>\n",
       "      <td>3.300</td>\n",
       "      <td>2010-12-29 12:33:00 UTC</td>\n",
       "      <td>-73.938</td>\n",
       "      <td>40.759</td>\n",
       "      <td>-73.938</td>\n",
       "      <td>40.759</td>\n",
       "      <td>208.000</td>\n",
       "    </tr>\n",
       "    <tr>\n",
       "      <th>21714169</th>\n",
       "      <td>2009-07-06 22:53:00.00000013</td>\n",
       "      <td>2.700</td>\n",
       "      <td>2009-07-06 22:53:00 UTC</td>\n",
       "      <td>-73.938</td>\n",
       "      <td>40.758</td>\n",
       "      <td>-73.938</td>\n",
       "      <td>40.758</td>\n",
       "      <td>208.000</td>\n",
       "    </tr>\n",
       "    <tr>\n",
       "      <th>29039055</th>\n",
       "      <td>2009-05-04 23:08:00.00000058</td>\n",
       "      <td>7.100</td>\n",
       "      <td>2009-05-04 23:08:00 UTC</td>\n",
       "      <td>-73.938</td>\n",
       "      <td>40.758</td>\n",
       "      <td>-73.938</td>\n",
       "      <td>40.758</td>\n",
       "      <td>208.000</td>\n",
       "    </tr>\n",
       "    <tr>\n",
       "      <th>29716980</th>\n",
       "      <td>2009-05-12 14:59:00.00000051</td>\n",
       "      <td>2.700</td>\n",
       "      <td>2009-05-12 14:59:00 UTC</td>\n",
       "      <td>-73.938</td>\n",
       "      <td>40.758</td>\n",
       "      <td>-73.938</td>\n",
       "      <td>40.758</td>\n",
       "      <td>208.000</td>\n",
       "    </tr>\n",
       "    <tr>\n",
       "      <th>30513469</th>\n",
       "      <td>2009-03-17 14:22:00.00000075</td>\n",
       "      <td>2.900</td>\n",
       "      <td>2009-03-17 14:22:00 UTC</td>\n",
       "      <td>-73.938</td>\n",
       "      <td>40.758</td>\n",
       "      <td>-73.938</td>\n",
       "      <td>40.758</td>\n",
       "      <td>208.000</td>\n",
       "    </tr>\n",
       "    <tr>\n",
       "      <th>31898309</th>\n",
       "      <td>2009-05-15 05:52:00.00000014</td>\n",
       "      <td>18.500</td>\n",
       "      <td>2009-05-15 05:52:00 UTC</td>\n",
       "      <td>-73.938</td>\n",
       "      <td>40.758</td>\n",
       "      <td>-73.938</td>\n",
       "      <td>40.758</td>\n",
       "      <td>208.000</td>\n",
       "    </tr>\n",
       "    <tr>\n",
       "      <th>35893772</th>\n",
       "      <td>2010-12-28 08:20:00.0000001</td>\n",
       "      <td>11.700</td>\n",
       "      <td>2010-12-28 08:20:00 UTC</td>\n",
       "      <td>-73.938</td>\n",
       "      <td>40.758</td>\n",
       "      <td>-73.938</td>\n",
       "      <td>40.758</td>\n",
       "      <td>208.000</td>\n",
       "    </tr>\n",
       "  </tbody>\n",
       "</table>\n",
       "</div>"
      ],
      "text/plain": [
       "                                    key  fare_amount          pickup_datetime  \\\n",
       "3107489   2009-05-12 14:50:00.000000175        2.700  2009-05-12 14:50:00 UTC   \n",
       "3323791   2011-08-27 01:24:00.000000168        8.500  2011-08-27 01:24:00 UTC   \n",
       "4432483    2009-05-11 13:56:00.00000088       11.100  2009-05-11 13:56:00 UTC   \n",
       "7001143   2009-02-26 08:29:00.000000201        2.700  2009-02-26 08:29:00 UTC   \n",
       "13968321   2010-03-23 13:22:00.00000022        7.100  2010-03-23 13:22:00 UTC   \n",
       "20520151   2010-12-29 12:33:00.00000081        3.300  2010-12-29 12:33:00 UTC   \n",
       "21714169   2009-07-06 22:53:00.00000013        2.700  2009-07-06 22:53:00 UTC   \n",
       "29039055   2009-05-04 23:08:00.00000058        7.100  2009-05-04 23:08:00 UTC   \n",
       "29716980   2009-05-12 14:59:00.00000051        2.700  2009-05-12 14:59:00 UTC   \n",
       "30513469   2009-03-17 14:22:00.00000075        2.900  2009-03-17 14:22:00 UTC   \n",
       "31898309   2009-05-15 05:52:00.00000014       18.500  2009-05-15 05:52:00 UTC   \n",
       "35893772    2010-12-28 08:20:00.0000001       11.700  2010-12-28 08:20:00 UTC   \n",
       "\n",
       "          pickup_longitude  pickup_latitude  dropoff_longitude  \\\n",
       "3107489            -73.938           40.758            -73.938   \n",
       "3323791            -73.988           40.760            -74.001   \n",
       "4432483            -73.938           40.758            -73.938   \n",
       "7001143            -73.938           40.758            -73.938   \n",
       "13968321           -73.937           40.758            -73.937   \n",
       "20520151           -73.938           40.759            -73.938   \n",
       "21714169           -73.938           40.758            -73.938   \n",
       "29039055           -73.938           40.758            -73.938   \n",
       "29716980           -73.938           40.758            -73.938   \n",
       "30513469           -73.938           40.758            -73.938   \n",
       "31898309           -73.938           40.758            -73.938   \n",
       "35893772           -73.938           40.758            -73.938   \n",
       "\n",
       "          dropoff_latitude  passenger_count  \n",
       "3107489             40.758          208.000  \n",
       "3323791             40.752          129.000  \n",
       "4432483             40.758          208.000  \n",
       "7001143             40.758          208.000  \n",
       "13968321            40.758          208.000  \n",
       "20520151            40.759          208.000  \n",
       "21714169            40.758          208.000  \n",
       "29039055            40.758          208.000  \n",
       "29716980            40.758          208.000  \n",
       "30513469            40.758          208.000  \n",
       "31898309            40.758          208.000  \n",
       "35893772            40.758          208.000  "
      ]
     },
     "execution_count": 26,
     "metadata": {},
     "output_type": "execute_result"
    }
   ],
   "source": [
    "df1[df1['passenger_count'] >50]"
   ]
  },
  {
   "cell_type": "code",
   "execution_count": 27,
   "id": "relevant-friendly",
   "metadata": {},
   "outputs": [],
   "source": [
    "# drop the 2 extreme values\n",
    "df1 = df1.drop(df1[df1['passenger_count'] > 50].index)"
   ]
  },
  {
   "cell_type": "markdown",
   "id": "further-blame",
   "metadata": {},
   "source": [
    "#### Drop unrealitstic fare amount"
   ]
  },
  {
   "cell_type": "code",
   "execution_count": 28,
   "id": "studied-liberty",
   "metadata": {
    "scrolled": false
   },
   "outputs": [
    {
     "data": {
      "text/plain": [
       "<AxesSubplot:xlabel='fare_amount'>"
      ]
     },
     "execution_count": 28,
     "metadata": {},
     "output_type": "execute_result"
    },
    {
     "data": {
      "image/png": "[encoded data removed]",
      "text/plain": [
       "<Figure size 864x576 with 1 Axes>"
      ]
     },
     "metadata": {
      "needs_background": "light"
     },
     "output_type": "display_data"
    }
   ],
   "source": [
    "fig,ax = plt.subplots(figsize = (12,8))\n",
    "sns.boxplot(df1['fare_amount'])"
   ]
  },
  {
   "cell_type": "code",
   "execution_count": 29,
   "id": "victorian-bidder",
   "metadata": {},
   "outputs": [],
   "source": [
    "# Assumption: cab fares are all below $200\n",
    "df1 = df1.drop(df1[df1['fare_amount'] > 200].index)"
   ]
  },
  {
   "cell_type": "markdown",
   "id": "funky-double",
   "metadata": {},
   "source": [
    "### Feature Engineering\n",
    "Changing datatypes and creating new fields"
   ]
  },
  {
   "cell_type": "code",
   "execution_count": 30,
   "id": "specified-parish",
   "metadata": {
    "scrolled": false
   },
   "outputs": [
    {
     "data": {
      "text/plain": [
       "0   2009-06-15 17:26:00\n",
       "1   2010-01-05 16:52:00\n",
       "2   2011-08-18 00:35:00\n",
       "3   2012-04-21 04:30:00\n",
       "4   2010-03-09 07:51:00\n",
       "Name: pickup_datetime, dtype: datetime64[ns]"
      ]
     },
     "execution_count": 30,
     "metadata": {},
     "output_type": "execute_result"
    }
   ],
   "source": [
    "pd.to_datetime(pd.to_datetime(df1.head()['pickup_datetime']).dt.strftime(\"%Y-%m-%d %H:%M\"))"
   ]
  },
  {
   "cell_type": "code",
   "execution_count": 31,
   "id": "linear-virus",
   "metadata": {},
   "outputs": [],
   "source": [
    "# changing date column to datetime(ns) \n",
    "df1['pickup_datetime'] = pd.to_datetime(pd.to_datetime(df1['pickup_datetime']).dt.strftime(\"%Y-%m-%d %H:%M\"))\n",
    "test_df['pickup_datetime'] = pd.to_datetime(pd.to_datetime(test_df['pickup_datetime']).dt.strftime(\"%Y-%m-%d %H:%M\"))"
   ]
  },
  {
   "cell_type": "code",
   "execution_count": 32,
   "id": "powerful-wings",
   "metadata": {},
   "outputs": [],
   "source": [
    "# Creating separate fields for year, month, weekday and hour\n",
    "# train set:\n",
    "df1['year'] = df1['pickup_datetime'].dt.year\n",
    "df1['month'] = df1['pickup_datetime'].dt.month\n",
    "df1['day'] = df1['pickup_datetime'].dt.day\n",
    "df1['weekday'] = df1['pickup_datetime'].dt.weekday\n",
    "df1['hour'] = df1['pickup_datetime'].dt.hour\n",
    "df1['min'] = df1['pickup_datetime'].dt.minute\n",
    "\n",
    "# test set:\n",
    "test_df['year'] = test_df['pickup_datetime'].dt.year\n",
    "test_df['month'] = test_df['pickup_datetime'].dt.month\n",
    "test_df['day'] = test_df['pickup_datetime'].dt.day\n",
    "test_df['weekday'] = test_df['pickup_datetime'].dt.weekday\n",
    "test_df['hour'] = test_df['pickup_datetime'].dt.hour\n",
    "test_df['min'] = test_df['pickup_datetime'].dt.minute"
   ]
  },
  {
   "cell_type": "markdown",
   "id": "floral-flower",
   "metadata": {},
   "source": [
    "#### `distance`\n",
    "Converting longitudes, latitudes into distance in km "
   ]
  },
  {
   "cell_type": "code",
   "execution_count": 33,
   "id": "empty-banana",
   "metadata": {},
   "outputs": [],
   "source": [
    "# define haversine formula to convert points to distance in km\n",
    "def haversine(df2):\n",
    "    \"\"\"\n",
    "    Calculate the great circle distance between two points \n",
    "    on the earth (specified in decimal degrees)\n",
    "    \"\"\"\n",
    "    # convert decimal degrees to radians \n",
    "    lon1 = df2['pickup_longitude']\n",
    "    lon2 = df2['dropoff_longitude']\n",
    "    lat1 = df2['pickup_latitude']\n",
    "    lat2 = df2['dropoff_latitude']\n",
    "    \n",
    "    lon1, lat1, lon2, lat2 = map(radians, [lon1, lat1, lon2, lat2])\n",
    "\n",
    "    # haversine formula \n",
    "    dlon = lon2 - lon1 \n",
    "    dlat = lat2 - lat1 \n",
    "    a = sin(dlat/2)**2 + cos(lat1) * cos(lat2) * sin(dlon/2)**2\n",
    "    c = 2 * asin(sqrt(a)) \n",
    "    r = 6371 # Radius of earth in kilometers.\n",
    "    return c * r"
   ]
  },
  {
   "cell_type": "code",
   "execution_count": 34,
   "id": "identified-qualification",
   "metadata": {
    "scrolled": false
   },
   "outputs": [],
   "source": [
    "# apply formula to get distance column\n",
    "df1['distance'] = df1.apply(haversine,axis = 1)"
   ]
  },
  {
   "cell_type": "markdown",
   "id": "noted-biography",
   "metadata": {},
   "source": [
    "Since `distance` is enough to encapsulate the relationship between distance travelled and cab fare, other dependent features eg longitude and latitude features can be dropped."
   ]
  },
  {
   "cell_type": "code",
   "execution_count": 35,
   "id": "opposed-chair",
   "metadata": {},
   "outputs": [],
   "source": [
    "# Dropping correlated and redundant columns\n",
    "df2 = df1.copy()\n",
    "df2 = df2.drop(columns = ['pickup_latitude','pickup_longitude','dropoff_latitude','dropoff_longitude'])"
   ]
  },
  {
   "cell_type": "code",
   "execution_count": 36,
   "id": "affiliated-colorado",
   "metadata": {},
   "outputs": [],
   "source": [
    "# doing the same for the test set\n",
    "test_df['distance'] = test_df.apply(haversine,axis = 1)\n",
    "\n",
    "# Dropping correlated and redudant columns\n",
    "test_df = test_df.drop(columns = ['pickup_latitude','pickup_longitude','dropoff_latitude','dropoff_longitude'])"
   ]
  },
  {
   "cell_type": "markdown",
   "id": "micro-challenge",
   "metadata": {},
   "source": [
    "### Data Visualization"
   ]
  },
  {
   "cell_type": "code",
   "execution_count": 36,
   "id": "secondary-dancing",
   "metadata": {
    "scrolled": true
   },
   "outputs": [
    {
     "data": {
      "text/plain": [
       "<AxesSubplot:>"
      ]
     },
     "execution_count": 36,
     "metadata": {},
     "output_type": "execute_result"
    },
    {
     "data": {
      "image/png": "[encoded data removed]",
      "text/plain": [
       "<Figure size 864x576 with 2 Axes>"
      ]
     },
     "metadata": {
      "needs_background": "light"
     },
     "output_type": "display_data"
    }
   ],
   "source": [
    "# to visualize correlation betwen variables\n",
    "mask = np.triu(np.ones_like(df2.corr(),dtype = bool))\n",
    "fig,ax = plt.subplots(figsize = (12,8))\n",
    "cmap = sns.diverging_palette(230, 20, as_cmap=True)\n",
    "sns.heatmap(df2.corr(),ax = ax,annot = True,cmap = cmap,mask = mask)"
   ]
  },
  {
   "cell_type": "code",
   "execution_count": 37,
   "id": "successful-first",
   "metadata": {
    "scrolled": false
   },
   "outputs": [
    {
     "data": {
      "text/plain": [
       "<AxesSubplot:xlabel='month', ylabel='fare_amount'>"
      ]
     },
     "execution_count": 37,
     "metadata": {},
     "output_type": "execute_result"
    },
    {
     "data": {
      "image/png": "[encoded data removed]",
      "text/plain": [
       "<Figure size 864x576 with 2 Axes>"
      ]
     },
     "metadata": {
      "needs_background": "light"
     },
     "output_type": "display_data"
    }
   ],
   "source": [
    "# Spread of variables\n",
    "fig,ax = plt.subplots(2,figsize = (12,8))\n",
    "sns.violinplot(y = df2['fare_amount'],x = df2['year'],ax = ax[0])\n",
    "sns.violinplot(y = df2['fare_amount'],x = df2['month'],ax = ax[1])"
   ]
  },
  {
   "cell_type": "code",
   "execution_count": 38,
   "id": "square-treaty",
   "metadata": {},
   "outputs": [
    {
     "data": {
      "text/plain": [
       "<AxesSubplot:xlabel='month', ylabel='fare_amount'>"
      ]
     },
     "execution_count": 38,
     "metadata": {},
     "output_type": "execute_result"
    },
    {
     "data": {
      "image/png": "[encoded data removed]",
      "text/plain": [
       "<Figure size 864x576 with 2 Axes>"
      ]
     },
     "metadata": {
      "needs_background": "light"
     },
     "output_type": "display_data"
    }
   ],
   "source": [
    "# visualize number of trips\n",
    "fig,ax = plt.subplots(2,figsize = (12,8))\n",
    "sns.barplot(y = df2['fare_amount'],x = df2['year'],ax = ax[0],palette = 'Set2')\n",
    "sns.barplot(y = df2['fare_amount'],x = df2['month'],ax = ax[1],palette = 'Set2')"
   ]
  },
  {
   "cell_type": "code",
   "execution_count": 37,
   "id": "administrative-sierra",
   "metadata": {},
   "outputs": [],
   "source": [
    "# save cleaned data as a separate csv\n",
    "\n",
    "df2.to_csv('../data/distanced_train.csv',index = False)\n",
    "test_df.to_csv('../data/distanced_test.csv',index = False)"
   ]
  },
  {
   "cell_type": "code",
   "execution_count": 2,
   "id": "charitable-monthly",
   "metadata": {
    "scrolled": true
   },
   "outputs": [],
   "source": [
    "df2 = pd.read_csv('../data/distanced_train.csv')\n",
    "test_df = pd.read_csv('../data/distanced_test.csv')"
   ]
  },
  {
   "cell_type": "markdown",
   "id": "taken-purchase",
   "metadata": {},
   "source": [
    "## Data modeling "
   ]
  },
  {
   "cell_type": "code",
   "execution_count": 15,
   "id": "dominican-warner",
   "metadata": {},
   "outputs": [],
   "source": [
    "# Separating predictor variables and target variable\n",
    "X = df2.drop(columns = ['fare_amount','key','pickup_datetime'])\n",
    "y = df2['fare_amount']"
   ]
  },
  {
   "cell_type": "code",
   "execution_count": 16,
   "id": "invisible-morrison",
   "metadata": {},
   "outputs": [],
   "source": [
    "X_train,X_test,y_train,y_test = train_test_split(X,y,random_state = 42)"
   ]
  },
  {
   "cell_type": "code",
   "execution_count": 19,
   "id": "animal-shooting",
   "metadata": {},
   "outputs": [
    {
     "name": "stdout",
     "output_type": "stream",
     "text": [
      "train: (29423631, 8)\n",
      "test: (29423631,)\n",
      "val train: (9807878, 8)\n",
      "val test: (9807878,)\n"
     ]
    }
   ],
   "source": [
    "# looking at rows, columns for train and validation set\n",
    "print(f'train: {X_train.shape}')\n",
    "print(f'test: {y_train.shape}')\n",
    "print(f'val train: {X_test.shape}')\n",
    "print(f'val test: {y_test.shape}')"
   ]
  },
  {
   "cell_type": "markdown",
   "id": "prostate-upgrade",
   "metadata": {},
   "source": [
    "### StandardScaler\n",
    "Normalize scales of features to improve accuracy of predictions especially if our variables are on different scales/magnitudes. This is because this would affect the performances of models that specifically rely on distance metrics(k-NN, PCA) as well as to speed up gradient descent convergence for deep neural networks during backpropagation. Mainly to ensure that every feature contributes equally to the models! "
   ]
  },
  {
   "cell_type": "code",
   "execution_count": 6,
   "id": "characteristic-bullet",
   "metadata": {
    "scrolled": false
   },
   "outputs": [
    {
     "data": {
      "text/html": [
       "<div>\n",
       "<style scoped>\n",
       "    .dataframe tbody tr th:only-of-type {\n",
       "        vertical-align: middle;\n",
       "    }\n",
       "\n",
       "    .dataframe tbody tr th {\n",
       "        vertical-align: top;\n",
       "    }\n",
       "\n",
       "    .dataframe thead th {\n",
       "        text-align: right;\n",
       "    }\n",
       "</style>\n",
       "<table border=\"1\" class=\"dataframe\">\n",
       "  <thead>\n",
       "    <tr style=\"text-align: right;\">\n",
       "      <th></th>\n",
       "      <th>passenger_count</th>\n",
       "      <th>year</th>\n",
       "      <th>month</th>\n",
       "      <th>day</th>\n",
       "      <th>weekday</th>\n",
       "      <th>hour</th>\n",
       "      <th>min</th>\n",
       "      <th>distance</th>\n",
       "    </tr>\n",
       "  </thead>\n",
       "  <tbody>\n",
       "    <tr>\n",
       "      <th>4006202</th>\n",
       "      <td>1.000</td>\n",
       "      <td>2011</td>\n",
       "      <td>10</td>\n",
       "      <td>8</td>\n",
       "      <td>5</td>\n",
       "      <td>14</td>\n",
       "      <td>6</td>\n",
       "      <td>4.883</td>\n",
       "    </tr>\n",
       "    <tr>\n",
       "      <th>8465934</th>\n",
       "      <td>2.000</td>\n",
       "      <td>2013</td>\n",
       "      <td>10</td>\n",
       "      <td>30</td>\n",
       "      <td>2</td>\n",
       "      <td>16</td>\n",
       "      <td>33</td>\n",
       "      <td>1.444</td>\n",
       "    </tr>\n",
       "    <tr>\n",
       "      <th>37590864</th>\n",
       "      <td>6.000</td>\n",
       "      <td>2012</td>\n",
       "      <td>4</td>\n",
       "      <td>30</td>\n",
       "      <td>0</td>\n",
       "      <td>13</td>\n",
       "      <td>55</td>\n",
       "      <td>2.780</td>\n",
       "    </tr>\n",
       "    <tr>\n",
       "      <th>35382817</th>\n",
       "      <td>1.000</td>\n",
       "      <td>2012</td>\n",
       "      <td>5</td>\n",
       "      <td>17</td>\n",
       "      <td>3</td>\n",
       "      <td>8</td>\n",
       "      <td>41</td>\n",
       "      <td>1.919</td>\n",
       "    </tr>\n",
       "    <tr>\n",
       "      <th>14327767</th>\n",
       "      <td>2.000</td>\n",
       "      <td>2010</td>\n",
       "      <td>12</td>\n",
       "      <td>5</td>\n",
       "      <td>6</td>\n",
       "      <td>5</td>\n",
       "      <td>4</td>\n",
       "      <td>2.187</td>\n",
       "    </tr>\n",
       "  </tbody>\n",
       "</table>\n",
       "</div>"
      ],
      "text/plain": [
       "          passenger_count  year  month  day  weekday  hour  min  distance\n",
       "4006202             1.000  2011     10    8        5    14    6     4.883\n",
       "8465934             2.000  2013     10   30        2    16   33     1.444\n",
       "37590864            6.000  2012      4   30        0    13   55     2.780\n",
       "35382817            1.000  2012      5   17        3     8   41     1.919\n",
       "14327767            2.000  2010     12    5        6     5    4     2.187"
      ]
     },
     "execution_count": 6,
     "metadata": {},
     "output_type": "execute_result"
    }
   ],
   "source": [
    "X_train.head()"
   ]
  },
  {
   "cell_type": "code",
   "execution_count": 17,
   "id": "stretch-taxation",
   "metadata": {},
   "outputs": [],
   "source": [
    "# scale data\n",
    "ss = StandardScaler()\n",
    "ss.fit(X_train)\n",
    "X_train_ss = ss.transform(X_train)\n",
    "X_test_ss = ss.transform(X_test)"
   ]
  },
  {
   "cell_type": "code",
   "execution_count": 8,
   "id": "received-sunday",
   "metadata": {},
   "outputs": [],
   "source": [
    "def get_models(models=dict()):\n",
    "# linear models\n",
    "    models['lr'] = LinearRegression()\n",
    "    models['lasso'] = Lasso()\n",
    "    models['ridge'] = Ridge()\n",
    "    models['en'] = ElasticNet()\n",
    "    models['huber'] = HuberRegressor()\n",
    "    models['pa'] = PassiveAggressiveRegressor(max_iter=1000, tol=1e-3)\n",
    "   \n",
    "    return models\n",
    "\n",
    "# def get_models_nl(models=dict()):\n",
    "# # non-linear models\n",
    "#     models['svr'] = SVR()\n",
    "# # ensemble models\n",
    "#     n_trees = 100\n",
    "#     models['ada'] = AdaBoostRegressor(n_estimators=n_trees)\n",
    "#     models['bag'] = BaggingRegressor(n_estimators=n_trees)\n",
    "#     models['rf'] = RandomForestRegressor(n_estimators=n_trees)\n",
    "#     models['et'] = ExtraTreesRegressor(n_estimators=n_trees)\n",
    "#     models['gbm'] = GradientBoostingRegressor(n_estimators=n_trees)\n",
    "#     return models\n",
    "\n",
    "def evaluate_models(models, X_train_ss,y_train,X_test_ss,y_test):\n",
    "    for name, model in models.items():\n",
    "    # fit models\n",
    "        model_fit = model.fit(X_train_ss,y_train)\n",
    "        # make predictions\n",
    "        train_preds = model_fit.predict(X_train_ss)\n",
    "        test_preds = model_fit.predict(X_test_ss)\n",
    "        # evaluate forecast\n",
    "        train_mse = mean_squared_error(y_train,train_preds)\n",
    "        test_mse = mean_squared_error(y_test,test_preds)\n",
    "        print(f'{name}:')\n",
    "        print(f'----')\n",
    "        print(f'Train MAE: {round(train_mse,2)}')\n",
    "        print(f'Test MAE: {round(test_mse,2)}')\n",
    "        print(f'\\n')\n",
    "        \n",
    "def pipeline(model):\n",
    "    pipe = Pipeline([(model, model_dict[model])])\n",
    "    return pipe\n",
    "\n",
    "def params(model):\n",
    "    \n",
    "\n",
    "    if model == 'lasso':\n",
    "        return {\"alpha\":[0.01,0.1,1,2,5,10],\n",
    "               }\n",
    "    \n",
    "    \n",
    "    elif model == 'ridge':\n",
    "        return {\n",
    "            \"alpha\":[0.01,0.1,1,2,5,10],\n",
    "            }\n",
    "    \n",
    "    elif model == 'en':\n",
    "        return {\n",
    "            'alpha':[0.01,0.1,1,10],\n",
    "            'l1_ratio':[0.2,0.3,0.4,0.5,0.6]\n",
    "            }\n",
    "    elif model == 'knn':\n",
    "        return {\n",
    "            'n_neighbors':[4,5,6,7]}\n",
    "\n",
    "    elif model == 'dt':\n",
    "        return {\n",
    "            'max_depth':[3,4,5],\n",
    "            'min_samples_split':[2,3,4],\n",
    "            'min_samples_leaf':[2,3,4]\n",
    "        }\n",
    "    elif model == 'bag':\n",
    "        return {\n",
    "            'max_features':[100, 150]\n",
    "        }\n",
    "        \n",
    "    elif model == 'rf':\n",
    "        return {\n",
    "            'n_estimators':[100,150],\n",
    "            'max_depth':[4],\n",
    "            'min_samples_leaf':[2,3,4]\n",
    "        }\n",
    "    elif model == 'et':\n",
    "        return {\n",
    "            'n_estimators':[50,100,150,200],\n",
    "            'max_depth':[1000,2000,3000],\n",
    "            'min_samples_leaf':[10000,20000,30000],\n",
    "        }\n",
    "    elif model == 'abc':\n",
    "        return {\n",
    "            'n_estimators':[50,100,150,200],\n",
    "            'learning_rate':[0.3,0.6,1]\n",
    "        }\n",
    "    elif model == 'gbc':\n",
    "        return {\n",
    "            'learning_rate':[0.2],\n",
    "            'max_depth':[1000,2000,3000],\n",
    "            'min_samples_split':[10000,20000,30000]\n",
    "            \n",
    "        }\n",
    "    elif model == 'xgb':\n",
    "        return {\n",
    "            'eval_metric' : ['auc'],\n",
    "            'subsample' : [0.8], \n",
    "            'colsample_bytree' : [0.5], \n",
    "            'learning_rate' : [0.1],\n",
    "            'max_depth' : [5], \n",
    "            'scale_pos_weight': [5], \n",
    "            'n_estimators' : [100,200],\n",
    "            'reg_alpha' : [0, 0.05],\n",
    "            'reg_lambda' : [2,3],\n",
    "            'gamma' : [0.01]\n",
    "                             \n",
    "        }\n",
    "#     elif model == 'svr':\n",
    "#         return {\n",
    "#             'kernel': ['rbf', 'linear','poly'], \n",
    "#             'C': [1,20,50,100],\n",
    "#             'gamma':['scale','auto'],\n",
    "#             'epsilon':[0.1,1,10]\n",
    "#         }\n",
    "#     elif model == 'ada':\n",
    "#         return {\n",
    "#             'n_estimators':[50,100,150],\n",
    "#             'learning_rate':[0.01,0.1,1],\n",
    "            \n",
    "#         }\n",
    "#     elif model == 'bag':\n",
    "#         return {\n",
    "#             'n_estimators':[20,50,100,150],\n",
    "#             'max_features':[2,4,6],\n",
    "#             'max_samples':[0.1,0.2,0.3,0.5,0.7],\n",
    "#             'bootstrap':[True]\n",
    "            \n",
    "#         }\n",
    "#     elif model == 'rf':\n",
    "#         return {\n",
    "#              'bootstrap': [True],\n",
    "#              'max_depth': [5,10,15],\n",
    "#              'max_features': [\"auto\", \"sqrt\", \"log2\"],\n",
    "#              'min_samples_leaf': [10000,20000,30000],\n",
    "#              'min_samples_split': [10000,20000,30000],\n",
    "#              'n_estimators': [50,200,300,400],\n",
    "#              'random_state': 42,\n",
    "#              }\n",
    "#     elif model == 'et':\n",
    "#         return {\n",
    "#              'bootstrap': [True],\n",
    "#              'max_depth': [5,10,15],\n",
    "#              'max_features': [\"auto\", \"sqrt\", \"log2\"],\n",
    "#              'min_samples_leaf': [10000,20000,30000],\n",
    "#              'min_samples_split': [10000,20000,30000],\n",
    "#              'n_estimators': [50,200,300,400],\n",
    "#              'random_state': 42,\n",
    "#         }\n",
    "            \n",
    "#     elif model == 'gbm':\n",
    "#         return {\n",
    "#             'learning_rate' : [0.1,0.3,0.6,1], \n",
    "#             'min_samples_split':[10000,20000,30000],\n",
    "#             'min_samples_leaf': [10000,20000,30000],\n",
    "#             'max_depth' : [8,10,20]\n",
    "#        }\n",
    "\n",
    "\n",
    "\n",
    "# grid search with randomizedsearchcv\n",
    "def grid_search_rs(model,models,X_train = X_train_ss,y_train = y_train,X_test = X_test_ss,y_test=y_test):\n",
    "    pipe_params = params(model)\n",
    "    model = models[model]\n",
    "    gs = RandomizedSearchCV(model,param_distributions = pipe_params,cv = 5,scoring = 'neg_mean_squared_error', verbose=True, n_jobs=8)\n",
    "    gs.fit(X_train_ss,y_train)\n",
    "    train_score = gs.score(X_train_ss,y_train)\n",
    "    test_score = gs.score(X_test_ss,y_test)\n",
    "    \n",
    "    print(f'Results from: {model}')\n",
    "    print(f'-----------------------------------')\n",
    "    print(f'Best Hyperparameters: {gs.best_params_}')\n",
    "    print(f'Mean MSE: {-round(gs.best_score_,4)}')\n",
    "    print(f'Train Score: {-round(train_score,4)}')\n",
    "    print(f'Test Score: {-round(test_score,4)}')\n",
    "    print(' ')"
   ]
  },
  {
   "cell_type": "markdown",
   "id": "metropolitan-newman",
   "metadata": {},
   "source": [
    "#### Linear Models"
   ]
  },
  {
   "cell_type": "code",
   "execution_count": 9,
   "id": "minus-license",
   "metadata": {
    "scrolled": true
   },
   "outputs": [
    {
     "name": "stdout",
     "output_type": "stream",
     "text": [
      "lr:\n",
      "----\n",
      "Train MAE: 83.33\n",
      "Test MAE: 83.31\n",
      "\n",
      "\n",
      "lasso:\n",
      "----\n",
      "Train MAE: 30.8\n",
      "Test MAE: 30.79\n",
      "\n",
      "\n",
      "ridge:\n",
      "----\n",
      "Train MAE: 28.78\n",
      "Test MAE: 28.77\n",
      "\n",
      "\n",
      "en:\n",
      "----\n",
      "Train MAE: 38.03\n",
      "Test MAE: 38.01\n",
      "\n",
      "\n",
      "huber:\n",
      "----\n",
      "Train MAE: 29.6\n",
      "Test MAE: 29.6\n",
      "\n",
      "\n",
      "pa:\n",
      "----\n",
      "Train MAE: 49.71\n",
      "Test MAE: 49.74\n",
      "\n",
      "\n"
     ]
    }
   ],
   "source": [
    "models = get_models()\n",
    "evaluate_models(models,X_train_ss,y_train,X_test_ss,y_test)"
   ]
  },
  {
   "cell_type": "code",
   "execution_count": 10,
   "id": "wired-identity",
   "metadata": {
    "scrolled": true
   },
   "outputs": [
    {
     "name": "stdout",
     "output_type": "stream",
     "text": [
      "Fitting 5 folds for each of 6 candidates, totalling 30 fits\n",
      "Results from: Ridge()\n",
      "-----------------------------------\n",
      "Best Hyperparameters: {'alpha': 10}\n",
      "Mean MSE: 28.7824\n",
      "Train Score: 28.7822\n",
      "Test Score: 28.774\n",
      " \n",
      "Wall time: 9min 4s\n"
     ]
    }
   ],
   "source": [
    "%time grid_search_rs(\"ridge\",models)"
   ]
  },
  {
   "cell_type": "markdown",
   "id": "naughty-municipality",
   "metadata": {},
   "source": [
    "#### Neural Nets"
   ]
  },
  {
   "cell_type": "code",
   "execution_count": 22,
   "id": "overall-gregory",
   "metadata": {
    "scrolled": true
   },
   "outputs": [
    {
     "name": "stdout",
     "output_type": "stream",
     "text": [
      "Epoch 1/100\n",
      "589/589 - 23s - loss: 53.5526 - mae: 3.7857 - val_loss: 27.6616 - val_mae: 2.3496\n",
      "Epoch 2/100\n",
      "589/589 - 22s - loss: 28.5421 - mae: 2.5317 - val_loss: 25.2718 - val_mae: 2.2748\n",
      "Epoch 3/100\n",
      "589/589 - 20s - loss: 26.1080 - mae: 2.4880 - val_loss: 22.8939 - val_mae: 2.2293\n",
      "Epoch 4/100\n",
      "589/589 - 20s - loss: 24.1751 - mae: 2.3981 - val_loss: 21.5085 - val_mae: 2.1775\n",
      "Epoch 5/100\n",
      "589/589 - 20s - loss: 23.1160 - mae: 2.3346 - val_loss: 21.0704 - val_mae: 2.2275\n",
      "Epoch 6/100\n",
      "589/589 - 20s - loss: 22.5486 - mae: 2.3205 - val_loss: 20.7485 - val_mae: 2.2071\n",
      "Epoch 7/100\n",
      "589/589 - 20s - loss: 22.0054 - mae: 2.3035 - val_loss: 20.5524 - val_mae: 2.2121\n",
      "Epoch 8/100\n",
      "589/589 - 20s - loss: 21.6340 - mae: 2.2854 - val_loss: 20.4705 - val_mae: 2.2231\n",
      "Epoch 9/100\n",
      "589/589 - 20s - loss: 21.4473 - mae: 2.2699 - val_loss: 20.4508 - val_mae: 2.2258\n",
      "Epoch 10/100\n",
      "589/589 - 20s - loss: 21.2982 - mae: 2.2565 - val_loss: 20.4397 - val_mae: 2.2493\n",
      "Epoch 11/100\n",
      "589/589 - 20s - loss: 21.1646 - mae: 2.2446 - val_loss: 20.4577 - val_mae: 2.2743\n",
      "Epoch 12/100\n",
      "589/589 - 21s - loss: 21.0381 - mae: 2.2337 - val_loss: 20.3100 - val_mae: 2.2068\n",
      "Epoch 13/100\n",
      "589/589 - 20s - loss: 20.9361 - mae: 2.2260 - val_loss: 20.2959 - val_mae: 2.2397\n",
      "Epoch 14/100\n",
      "589/589 - 20s - loss: 20.8439 - mae: 2.2210 - val_loss: 20.2088 - val_mae: 2.2177\n",
      "Epoch 15/100\n",
      "589/589 - 20s - loss: 20.7727 - mae: 2.2174 - val_loss: 20.2323 - val_mae: 2.2466\n",
      "Epoch 16/100\n",
      "589/589 - 21s - loss: 20.7106 - mae: 2.2148 - val_loss: 20.1243 - val_mae: 2.1896\n",
      "Epoch 17/100\n",
      "589/589 - 21s - loss: 20.6616 - mae: 2.2119 - val_loss: 20.0919 - val_mae: 2.1755\n",
      "Epoch 18/100\n",
      "589/589 - 21s - loss: 20.6130 - mae: 2.2091 - val_loss: 20.0447 - val_mae: 2.1603\n",
      "Epoch 19/100\n",
      "589/589 - 22s - loss: 20.5715 - mae: 2.2067 - val_loss: 20.0186 - val_mae: 2.1778\n",
      "Epoch 20/100\n",
      "589/589 - 22s - loss: 20.5216 - mae: 2.2038 - val_loss: 20.0607 - val_mae: 2.1978\n",
      "Epoch 21/100\n",
      "589/589 - 20s - loss: 20.4654 - mae: 2.2002 - val_loss: 20.0330 - val_mae: 2.1996\n",
      "Epoch 22/100\n",
      "589/589 - 22s - loss: 20.4026 - mae: 2.1971 - val_loss: 19.9872 - val_mae: 2.1799\n",
      "Epoch 23/100\n",
      "589/589 - 20s - loss: 20.3835 - mae: 2.1952 - val_loss: 20.0296 - val_mae: 2.2129\n",
      "Epoch 24/100\n",
      "589/589 - 19s - loss: 20.3508 - mae: 2.1930 - val_loss: 19.9699 - val_mae: 2.1880\n",
      "Epoch 25/100\n",
      "589/589 - 18s - loss: 20.3191 - mae: 2.1912 - val_loss: 20.0159 - val_mae: 2.1944\n",
      "Epoch 26/100\n",
      "589/589 - 19s - loss: 20.2915 - mae: 2.1890 - val_loss: 19.9967 - val_mae: 2.2069\n",
      "Epoch 27/100\n",
      "589/589 - 19s - loss: 20.2533 - mae: 2.1858 - val_loss: 19.9820 - val_mae: 2.2012\n",
      "Epoch 28/100\n",
      "589/589 - 19s - loss: 20.2104 - mae: 2.1827 - val_loss: 19.9661 - val_mae: 2.1720\n",
      "Epoch 29/100\n",
      "589/589 - 19s - loss: 20.1663 - mae: 2.1785 - val_loss: 19.9705 - val_mae: 2.1738\n",
      "Epoch 30/100\n",
      "589/589 - 19s - loss: 20.1098 - mae: 2.1750 - val_loss: 19.9490 - val_mae: 2.1578\n",
      "Epoch 31/100\n",
      "589/589 - 20s - loss: 20.0795 - mae: 2.1726 - val_loss: 20.1626 - val_mae: 2.1529\n",
      "Epoch 32/100\n",
      "589/589 - 20s - loss: 20.0417 - mae: 2.1698 - val_loss: 20.0196 - val_mae: 2.1248\n",
      "Epoch 33/100\n",
      "589/589 - 19s - loss: 20.0053 - mae: 2.1678 - val_loss: 19.9951 - val_mae: 2.1318\n",
      "Epoch 34/100\n",
      "589/589 - 19s - loss: 19.9602 - mae: 2.1658 - val_loss: 20.1752 - val_mae: 2.1044\n",
      "Epoch 35/100\n",
      "589/589 - 19s - loss: 19.8987 - mae: 2.1599 - val_loss: 20.2171 - val_mae: 2.0701\n",
      "Epoch 36/100\n",
      "589/589 - 20s - loss: 19.8476 - mae: 2.1565 - val_loss: 20.3472 - val_mae: 2.0909\n",
      "Epoch 37/100\n",
      "589/589 - 20s - loss: 19.8131 - mae: 2.1540 - val_loss: 20.2966 - val_mae: 2.0906\n",
      "Epoch 38/100\n",
      "589/589 - 20s - loss: 19.7806 - mae: 2.1516 - val_loss: 20.4589 - val_mae: 2.0877\n",
      "Epoch 39/100\n",
      "589/589 - 20s - loss: 19.7571 - mae: 2.1495 - val_loss: 20.5010 - val_mae: 2.0909\n",
      "Epoch 40/100\n",
      "589/589 - 20s - loss: 19.7258 - mae: 2.1471 - val_loss: 20.6233 - val_mae: 2.1141\n",
      "Epoch 41/100\n",
      "589/589 - 20s - loss: 19.6975 - mae: 2.1447 - val_loss: 20.5194 - val_mae: 2.0947\n",
      "Epoch 42/100\n",
      "589/589 - 20s - loss: 19.6715 - mae: 2.1428 - val_loss: 20.5157 - val_mae: 2.1103\n",
      "Epoch 43/100\n",
      "589/589 - 20s - loss: 19.6422 - mae: 2.1402 - val_loss: 20.7097 - val_mae: 2.1062\n",
      "Epoch 44/100\n",
      "589/589 - 20s - loss: 19.6094 - mae: 2.1363 - val_loss: 20.7424 - val_mae: 2.1254\n",
      "Epoch 45/100\n",
      "589/589 - 20s - loss: 19.5800 - mae: 2.1334 - val_loss: 20.7061 - val_mae: 2.1484\n",
      "Epoch 46/100\n",
      "589/589 - 21s - loss: 19.5584 - mae: 2.1319 - val_loss: 20.8779 - val_mae: 2.1395\n",
      "Epoch 47/100\n",
      "589/589 - 19s - loss: 19.5400 - mae: 2.1305 - val_loss: 20.8540 - val_mae: 2.1210\n",
      "Epoch 48/100\n",
      "589/589 - 21s - loss: 19.5340 - mae: 2.1293 - val_loss: 20.9157 - val_mae: 2.1478\n",
      "Epoch 49/100\n",
      "589/589 - 20s - loss: 19.5143 - mae: 2.1280 - val_loss: 20.8347 - val_mae: 2.1150\n",
      "Epoch 50/100\n",
      "589/589 - 23s - loss: 19.5057 - mae: 2.1270 - val_loss: 21.1105 - val_mae: 2.1576\n",
      "Epoch 51/100\n",
      "589/589 - 25s - loss: 19.5030 - mae: 2.1267 - val_loss: 20.7692 - val_mae: 2.1242\n",
      "Epoch 52/100\n",
      "589/589 - 21s - loss: 19.4921 - mae: 2.1257 - val_loss: 21.0336 - val_mae: 2.1518\n",
      "Epoch 53/100\n",
      "589/589 - 23s - loss: 19.4745 - mae: 2.1252 - val_loss: 21.2655 - val_mae: 2.1623\n",
      "Epoch 54/100\n",
      "589/589 - 21s - loss: 19.4712 - mae: 2.1248 - val_loss: 21.1433 - val_mae: 2.1462\n",
      "Epoch 55/100\n",
      "589/589 - 20s - loss: 19.4688 - mae: 2.1237 - val_loss: 21.1738 - val_mae: 2.1906\n",
      "Epoch 56/100\n",
      "589/589 - 20s - loss: 19.4663 - mae: 2.1234 - val_loss: 20.9911 - val_mae: 2.1554\n",
      "Epoch 57/100\n",
      "589/589 - 20s - loss: 19.4586 - mae: 2.1232 - val_loss: 21.1130 - val_mae: 2.1549\n",
      "Epoch 58/100\n",
      "589/589 - 20s - loss: 19.4471 - mae: 2.1213 - val_loss: 21.2213 - val_mae: 2.1680\n",
      "Epoch 59/100\n",
      "589/589 - 20s - loss: 19.4334 - mae: 2.1198 - val_loss: 21.1753 - val_mae: 2.1550\n",
      "Epoch 60/100\n",
      "589/589 - 22s - loss: 19.4232 - mae: 2.1194 - val_loss: 21.2574 - val_mae: 2.1645\n",
      "Epoch 61/100\n",
      "589/589 - 21s - loss: 19.4252 - mae: 2.1194 - val_loss: 21.1505 - val_mae: 2.1726\n",
      "Epoch 62/100\n",
      "589/589 - 20s - loss: 19.4120 - mae: 2.1187 - val_loss: 20.8682 - val_mae: 2.1169\n",
      "Epoch 63/100\n",
      "589/589 - 20s - loss: 19.4088 - mae: 2.1187 - val_loss: 20.9394 - val_mae: 2.1447\n",
      "Epoch 64/100\n",
      "589/589 - 20s - loss: 19.4087 - mae: 2.1186 - val_loss: 21.1061 - val_mae: 2.1545\n",
      "Epoch 65/100\n",
      "589/589 - 21s - loss: 19.4068 - mae: 2.1186 - val_loss: 21.1208 - val_mae: 2.1594\n",
      "Epoch 66/100\n",
      "589/589 - 20s - loss: 19.4020 - mae: 2.1181 - val_loss: 20.8503 - val_mae: 2.1603\n",
      "Epoch 67/100\n",
      "589/589 - 22s - loss: 19.3985 - mae: 2.1181 - val_loss: 21.2130 - val_mae: 2.1594\n",
      "Epoch 68/100\n",
      "589/589 - 23s - loss: 19.3992 - mae: 2.1180 - val_loss: 21.0146 - val_mae: 2.1476\n",
      "Epoch 69/100\n",
      "589/589 - 20s - loss: 19.3956 - mae: 2.1182 - val_loss: 21.0998 - val_mae: 2.1650\n",
      "Epoch 70/100\n",
      "589/589 - 20s - loss: 19.3938 - mae: 2.1179 - val_loss: 21.0548 - val_mae: 2.1507\n",
      "Epoch 71/100\n",
      "589/589 - 20s - loss: 19.3908 - mae: 2.1178 - val_loss: 20.9972 - val_mae: 2.1625\n",
      "Epoch 72/100\n",
      "589/589 - 20s - loss: 19.3827 - mae: 2.1173 - val_loss: 21.1834 - val_mae: 2.1515\n",
      "Epoch 73/100\n",
      "589/589 - 21s - loss: 19.3851 - mae: 2.1173 - val_loss: 21.1870 - val_mae: 2.1739\n",
      "Epoch 74/100\n",
      "589/589 - 20s - loss: 19.3792 - mae: 2.1167 - val_loss: 21.0248 - val_mae: 2.1515\n",
      "Epoch 75/100\n",
      "589/589 - 20s - loss: 19.3867 - mae: 2.1173 - val_loss: 21.0238 - val_mae: 2.1695\n",
      "Epoch 76/100\n",
      "589/589 - 21s - loss: 19.3748 - mae: 2.1170 - val_loss: 21.3969 - val_mae: 2.1852\n",
      "Epoch 77/100\n",
      "589/589 - 21s - loss: 19.3717 - mae: 2.1171 - val_loss: 21.1148 - val_mae: 2.1560\n",
      "Epoch 78/100\n",
      "589/589 - 20s - loss: 19.3791 - mae: 2.1168 - val_loss: 21.2702 - val_mae: 2.1725\n",
      "Epoch 79/100\n",
      "589/589 - 22s - loss: 19.3724 - mae: 2.1162 - val_loss: 21.1823 - val_mae: 2.1730\n",
      "Epoch 80/100\n",
      "589/589 - 20s - loss: 19.3726 - mae: 2.1164 - val_loss: 21.2252 - val_mae: 2.1661\n",
      "Epoch 81/100\n",
      "589/589 - 20s - loss: 19.3683 - mae: 2.1158 - val_loss: 21.0671 - val_mae: 2.1356\n",
      "Epoch 82/100\n",
      "589/589 - 21s - loss: 19.3697 - mae: 2.1159 - val_loss: 21.3409 - val_mae: 2.2044\n",
      "Epoch 83/100\n",
      "589/589 - 21s - loss: 19.3592 - mae: 2.1151 - val_loss: 21.3581 - val_mae: 2.1855\n",
      "Epoch 84/100\n",
      "589/589 - 22s - loss: 19.3585 - mae: 2.1152 - val_loss: 21.1085 - val_mae: 2.1399\n",
      "Epoch 85/100\n",
      "589/589 - 20s - loss: 19.3634 - mae: 2.1151 - val_loss: 21.2206 - val_mae: 2.1856\n",
      "Epoch 86/100\n",
      "589/589 - 20s - loss: 19.3597 - mae: 2.1152 - val_loss: 20.8945 - val_mae: 2.1604\n",
      "Epoch 87/100\n",
      "589/589 - 20s - loss: 19.3501 - mae: 2.1149 - val_loss: 20.9178 - val_mae: 2.1403\n"
     ]
    },
    {
     "name": "stdout",
     "output_type": "stream",
     "text": [
      "Epoch 88/100\n",
      "589/589 - 20s - loss: 19.3544 - mae: 2.1148 - val_loss: 21.1999 - val_mae: 2.1687\n",
      "Epoch 89/100\n",
      "589/589 - 20s - loss: 19.3447 - mae: 2.1144 - val_loss: 21.3757 - val_mae: 2.1914\n",
      "Epoch 90/100\n",
      "589/589 - 20s - loss: 19.3470 - mae: 2.1143 - val_loss: 21.3485 - val_mae: 2.1785\n",
      "Epoch 91/100\n",
      "589/589 - 20s - loss: 19.3483 - mae: 2.1144 - val_loss: 21.4250 - val_mae: 2.1846\n",
      "Epoch 92/100\n",
      "589/589 - 20s - loss: 19.3437 - mae: 2.1135 - val_loss: 21.3698 - val_mae: 2.1907\n",
      "Epoch 93/100\n",
      "589/589 - 20s - loss: 19.3383 - mae: 2.1136 - val_loss: 21.1008 - val_mae: 2.1430\n",
      "Epoch 94/100\n",
      "589/589 - 20s - loss: 19.3355 - mae: 2.1137 - val_loss: 21.4175 - val_mae: 2.1853\n",
      "Epoch 95/100\n",
      "589/589 - 20s - loss: 19.3425 - mae: 2.1134 - val_loss: 21.0504 - val_mae: 2.1672\n",
      "Epoch 96/100\n",
      "589/589 - 21s - loss: 19.3419 - mae: 2.1132 - val_loss: 21.0436 - val_mae: 2.1713\n",
      "Epoch 97/100\n",
      "589/589 - 20s - loss: 19.3409 - mae: 2.1133 - val_loss: 21.1373 - val_mae: 2.1447\n",
      "Epoch 98/100\n",
      "589/589 - 20s - loss: 19.3324 - mae: 2.1132 - val_loss: 21.4554 - val_mae: 2.1764\n",
      "Epoch 99/100\n",
      "589/589 - 19s - loss: 19.3372 - mae: 2.1133 - val_loss: 21.2666 - val_mae: 2.1619\n",
      "Epoch 100/100\n",
      "589/589 - 19s - loss: 19.3287 - mae: 2.1132 - val_loss: 21.5151 - val_mae: 2.1823\n"
     ]
    }
   ],
   "source": [
    "model = Sequential()\n",
    "model.add(Dense(64,activation = 'relu',kernel_initializer = 'normal',input_dim = X_train_ss.shape[1]))\n",
    "model.add(Dropout(0.3))\n",
    "model.add(Dense(32,activation = 'relu'))\n",
    "model.add(Dense(1))\n",
    "model.compile(loss = 'mse',optimizer = 'adam',metrics = 'mae')\n",
    "history_model = model.fit(X_train_ss,y_train, epochs = 100, batch_size = 50000, validation_data = (X_test_ss,y_test),verbose = 2)"
   ]
  },
  {
   "cell_type": "code",
   "execution_count": 24,
   "id": "assigned-serve",
   "metadata": {
    "scrolled": true
   },
   "outputs": [
    {
     "name": "stdout",
     "output_type": "stream",
     "text": [
      "Epoch 1/30\n",
      "589/589 - 46s - loss: 43.0268 - mean_squared_error: 43.0268 - val_loss: 27.6290 - val_mean_squared_error: 27.6290\n",
      "Epoch 2/30\n",
      "589/589 - 45s - loss: 26.1998 - mean_squared_error: 26.1998 - val_loss: 22.3456 - val_mean_squared_error: 22.3456\n",
      "Epoch 3/30\n",
      "589/589 - 44s - loss: 22.3306 - mean_squared_error: 22.3306 - val_loss: 20.5042 - val_mean_squared_error: 20.5042\n",
      "Epoch 4/30\n",
      "589/589 - 43s - loss: 21.3866 - mean_squared_error: 21.3866 - val_loss: 20.1519 - val_mean_squared_error: 20.1519\n",
      "Epoch 5/30\n",
      "589/589 - 46s - loss: 21.0437 - mean_squared_error: 21.0437 - val_loss: 19.9792 - val_mean_squared_error: 19.9792\n",
      "Epoch 6/30\n",
      "589/589 - 44s - loss: 20.8289 - mean_squared_error: 20.8289 - val_loss: 19.8346 - val_mean_squared_error: 19.8346\n",
      "Epoch 7/30\n",
      "589/589 - 44s - loss: 20.6800 - mean_squared_error: 20.6800 - val_loss: 19.7600 - val_mean_squared_error: 19.7600\n",
      "Epoch 8/30\n",
      "589/589 - 42s - loss: 20.5735 - mean_squared_error: 20.5735 - val_loss: 19.6787 - val_mean_squared_error: 19.6787\n",
      "Epoch 9/30\n",
      "589/589 - 44s - loss: 20.5000 - mean_squared_error: 20.5000 - val_loss: 19.6407 - val_mean_squared_error: 19.6406\n",
      "Epoch 10/30\n",
      "589/589 - 44s - loss: 20.4294 - mean_squared_error: 20.4294 - val_loss: 19.6006 - val_mean_squared_error: 19.6006\n",
      "Epoch 11/30\n",
      "589/589 - 42s - loss: 20.3477 - mean_squared_error: 20.3477 - val_loss: 19.5775 - val_mean_squared_error: 19.5775\n",
      "Epoch 12/30\n",
      "589/589 - 47s - loss: 20.2192 - mean_squared_error: 20.2192 - val_loss: 19.4558 - val_mean_squared_error: 19.4558\n",
      "Epoch 13/30\n",
      "589/589 - 43s - loss: 20.0586 - mean_squared_error: 20.0586 - val_loss: 19.3312 - val_mean_squared_error: 19.3312\n",
      "Epoch 14/30\n",
      "589/589 - 44s - loss: 19.9884 - mean_squared_error: 19.9884 - val_loss: 19.3206 - val_mean_squared_error: 19.3206\n",
      "Epoch 15/30\n",
      "589/589 - 45s - loss: 19.9369 - mean_squared_error: 19.9369 - val_loss: 19.2702 - val_mean_squared_error: 19.2702\n",
      "Epoch 16/30\n",
      "589/589 - 46s - loss: 19.8983 - mean_squared_error: 19.8983 - val_loss: 19.2465 - val_mean_squared_error: 19.2465\n",
      "Epoch 17/30\n",
      "589/589 - 45s - loss: 19.8546 - mean_squared_error: 19.8546 - val_loss: 19.2505 - val_mean_squared_error: 19.2505\n",
      "Epoch 18/30\n",
      "589/589 - 45s - loss: 19.8285 - mean_squared_error: 19.8285 - val_loss: 19.1922 - val_mean_squared_error: 19.1922\n",
      "Epoch 19/30\n",
      "589/589 - 45s - loss: 19.7993 - mean_squared_error: 19.7993 - val_loss: 19.2179 - val_mean_squared_error: 19.2179\n",
      "Epoch 20/30\n",
      "589/589 - 45s - loss: 19.7794 - mean_squared_error: 19.7794 - val_loss: 19.2018 - val_mean_squared_error: 19.2018\n",
      "Epoch 21/30\n",
      "589/589 - 45s - loss: 19.7634 - mean_squared_error: 19.7634 - val_loss: 19.1756 - val_mean_squared_error: 19.1756\n",
      "Epoch 22/30\n",
      "589/589 - 45s - loss: 19.7331 - mean_squared_error: 19.7331 - val_loss: 19.2419 - val_mean_squared_error: 19.2419\n",
      "Epoch 23/30\n",
      "589/589 - 44s - loss: 19.7201 - mean_squared_error: 19.7201 - val_loss: 19.2046 - val_mean_squared_error: 19.2046\n",
      "Epoch 24/30\n",
      "589/589 - 45s - loss: 19.7092 - mean_squared_error: 19.7092 - val_loss: 19.1370 - val_mean_squared_error: 19.1370\n",
      "Epoch 25/30\n",
      "589/589 - 45s - loss: 19.6948 - mean_squared_error: 19.6948 - val_loss: 19.2065 - val_mean_squared_error: 19.2065\n",
      "Epoch 26/30\n",
      "589/589 - 44s - loss: 19.6828 - mean_squared_error: 19.6828 - val_loss: 19.2230 - val_mean_squared_error: 19.2230\n",
      "Epoch 27/30\n",
      "589/589 - 45s - loss: 19.6740 - mean_squared_error: 19.6740 - val_loss: 19.2304 - val_mean_squared_error: 19.2304\n",
      "Epoch 28/30\n",
      "589/589 - 44s - loss: 19.6595 - mean_squared_error: 19.6595 - val_loss: 19.1690 - val_mean_squared_error: 19.1690\n",
      "Epoch 29/30\n",
      "589/589 - 45s - loss: 19.6616 - mean_squared_error: 19.6616 - val_loss: 19.1690 - val_mean_squared_error: 19.1690\n",
      "Epoch 30/30\n",
      "589/589 - 46s - loss: 19.6437 - mean_squared_error: 19.6437 - val_loss: 19.1385 - val_mean_squared_error: 19.1385\n"
     ]
    }
   ],
   "source": [
    "model1 = Sequential()\n",
    "model1.add(Dense(128,activation = 'relu',kernel_initializer = 'normal',input_dim = X_train_ss.shape[1]))\n",
    "model1.add(Dropout(0.3))\n",
    "model1.add(Dense(64,activation = 'relu'))\n",
    "model1.add(Dense(1))\n",
    "model1.compile(loss = 'mse',optimizer = 'adam',metrics = 'mean_squared_error')\n",
    "history_model1 = model1.fit(X_train_ss,y_train, epochs = 30, batch_size = 50000, validation_data = (X_test_ss,y_test),verbose = 2)"
   ]
  },
  {
   "cell_type": "code",
   "execution_count": 25,
   "id": "established-acoustic",
   "metadata": {
    "scrolled": false
   },
   "outputs": [
    {
     "data": {
      "text/plain": [
       "<matplotlib.legend.Legend at 0x1eae3bfdac0>"
      ]
     },
     "execution_count": 25,
     "metadata": {},
     "output_type": "execute_result"
    },
    {
     "data": {
      "image/png": "[encoded data removed]",
      "text/plain": [
       "<Figure size 1440x720 with 1 Axes>"
      ]
     },
     "metadata": {
      "needs_background": "light"
     },
     "output_type": "display_data"
    }
   ],
   "source": [
    "fig,ax = plt.subplots(figsize = (20,10))\n",
    "ax.plot(history_model.history['loss'],label = 'Train Loss')\n",
    "ax.plot(history_model.history['val_loss'],label = 'Val Loss')\n",
    "ax.plot(history_model1.history['loss'],label = 'Train Loss - More Layers')\n",
    "ax.plot(history_model1.history['val_loss'],label = 'Val Loss - More Layers')\n",
    "plt.legend()"
   ]
  },
  {
   "cell_type": "markdown",
   "id": "three-georgia",
   "metadata": {},
   "source": [
    "### Final predictions\n",
    "Fit the model with entire train set now"
   ]
  },
  {
   "cell_type": "code",
   "execution_count": 26,
   "id": "proper-subject",
   "metadata": {},
   "outputs": [],
   "source": [
    "ss = StandardScaler()\n",
    "ss.fit(X)\n",
    "X_ss = ss.transform(X)\n",
    "test_df_ss = ss.transform(test_df.iloc[:,2:])"
   ]
  },
  {
   "cell_type": "code",
   "execution_count": 12,
   "id": "instructional-newfoundland",
   "metadata": {},
   "outputs": [
    {
     "name": "stdout",
     "output_type": "stream",
     "text": [
      "Shape of X: (39231509, 8)\n",
      "Shape of y: (39231509,)\n"
     ]
    }
   ],
   "source": [
    "print(f'Shape of X: {X_ss.shape}')\n",
    "print(f'Shape of y: {y.shape}')"
   ]
  },
  {
   "cell_type": "markdown",
   "id": "cognitive-repeat",
   "metadata": {},
   "source": [
    "#### Linear Model"
   ]
  },
  {
   "cell_type": "code",
   "execution_count": 13,
   "id": "appropriate-period",
   "metadata": {},
   "outputs": [],
   "source": [
    "ridge = Ridge(alpha = 10)\n",
    "ridge.fit(X_ss,y)\n",
    "ridge_preds = pd.DataFrame({\"key\":test_df[\"key\"],\"fare_amount\":ridge.predict(test_df_ss)})\n",
    "ridge_preds.to_csv('../submissions/my_submissions_ridge.csv',index = False)"
   ]
  },
  {
   "cell_type": "markdown",
   "id": "unique-motivation",
   "metadata": {},
   "source": [
    "#### ANN"
   ]
  },
  {
   "cell_type": "code",
   "execution_count": 27,
   "id": "accessible-playlist",
   "metadata": {
    "scrolled": true
   },
   "outputs": [
    {
     "name": "stdout",
     "output_type": "stream",
     "text": [
      "Epoch 1/30\n",
      "785/785 - 61s - loss: 41.6023 - mae: 3.1644\n",
      "Epoch 2/30\n",
      "785/785 - 56s - loss: 24.3742 - mae: 2.3688\n",
      "Epoch 3/30\n",
      "785/785 - 56s - loss: 21.4579 - mae: 2.2630\n",
      "Epoch 4/30\n",
      "785/785 - 59s - loss: 20.7003 - mae: 2.2183\n",
      "Epoch 5/30\n",
      "785/785 - 56s - loss: 20.4227 - mae: 2.1960\n",
      "Epoch 6/30\n",
      "785/785 - 56s - loss: 20.2449 - mae: 2.1793\n",
      "Epoch 7/30\n",
      "785/785 - 54s - loss: 20.1106 - mae: 2.1650\n",
      "Epoch 8/30\n",
      "785/785 - 57s - loss: 20.0230 - mae: 2.1567\n",
      "Epoch 9/30\n",
      "785/785 - 57s - loss: 19.9479 - mae: 2.1499\n",
      "Epoch 10/30\n",
      "785/785 - 59s - loss: 19.8847 - mae: 2.1437\n",
      "Epoch 11/30\n",
      "785/785 - 62s - loss: 19.8325 - mae: 2.1391\n",
      "Epoch 12/30\n",
      "785/785 - 60s - loss: 19.7897 - mae: 2.1353\n",
      "Epoch 13/30\n",
      "785/785 - 57s - loss: 19.7518 - mae: 2.1320\n",
      "Epoch 14/30\n",
      "785/785 - 58s - loss: 19.7187 - mae: 2.1291\n",
      "Epoch 15/30\n",
      "785/785 - 52s - loss: 19.6910 - mae: 2.1267\n",
      "Epoch 16/30\n",
      "785/785 - 52s - loss: 19.6709 - mae: 2.1247\n",
      "Epoch 17/30\n",
      "785/785 - 53s - loss: 19.6447 - mae: 2.1223\n",
      "Epoch 18/30\n",
      "785/785 - 53s - loss: 19.6281 - mae: 2.1206\n",
      "Epoch 19/30\n",
      "785/785 - 53s - loss: 19.6061 - mae: 2.1185\n",
      "Epoch 20/30\n",
      "785/785 - 53s - loss: 19.5946 - mae: 2.1174\n",
      "Epoch 21/30\n",
      "785/785 - 53s - loss: 19.5707 - mae: 2.1154\n",
      "Epoch 22/30\n",
      "785/785 - 53s - loss: 19.5590 - mae: 2.1141\n",
      "Epoch 23/30\n",
      "785/785 - 52s - loss: 19.5486 - mae: 2.1132\n",
      "Epoch 24/30\n",
      "785/785 - 52s - loss: 19.5396 - mae: 2.1119\n",
      "Epoch 25/30\n",
      "785/785 - 52s - loss: 19.5176 - mae: 2.1105\n",
      "Epoch 26/30\n",
      "785/785 - 52s - loss: 19.5033 - mae: 2.1090\n",
      "Epoch 27/30\n",
      "785/785 - 52s - loss: 19.5003 - mae: 2.1085\n",
      "Epoch 28/30\n",
      "785/785 - 52s - loss: 19.4796 - mae: 2.1070\n",
      "Epoch 29/30\n",
      "785/785 - 52s - loss: 19.4703 - mae: 2.1063\n",
      "Epoch 30/30\n",
      "785/785 - 51s - loss: 19.4600 - mae: 2.1050\n"
     ]
    }
   ],
   "source": [
    "finalmodel = Sequential()\n",
    "finalmodel.add(Dense(128,activation = 'relu',kernel_initializer = 'normal',input_dim = X_ss.shape[1]))\n",
    "finalmodel.add(Dropout(0.3))\n",
    "finalmodel.add(Dense(64,activation = 'relu'))\n",
    "finalmodel.add(Dense(1))\n",
    "finalmodel.compile(loss = 'mse',optimizer = 'adam',metrics = 'mae')\n",
    "history_finalmodel = finalmodel.fit(X_ss,y, epochs = 30, batch_size = 50000,verbose = 2)"
   ]
  },
  {
   "cell_type": "code",
   "execution_count": 28,
   "id": "together-destination",
   "metadata": {
    "scrolled": true
   },
   "outputs": [],
   "source": [
    "ann_preds = pd.DataFrame({\"key\": test_df['key'], \"fare_amount\":finalmodel.predict(test_df_ss).flatten()})\n",
    "ann_preds.to_csv('../submissions/my_submissions_ann_200.csv',index = False)"
   ]
  }
 ],
 "metadata": {
  "kernelspec": {
   "display_name": "sales-env",
   "language": "python",
   "name": "sales-env"
  },
  "language_info": {
   "codemirror_mode": {
    "name": "ipython",
    "version": 3
   },
   "file_extension": ".py",
   "mimetype": "text/x-python",
   "name": "python",
   "nbconvert_exporter": "python",
   "pygments_lexer": "ipython3",
   "version": "3.9.2"
  }
 },
 "nbformat": 4,
 "nbformat_minor": 5
}
