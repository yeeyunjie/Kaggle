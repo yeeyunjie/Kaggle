{
 "cells": [
  {
   "cell_type": "markdown",
   "id": "aboriginal-minimum",
   "metadata": {},
   "source": [
    "## Predict Future Sales\n"
   ]
  },
  {
   "cell_type": "markdown",
   "id": "tested-cholesterol",
   "metadata": {},
   "source": [
    "### Problem Statement\n",
    "With daily historical data, our main goal is to create and optimize a model that makes a forecast on the total number of items for **each** item id sold in **every** shop in the test set (month of November 2015) as their prices fluctuate across time. "
   ]
  },
  {
   "cell_type": "code",
   "execution_count": 75,
   "id": "international-reaction",
   "metadata": {},
   "outputs": [],
   "source": [
    "# saving all required libraries under requirements.txt\n",
    "! pip freeze > requirements.txt"
   ]
  },
  {
   "cell_type": "code",
   "execution_count": 2,
   "id": "divided-signal",
   "metadata": {},
   "outputs": [
    {
     "name": "stdout",
     "output_type": "stream",
     "text": [
      "INFO:tensorflow:Enabling eager execution\n",
      "INFO:tensorflow:Enabling v2 tensorshape\n",
      "INFO:tensorflow:Enabling resource variables\n",
      "INFO:tensorflow:Enabling tensor equality\n",
      "INFO:tensorflow:Enabling control flow v2\n"
     ]
    }
   ],
   "source": [
    "# import necessary libraries\n",
    "import warnings\n",
    "import pandas as pd\n",
    "import matplotlib.pyplot as plt\n",
    "import numpy as np\n",
    "import seaborn as sns\n",
    "from keras.models import Sequential\n",
    "from keras.layers import Dense,LSTM, TimeDistributed, Flatten, MaxPooling1D,Conv1D,Dropout\n",
    "\n",
    "from sklearn.preprocessing import MinMaxScaler\n",
    "from sklearn.metrics import mean_squared_error\n",
    "from sklearn.linear_model import LinearRegression, Ridge, Lasso,ElasticNet,HuberRegressor,PassiveAggressiveRegressor,SGDRegressor\n",
    "from sklearn.pipeline import Pipeline\n",
    "from sklearn.tree import DecisionTreeRegressor,ExtraTreeRegressor\n",
    "from sklearn.svm import SVR\n",
    "from sklearn.ensemble import AdaBoostRegressor,BaggingRegressor,RandomForestRegressor,ExtraTreesRegressor,GradientBoostingRegressor\n",
    "from sklearn.model_selection import train_test_split,GridSearchCV,RandomizedSearchCV\n",
    "from sklearn.preprocessing import StandardScaler\n",
    "from statsmodels.tsa.arima.model import ARIMA\n",
    "pd.set_option('display.float_format', lambda x: '%.3f' % x)\n",
    "\n",
    "warnings.filterwarnings(\"ignore\")\n",
    "%matplotlib inline"
   ]
  },
  {
   "cell_type": "code",
   "execution_count": 77,
   "id": "organized-roller",
   "metadata": {},
   "outputs": [],
   "source": [
    "# with open('requirements.txt') as f:\n",
    "#     print(f.read())"
   ]
  },
  {
   "cell_type": "markdown",
   "id": "decent-hypothetical",
   "metadata": {},
   "source": [
    "### Reading data"
   ]
  },
  {
   "cell_type": "code",
   "execution_count": 4,
   "id": "united-carol",
   "metadata": {},
   "outputs": [],
   "source": [
    "# Load all data\n",
    "train = pd.read_csv('../data/sales_train.csv')\n",
    "test = pd.read_csv('../data/test.csv')\n",
    "items = pd.read_csv('../data/items.csv')\n",
    "items_cat = pd.read_csv('../data/item_categories.csv')\n",
    "shops = pd.read_csv('../data/shops.csv')"
   ]
  },
  {
   "cell_type": "markdown",
   "id": "automotive-dublin",
   "metadata": {},
   "source": [
    "## Exploratory Data Analysis\n",
    "Quick EDA and data cleaning, mainly to remove anomalies that might skew our data and to establish a few assumptions! "
   ]
  },
  {
   "cell_type": "markdown",
   "id": "blessed-victory",
   "metadata": {},
   "source": [
    "### Data visualiztion"
   ]
  },
  {
   "cell_type": "code",
   "execution_count": 5,
   "id": "available-archive",
   "metadata": {},
   "outputs": [
    {
     "data": {
      "text/html": [
       "<div>\n",
       "<style scoped>\n",
       "    .dataframe tbody tr th:only-of-type {\n",
       "        vertical-align: middle;\n",
       "    }\n",
       "\n",
       "    .dataframe tbody tr th {\n",
       "        vertical-align: top;\n",
       "    }\n",
       "\n",
       "    .dataframe thead th {\n",
       "        text-align: right;\n",
       "    }\n",
       "</style>\n",
       "<table border=\"1\" class=\"dataframe\">\n",
       "  <thead>\n",
       "    <tr style=\"text-align: right;\">\n",
       "      <th></th>\n",
       "      <th>date</th>\n",
       "      <th>date_block_num</th>\n",
       "      <th>shop_id</th>\n",
       "      <th>item_id</th>\n",
       "      <th>item_price</th>\n",
       "      <th>item_cnt_day</th>\n",
       "    </tr>\n",
       "  </thead>\n",
       "  <tbody>\n",
       "    <tr>\n",
       "      <th>0</th>\n",
       "      <td>02.01.2013</td>\n",
       "      <td>0</td>\n",
       "      <td>59</td>\n",
       "      <td>22154</td>\n",
       "      <td>999.000</td>\n",
       "      <td>1.000</td>\n",
       "    </tr>\n",
       "    <tr>\n",
       "      <th>1</th>\n",
       "      <td>03.01.2013</td>\n",
       "      <td>0</td>\n",
       "      <td>25</td>\n",
       "      <td>2552</td>\n",
       "      <td>899.000</td>\n",
       "      <td>1.000</td>\n",
       "    </tr>\n",
       "    <tr>\n",
       "      <th>2</th>\n",
       "      <td>05.01.2013</td>\n",
       "      <td>0</td>\n",
       "      <td>25</td>\n",
       "      <td>2552</td>\n",
       "      <td>899.000</td>\n",
       "      <td>-1.000</td>\n",
       "    </tr>\n",
       "    <tr>\n",
       "      <th>3</th>\n",
       "      <td>06.01.2013</td>\n",
       "      <td>0</td>\n",
       "      <td>25</td>\n",
       "      <td>2554</td>\n",
       "      <td>1709.050</td>\n",
       "      <td>1.000</td>\n",
       "    </tr>\n",
       "    <tr>\n",
       "      <th>4</th>\n",
       "      <td>15.01.2013</td>\n",
       "      <td>0</td>\n",
       "      <td>25</td>\n",
       "      <td>2555</td>\n",
       "      <td>1099.000</td>\n",
       "      <td>1.000</td>\n",
       "    </tr>\n",
       "  </tbody>\n",
       "</table>\n",
       "</div>"
      ],
      "text/plain": [
       "         date  date_block_num  shop_id  item_id  item_price  item_cnt_day\n",
       "0  02.01.2013               0       59    22154     999.000         1.000\n",
       "1  03.01.2013               0       25     2552     899.000         1.000\n",
       "2  05.01.2013               0       25     2552     899.000        -1.000\n",
       "3  06.01.2013               0       25     2554    1709.050         1.000\n",
       "4  15.01.2013               0       25     2555    1099.000         1.000"
      ]
     },
     "execution_count": 5,
     "metadata": {},
     "output_type": "execute_result"
    }
   ],
   "source": [
    "# first 5 rows of train data\n",
    "train.head()"
   ]
  },
  {
   "cell_type": "code",
   "execution_count": 6,
   "id": "prescription-guard",
   "metadata": {
    "scrolled": true
   },
   "outputs": [
    {
     "data": {
      "text/html": [
       "<div>\n",
       "<style scoped>\n",
       "    .dataframe tbody tr th:only-of-type {\n",
       "        vertical-align: middle;\n",
       "    }\n",
       "\n",
       "    .dataframe tbody tr th {\n",
       "        vertical-align: top;\n",
       "    }\n",
       "\n",
       "    .dataframe thead th {\n",
       "        text-align: right;\n",
       "    }\n",
       "</style>\n",
       "<table border=\"1\" class=\"dataframe\">\n",
       "  <thead>\n",
       "    <tr style=\"text-align: right;\">\n",
       "      <th></th>\n",
       "      <th>ID</th>\n",
       "      <th>shop_id</th>\n",
       "      <th>item_id</th>\n",
       "    </tr>\n",
       "  </thead>\n",
       "  <tbody>\n",
       "    <tr>\n",
       "      <th>0</th>\n",
       "      <td>0</td>\n",
       "      <td>5</td>\n",
       "      <td>5037</td>\n",
       "    </tr>\n",
       "    <tr>\n",
       "      <th>1</th>\n",
       "      <td>1</td>\n",
       "      <td>5</td>\n",
       "      <td>5320</td>\n",
       "    </tr>\n",
       "    <tr>\n",
       "      <th>2</th>\n",
       "      <td>2</td>\n",
       "      <td>5</td>\n",
       "      <td>5233</td>\n",
       "    </tr>\n",
       "    <tr>\n",
       "      <th>3</th>\n",
       "      <td>3</td>\n",
       "      <td>5</td>\n",
       "      <td>5232</td>\n",
       "    </tr>\n",
       "    <tr>\n",
       "      <th>4</th>\n",
       "      <td>4</td>\n",
       "      <td>5</td>\n",
       "      <td>5268</td>\n",
       "    </tr>\n",
       "  </tbody>\n",
       "</table>\n",
       "</div>"
      ],
      "text/plain": [
       "   ID  shop_id  item_id\n",
       "0   0        5     5037\n",
       "1   1        5     5320\n",
       "2   2        5     5233\n",
       "3   3        5     5232\n",
       "4   4        5     5268"
      ]
     },
     "execution_count": 6,
     "metadata": {},
     "output_type": "execute_result"
    }
   ],
   "source": [
    "# first 5 rows of test data\n",
    "test.head()"
   ]
  },
  {
   "cell_type": "code",
   "execution_count": 7,
   "id": "vocational-devices",
   "metadata": {
    "scrolled": true
   },
   "outputs": [
    {
     "data": {
      "text/html": [
       "<div>\n",
       "<style scoped>\n",
       "    .dataframe tbody tr th:only-of-type {\n",
       "        vertical-align: middle;\n",
       "    }\n",
       "\n",
       "    .dataframe tbody tr th {\n",
       "        vertical-align: top;\n",
       "    }\n",
       "\n",
       "    .dataframe thead th {\n",
       "        text-align: right;\n",
       "    }\n",
       "</style>\n",
       "<table border=\"1\" class=\"dataframe\">\n",
       "  <thead>\n",
       "    <tr style=\"text-align: right;\">\n",
       "      <th></th>\n",
       "      <th>shop_name</th>\n",
       "      <th>shop_id</th>\n",
       "    </tr>\n",
       "  </thead>\n",
       "  <tbody>\n",
       "    <tr>\n",
       "      <th>0</th>\n",
       "      <td>!Якутск Орджоникидзе, 56 фран</td>\n",
       "      <td>0</td>\n",
       "    </tr>\n",
       "    <tr>\n",
       "      <th>1</th>\n",
       "      <td>!Якутск ТЦ \"Центральный\" фран</td>\n",
       "      <td>1</td>\n",
       "    </tr>\n",
       "    <tr>\n",
       "      <th>2</th>\n",
       "      <td>Адыгея ТЦ \"Мега\"</td>\n",
       "      <td>2</td>\n",
       "    </tr>\n",
       "    <tr>\n",
       "      <th>3</th>\n",
       "      <td>Балашиха ТРК \"Октябрь-Киномир\"</td>\n",
       "      <td>3</td>\n",
       "    </tr>\n",
       "    <tr>\n",
       "      <th>4</th>\n",
       "      <td>Волжский ТЦ \"Волга Молл\"</td>\n",
       "      <td>4</td>\n",
       "    </tr>\n",
       "  </tbody>\n",
       "</table>\n",
       "</div>"
      ],
      "text/plain": [
       "                        shop_name  shop_id\n",
       "0   !Якутск Орджоникидзе, 56 фран        0\n",
       "1   !Якутск ТЦ \"Центральный\" фран        1\n",
       "2                Адыгея ТЦ \"Мега\"        2\n",
       "3  Балашиха ТРК \"Октябрь-Киномир\"        3\n",
       "4        Волжский ТЦ \"Волга Молл\"        4"
      ]
     },
     "execution_count": 7,
     "metadata": {},
     "output_type": "execute_result"
    }
   ],
   "source": [
    "# first 5 rows of shop name and id\n",
    "shops.head()"
   ]
  },
  {
   "cell_type": "code",
   "execution_count": 8,
   "id": "ordinary-antenna",
   "metadata": {},
   "outputs": [
    {
     "data": {
      "text/html": [
       "<div>\n",
       "<style scoped>\n",
       "    .dataframe tbody tr th:only-of-type {\n",
       "        vertical-align: middle;\n",
       "    }\n",
       "\n",
       "    .dataframe tbody tr th {\n",
       "        vertical-align: top;\n",
       "    }\n",
       "\n",
       "    .dataframe thead th {\n",
       "        text-align: right;\n",
       "    }\n",
       "</style>\n",
       "<table border=\"1\" class=\"dataframe\">\n",
       "  <thead>\n",
       "    <tr style=\"text-align: right;\">\n",
       "      <th></th>\n",
       "      <th>item_name</th>\n",
       "      <th>item_id</th>\n",
       "      <th>item_category_id</th>\n",
       "    </tr>\n",
       "  </thead>\n",
       "  <tbody>\n",
       "    <tr>\n",
       "      <th>0</th>\n",
       "      <td>! ВО ВЛАСТИ НАВАЖДЕНИЯ (ПЛАСТ.)         D</td>\n",
       "      <td>0</td>\n",
       "      <td>40</td>\n",
       "    </tr>\n",
       "    <tr>\n",
       "      <th>1</th>\n",
       "      <td>!ABBYY FineReader 12 Professional Edition Full...</td>\n",
       "      <td>1</td>\n",
       "      <td>76</td>\n",
       "    </tr>\n",
       "    <tr>\n",
       "      <th>2</th>\n",
       "      <td>***В ЛУЧАХ СЛАВЫ   (UNV)                    D</td>\n",
       "      <td>2</td>\n",
       "      <td>40</td>\n",
       "    </tr>\n",
       "    <tr>\n",
       "      <th>3</th>\n",
       "      <td>***ГОЛУБАЯ ВОЛНА  (Univ)                      D</td>\n",
       "      <td>3</td>\n",
       "      <td>40</td>\n",
       "    </tr>\n",
       "    <tr>\n",
       "      <th>4</th>\n",
       "      <td>***КОРОБКА (СТЕКЛО)                       D</td>\n",
       "      <td>4</td>\n",
       "      <td>40</td>\n",
       "    </tr>\n",
       "  </tbody>\n",
       "</table>\n",
       "</div>"
      ],
      "text/plain": [
       "                                           item_name  item_id  \\\n",
       "0          ! ВО ВЛАСТИ НАВАЖДЕНИЯ (ПЛАСТ.)         D        0   \n",
       "1  !ABBYY FineReader 12 Professional Edition Full...        1   \n",
       "2      ***В ЛУЧАХ СЛАВЫ   (UNV)                    D        2   \n",
       "3    ***ГОЛУБАЯ ВОЛНА  (Univ)                      D        3   \n",
       "4        ***КОРОБКА (СТЕКЛО)                       D        4   \n",
       "\n",
       "   item_category_id  \n",
       "0                40  \n",
       "1                76  \n",
       "2                40  \n",
       "3                40  \n",
       "4                40  "
      ]
     },
     "execution_count": 8,
     "metadata": {},
     "output_type": "execute_result"
    }
   ],
   "source": [
    "# item name, id and category-id\n",
    "items.head()"
   ]
  },
  {
   "cell_type": "code",
   "execution_count": 9,
   "id": "coordinate-mystery",
   "metadata": {},
   "outputs": [
    {
     "data": {
      "text/html": [
       "<div>\n",
       "<style scoped>\n",
       "    .dataframe tbody tr th:only-of-type {\n",
       "        vertical-align: middle;\n",
       "    }\n",
       "\n",
       "    .dataframe tbody tr th {\n",
       "        vertical-align: top;\n",
       "    }\n",
       "\n",
       "    .dataframe thead th {\n",
       "        text-align: right;\n",
       "    }\n",
       "</style>\n",
       "<table border=\"1\" class=\"dataframe\">\n",
       "  <thead>\n",
       "    <tr style=\"text-align: right;\">\n",
       "      <th></th>\n",
       "      <th>item_category_name</th>\n",
       "      <th>item_category_id</th>\n",
       "    </tr>\n",
       "  </thead>\n",
       "  <tbody>\n",
       "    <tr>\n",
       "      <th>0</th>\n",
       "      <td>PC - Гарнитуры/Наушники</td>\n",
       "      <td>0</td>\n",
       "    </tr>\n",
       "    <tr>\n",
       "      <th>1</th>\n",
       "      <td>Аксессуары - PS2</td>\n",
       "      <td>1</td>\n",
       "    </tr>\n",
       "    <tr>\n",
       "      <th>2</th>\n",
       "      <td>Аксессуары - PS3</td>\n",
       "      <td>2</td>\n",
       "    </tr>\n",
       "    <tr>\n",
       "      <th>3</th>\n",
       "      <td>Аксессуары - PS4</td>\n",
       "      <td>3</td>\n",
       "    </tr>\n",
       "    <tr>\n",
       "      <th>4</th>\n",
       "      <td>Аксессуары - PSP</td>\n",
       "      <td>4</td>\n",
       "    </tr>\n",
       "  </tbody>\n",
       "</table>\n",
       "</div>"
      ],
      "text/plain": [
       "        item_category_name  item_category_id\n",
       "0  PC - Гарнитуры/Наушники                 0\n",
       "1         Аксессуары - PS2                 1\n",
       "2         Аксессуары - PS3                 2\n",
       "3         Аксессуары - PS4                 3\n",
       "4         Аксессуары - PSP                 4"
      ]
     },
     "execution_count": 9,
     "metadata": {},
     "output_type": "execute_result"
    }
   ],
   "source": [
    "# item category and category id, to mape to item names in items\n",
    "items_cat.head()"
   ]
  },
  {
   "cell_type": "code",
   "execution_count": 10,
   "id": "behavioral-upset",
   "metadata": {
    "scrolled": true
   },
   "outputs": [
    {
     "data": {
      "text/html": [
       "<div>\n",
       "<style scoped>\n",
       "    .dataframe tbody tr th:only-of-type {\n",
       "        vertical-align: middle;\n",
       "    }\n",
       "\n",
       "    .dataframe tbody tr th {\n",
       "        vertical-align: top;\n",
       "    }\n",
       "\n",
       "    .dataframe thead th {\n",
       "        text-align: right;\n",
       "    }\n",
       "</style>\n",
       "<table border=\"1\" class=\"dataframe\">\n",
       "  <thead>\n",
       "    <tr style=\"text-align: right;\">\n",
       "      <th></th>\n",
       "      <th>date_block_num</th>\n",
       "      <th>shop_id</th>\n",
       "      <th>item_id</th>\n",
       "      <th>item_price</th>\n",
       "      <th>item_cnt_day</th>\n",
       "    </tr>\n",
       "  </thead>\n",
       "  <tbody>\n",
       "    <tr>\n",
       "      <th>count</th>\n",
       "      <td>2935849.000</td>\n",
       "      <td>2935849.000</td>\n",
       "      <td>2935849.000</td>\n",
       "      <td>2935849.000</td>\n",
       "      <td>2935849.000</td>\n",
       "    </tr>\n",
       "    <tr>\n",
       "      <th>mean</th>\n",
       "      <td>14.570</td>\n",
       "      <td>33.002</td>\n",
       "      <td>10197.227</td>\n",
       "      <td>890.853</td>\n",
       "      <td>1.243</td>\n",
       "    </tr>\n",
       "    <tr>\n",
       "      <th>std</th>\n",
       "      <td>9.423</td>\n",
       "      <td>16.227</td>\n",
       "      <td>6324.297</td>\n",
       "      <td>1729.800</td>\n",
       "      <td>2.619</td>\n",
       "    </tr>\n",
       "    <tr>\n",
       "      <th>min</th>\n",
       "      <td>0.000</td>\n",
       "      <td>0.000</td>\n",
       "      <td>0.000</td>\n",
       "      <td>-1.000</td>\n",
       "      <td>-22.000</td>\n",
       "    </tr>\n",
       "    <tr>\n",
       "      <th>25%</th>\n",
       "      <td>7.000</td>\n",
       "      <td>22.000</td>\n",
       "      <td>4476.000</td>\n",
       "      <td>249.000</td>\n",
       "      <td>1.000</td>\n",
       "    </tr>\n",
       "    <tr>\n",
       "      <th>50%</th>\n",
       "      <td>14.000</td>\n",
       "      <td>31.000</td>\n",
       "      <td>9343.000</td>\n",
       "      <td>399.000</td>\n",
       "      <td>1.000</td>\n",
       "    </tr>\n",
       "    <tr>\n",
       "      <th>75%</th>\n",
       "      <td>23.000</td>\n",
       "      <td>47.000</td>\n",
       "      <td>15684.000</td>\n",
       "      <td>999.000</td>\n",
       "      <td>1.000</td>\n",
       "    </tr>\n",
       "    <tr>\n",
       "      <th>max</th>\n",
       "      <td>33.000</td>\n",
       "      <td>59.000</td>\n",
       "      <td>22169.000</td>\n",
       "      <td>307980.000</td>\n",
       "      <td>2169.000</td>\n",
       "    </tr>\n",
       "  </tbody>\n",
       "</table>\n",
       "</div>"
      ],
      "text/plain": [
       "       date_block_num     shop_id     item_id  item_price  item_cnt_day\n",
       "count     2935849.000 2935849.000 2935849.000 2935849.000   2935849.000\n",
       "mean           14.570      33.002   10197.227     890.853         1.243\n",
       "std             9.423      16.227    6324.297    1729.800         2.619\n",
       "min             0.000       0.000       0.000      -1.000       -22.000\n",
       "25%             7.000      22.000    4476.000     249.000         1.000\n",
       "50%            14.000      31.000    9343.000     399.000         1.000\n",
       "75%            23.000      47.000   15684.000     999.000         1.000\n",
       "max            33.000      59.000   22169.000  307980.000      2169.000"
      ]
     },
     "execution_count": 10,
     "metadata": {},
     "output_type": "execute_result"
    }
   ],
   "source": [
    "# statistical summary of each feature, assuming negative means more items are returned than sold\n",
    "train.describe()"
   ]
  },
  {
   "cell_type": "code",
   "execution_count": 11,
   "id": "incident-alexander",
   "metadata": {
    "scrolled": false
   },
   "outputs": [
    {
     "data": {
      "text/plain": [
       "date              0\n",
       "date_block_num    0\n",
       "shop_id           0\n",
       "item_id           0\n",
       "item_price        0\n",
       "item_cnt_day      0\n",
       "dtype: int64"
      ]
     },
     "execution_count": 11,
     "metadata": {},
     "output_type": "execute_result"
    }
   ],
   "source": [
    "# checking for missing values\n",
    "train.isnull().sum()"
   ]
  },
  {
   "cell_type": "code",
   "execution_count": 12,
   "id": "modified-compression",
   "metadata": {
    "scrolled": true
   },
   "outputs": [
    {
     "data": {
      "text/html": [
       "<div>\n",
       "<style scoped>\n",
       "    .dataframe tbody tr th:only-of-type {\n",
       "        vertical-align: middle;\n",
       "    }\n",
       "\n",
       "    .dataframe tbody tr th {\n",
       "        vertical-align: top;\n",
       "    }\n",
       "\n",
       "    .dataframe thead th {\n",
       "        text-align: right;\n",
       "    }\n",
       "</style>\n",
       "<table border=\"1\" class=\"dataframe\">\n",
       "  <thead>\n",
       "    <tr style=\"text-align: right;\">\n",
       "      <th></th>\n",
       "      <th>date</th>\n",
       "      <th>date_block_num</th>\n",
       "      <th>shop_id</th>\n",
       "      <th>item_id</th>\n",
       "      <th>item_price</th>\n",
       "      <th>item_cnt_day</th>\n",
       "    </tr>\n",
       "  </thead>\n",
       "  <tbody>\n",
       "    <tr>\n",
       "      <th>76961</th>\n",
       "      <td>05.01.2013</td>\n",
       "      <td>0</td>\n",
       "      <td>54</td>\n",
       "      <td>20130</td>\n",
       "      <td>149.000</td>\n",
       "      <td>1.000</td>\n",
       "    </tr>\n",
       "    <tr>\n",
       "      <th>76962</th>\n",
       "      <td>05.01.2013</td>\n",
       "      <td>0</td>\n",
       "      <td>54</td>\n",
       "      <td>20130</td>\n",
       "      <td>149.000</td>\n",
       "      <td>1.000</td>\n",
       "    </tr>\n",
       "    <tr>\n",
       "      <th>1435365</th>\n",
       "      <td>23.02.2014</td>\n",
       "      <td>13</td>\n",
       "      <td>50</td>\n",
       "      <td>3423</td>\n",
       "      <td>999.000</td>\n",
       "      <td>1.000</td>\n",
       "    </tr>\n",
       "    <tr>\n",
       "      <th>1435367</th>\n",
       "      <td>23.02.2014</td>\n",
       "      <td>13</td>\n",
       "      <td>50</td>\n",
       "      <td>3423</td>\n",
       "      <td>999.000</td>\n",
       "      <td>1.000</td>\n",
       "    </tr>\n",
       "    <tr>\n",
       "      <th>1496765</th>\n",
       "      <td>23.03.2014</td>\n",
       "      <td>14</td>\n",
       "      <td>21</td>\n",
       "      <td>3423</td>\n",
       "      <td>999.000</td>\n",
       "      <td>1.000</td>\n",
       "    </tr>\n",
       "    <tr>\n",
       "      <th>1496766</th>\n",
       "      <td>23.03.2014</td>\n",
       "      <td>14</td>\n",
       "      <td>21</td>\n",
       "      <td>3423</td>\n",
       "      <td>999.000</td>\n",
       "      <td>1.000</td>\n",
       "    </tr>\n",
       "    <tr>\n",
       "      <th>1671872</th>\n",
       "      <td>01.05.2014</td>\n",
       "      <td>16</td>\n",
       "      <td>50</td>\n",
       "      <td>3423</td>\n",
       "      <td>999.000</td>\n",
       "      <td>1.000</td>\n",
       "    </tr>\n",
       "    <tr>\n",
       "      <th>1671873</th>\n",
       "      <td>01.05.2014</td>\n",
       "      <td>16</td>\n",
       "      <td>50</td>\n",
       "      <td>3423</td>\n",
       "      <td>999.000</td>\n",
       "      <td>1.000</td>\n",
       "    </tr>\n",
       "    <tr>\n",
       "      <th>1866322</th>\n",
       "      <td>12.07.2014</td>\n",
       "      <td>18</td>\n",
       "      <td>25</td>\n",
       "      <td>3423</td>\n",
       "      <td>999.000</td>\n",
       "      <td>1.000</td>\n",
       "    </tr>\n",
       "    <tr>\n",
       "      <th>1866340</th>\n",
       "      <td>12.07.2014</td>\n",
       "      <td>18</td>\n",
       "      <td>25</td>\n",
       "      <td>3423</td>\n",
       "      <td>999.000</td>\n",
       "      <td>1.000</td>\n",
       "    </tr>\n",
       "    <tr>\n",
       "      <th>2198564</th>\n",
       "      <td>31.12.2014</td>\n",
       "      <td>23</td>\n",
       "      <td>42</td>\n",
       "      <td>21619</td>\n",
       "      <td>499.000</td>\n",
       "      <td>1.000</td>\n",
       "    </tr>\n",
       "    <tr>\n",
       "      <th>2198566</th>\n",
       "      <td>31.12.2014</td>\n",
       "      <td>23</td>\n",
       "      <td>42</td>\n",
       "      <td>21619</td>\n",
       "      <td>499.000</td>\n",
       "      <td>1.000</td>\n",
       "    </tr>\n",
       "  </tbody>\n",
       "</table>\n",
       "</div>"
      ],
      "text/plain": [
       "               date  date_block_num  shop_id  item_id  item_price  \\\n",
       "76961    05.01.2013               0       54    20130     149.000   \n",
       "76962    05.01.2013               0       54    20130     149.000   \n",
       "1435365  23.02.2014              13       50     3423     999.000   \n",
       "1435367  23.02.2014              13       50     3423     999.000   \n",
       "1496765  23.03.2014              14       21     3423     999.000   \n",
       "1496766  23.03.2014              14       21     3423     999.000   \n",
       "1671872  01.05.2014              16       50     3423     999.000   \n",
       "1671873  01.05.2014              16       50     3423     999.000   \n",
       "1866322  12.07.2014              18       25     3423     999.000   \n",
       "1866340  12.07.2014              18       25     3423     999.000   \n",
       "2198564  31.12.2014              23       42    21619     499.000   \n",
       "2198566  31.12.2014              23       42    21619     499.000   \n",
       "\n",
       "         item_cnt_day  \n",
       "76961           1.000  \n",
       "76962           1.000  \n",
       "1435365         1.000  \n",
       "1435367         1.000  \n",
       "1496765         1.000  \n",
       "1496766         1.000  \n",
       "1671872         1.000  \n",
       "1671873         1.000  \n",
       "1866322         1.000  \n",
       "1866340         1.000  \n",
       "2198564         1.000  \n",
       "2198566         1.000  "
      ]
     },
     "execution_count": 12,
     "metadata": {},
     "output_type": "execute_result"
    }
   ],
   "source": [
    "# check for duplicates\n",
    "train[train.duplicated(keep = False)]"
   ]
  },
  {
   "cell_type": "code",
   "execution_count": 13,
   "id": "driving-relevance",
   "metadata": {},
   "outputs": [],
   "source": [
    "# drop duplicates, keep one copy\n",
    "train.drop_duplicates(keep = 'first',inplace = True)"
   ]
  },
  {
   "cell_type": "code",
   "execution_count": 14,
   "id": "connected-reviewer",
   "metadata": {},
   "outputs": [
    {
     "data": {
      "text/html": [
       "<div>\n",
       "<style scoped>\n",
       "    .dataframe tbody tr th:only-of-type {\n",
       "        vertical-align: middle;\n",
       "    }\n",
       "\n",
       "    .dataframe tbody tr th {\n",
       "        vertical-align: top;\n",
       "    }\n",
       "\n",
       "    .dataframe thead th {\n",
       "        text-align: right;\n",
       "    }\n",
       "</style>\n",
       "<table border=\"1\" class=\"dataframe\">\n",
       "  <thead>\n",
       "    <tr style=\"text-align: right;\">\n",
       "      <th></th>\n",
       "      <th>date</th>\n",
       "      <th>date_block_num</th>\n",
       "      <th>shop_id</th>\n",
       "      <th>item_id</th>\n",
       "      <th>item_price</th>\n",
       "      <th>item_cnt_day</th>\n",
       "    </tr>\n",
       "  </thead>\n",
       "  <tbody>\n",
       "    <tr>\n",
       "      <th>0</th>\n",
       "      <td>2013-01-02</td>\n",
       "      <td>0</td>\n",
       "      <td>59</td>\n",
       "      <td>22154</td>\n",
       "      <td>999.000</td>\n",
       "      <td>1.000</td>\n",
       "    </tr>\n",
       "    <tr>\n",
       "      <th>1</th>\n",
       "      <td>2013-01-03</td>\n",
       "      <td>0</td>\n",
       "      <td>25</td>\n",
       "      <td>2552</td>\n",
       "      <td>899.000</td>\n",
       "      <td>1.000</td>\n",
       "    </tr>\n",
       "    <tr>\n",
       "      <th>2</th>\n",
       "      <td>2013-01-05</td>\n",
       "      <td>0</td>\n",
       "      <td>25</td>\n",
       "      <td>2552</td>\n",
       "      <td>899.000</td>\n",
       "      <td>-1.000</td>\n",
       "    </tr>\n",
       "    <tr>\n",
       "      <th>3</th>\n",
       "      <td>2013-01-06</td>\n",
       "      <td>0</td>\n",
       "      <td>25</td>\n",
       "      <td>2554</td>\n",
       "      <td>1709.050</td>\n",
       "      <td>1.000</td>\n",
       "    </tr>\n",
       "    <tr>\n",
       "      <th>4</th>\n",
       "      <td>2013-01-15</td>\n",
       "      <td>0</td>\n",
       "      <td>25</td>\n",
       "      <td>2555</td>\n",
       "      <td>1099.000</td>\n",
       "      <td>1.000</td>\n",
       "    </tr>\n",
       "  </tbody>\n",
       "</table>\n",
       "</div>"
      ],
      "text/plain": [
       "        date  date_block_num  shop_id  item_id  item_price  item_cnt_day\n",
       "0 2013-01-02               0       59    22154     999.000         1.000\n",
       "1 2013-01-03               0       25     2552     899.000         1.000\n",
       "2 2013-01-05               0       25     2552     899.000        -1.000\n",
       "3 2013-01-06               0       25     2554    1709.050         1.000\n",
       "4 2013-01-15               0       25     2555    1099.000         1.000"
      ]
     },
     "execution_count": 14,
     "metadata": {},
     "output_type": "execute_result"
    }
   ],
   "source": [
    "# Changing the date column to datetime format and date as index\n",
    "train.date = pd.to_datetime(train.date, format = '%d.%m.%Y' )\n",
    "# train = train.set_index('date')\n",
    "\n",
    "train.head()"
   ]
  },
  {
   "cell_type": "code",
   "execution_count": 15,
   "id": "pleased-aggregate",
   "metadata": {
    "scrolled": true
   },
   "outputs": [
    {
     "data": {
      "image/png": "[encoded data removed]",
      "text/plain": [
       "<Figure size 432x288 with 2 Axes>"
      ]
     },
     "metadata": {
      "needs_background": "light"
     },
     "output_type": "display_data"
    }
   ],
   "source": [
    "# Looking at the correlation between features\n",
    "mask = np.triu(np.ones_like(train.corr(),dtype = bool))\n",
    "f,ax = plt.subplots()\n",
    "sns.heatmap(train.corr(),mask = mask,annot = True);"
   ]
  },
  {
   "cell_type": "code",
   "execution_count": 16,
   "id": "linear-chinese",
   "metadata": {},
   "outputs": [
    {
     "data": {
      "text/html": [
       "<div>\n",
       "<style scoped>\n",
       "    .dataframe tbody tr th:only-of-type {\n",
       "        vertical-align: middle;\n",
       "    }\n",
       "\n",
       "    .dataframe tbody tr th {\n",
       "        vertical-align: top;\n",
       "    }\n",
       "\n",
       "    .dataframe thead th {\n",
       "        text-align: right;\n",
       "    }\n",
       "</style>\n",
       "<table border=\"1\" class=\"dataframe\">\n",
       "  <thead>\n",
       "    <tr style=\"text-align: right;\">\n",
       "      <th></th>\n",
       "      <th>date_block_num</th>\n",
       "      <th>shop_id</th>\n",
       "      <th>item_id</th>\n",
       "      <th>item_price</th>\n",
       "      <th>item_cnt_day</th>\n",
       "    </tr>\n",
       "    <tr>\n",
       "      <th>date</th>\n",
       "      <th></th>\n",
       "      <th></th>\n",
       "      <th></th>\n",
       "      <th></th>\n",
       "      <th></th>\n",
       "    </tr>\n",
       "  </thead>\n",
       "  <tbody>\n",
       "    <tr>\n",
       "      <th>2013-01-01</th>\n",
       "      <td>0</td>\n",
       "      <td>18</td>\n",
       "      <td>16182</td>\n",
       "      <td>1619.000</td>\n",
       "      <td>1.000</td>\n",
       "    </tr>\n",
       "    <tr>\n",
       "      <th>2013-01-01</th>\n",
       "      <td>0</td>\n",
       "      <td>54</td>\n",
       "      <td>12355</td>\n",
       "      <td>399.000</td>\n",
       "      <td>1.000</td>\n",
       "    </tr>\n",
       "    <tr>\n",
       "      <th>2013-01-01</th>\n",
       "      <td>0</td>\n",
       "      <td>54</td>\n",
       "      <td>16877</td>\n",
       "      <td>149.000</td>\n",
       "      <td>1.000</td>\n",
       "    </tr>\n",
       "    <tr>\n",
       "      <th>2013-01-01</th>\n",
       "      <td>0</td>\n",
       "      <td>27</td>\n",
       "      <td>15435</td>\n",
       "      <td>499.000</td>\n",
       "      <td>1.000</td>\n",
       "    </tr>\n",
       "    <tr>\n",
       "      <th>2013-01-01</th>\n",
       "      <td>0</td>\n",
       "      <td>54</td>\n",
       "      <td>19678</td>\n",
       "      <td>149.000</td>\n",
       "      <td>1.000</td>\n",
       "    </tr>\n",
       "    <tr>\n",
       "      <th>...</th>\n",
       "      <td>...</td>\n",
       "      <td>...</td>\n",
       "      <td>...</td>\n",
       "      <td>...</td>\n",
       "      <td>...</td>\n",
       "    </tr>\n",
       "    <tr>\n",
       "      <th>2015-10-31</th>\n",
       "      <td>33</td>\n",
       "      <td>50</td>\n",
       "      <td>8918</td>\n",
       "      <td>28.000</td>\n",
       "      <td>1.000</td>\n",
       "    </tr>\n",
       "    <tr>\n",
       "      <th>2015-10-31</th>\n",
       "      <td>33</td>\n",
       "      <td>6</td>\n",
       "      <td>8116</td>\n",
       "      <td>1699.000</td>\n",
       "      <td>1.000</td>\n",
       "    </tr>\n",
       "    <tr>\n",
       "      <th>2015-10-31</th>\n",
       "      <td>33</td>\n",
       "      <td>37</td>\n",
       "      <td>2423</td>\n",
       "      <td>499.000</td>\n",
       "      <td>3.000</td>\n",
       "    </tr>\n",
       "    <tr>\n",
       "      <th>2015-10-31</th>\n",
       "      <td>33</td>\n",
       "      <td>50</td>\n",
       "      <td>10201</td>\n",
       "      <td>799.000</td>\n",
       "      <td>1.000</td>\n",
       "    </tr>\n",
       "    <tr>\n",
       "      <th>2015-10-31</th>\n",
       "      <td>33</td>\n",
       "      <td>41</td>\n",
       "      <td>14436</td>\n",
       "      <td>169.000</td>\n",
       "      <td>1.000</td>\n",
       "    </tr>\n",
       "  </tbody>\n",
       "</table>\n",
       "<p>2935843 rows × 5 columns</p>\n",
       "</div>"
      ],
      "text/plain": [
       "            date_block_num  shop_id  item_id  item_price  item_cnt_day\n",
       "date                                                                  \n",
       "2013-01-01               0       18    16182    1619.000         1.000\n",
       "2013-01-01               0       54    12355     399.000         1.000\n",
       "2013-01-01               0       54    16877     149.000         1.000\n",
       "2013-01-01               0       27    15435     499.000         1.000\n",
       "2013-01-01               0       54    19678     149.000         1.000\n",
       "...                    ...      ...      ...         ...           ...\n",
       "2015-10-31              33       50     8918      28.000         1.000\n",
       "2015-10-31              33        6     8116    1699.000         1.000\n",
       "2015-10-31              33       37     2423     499.000         3.000\n",
       "2015-10-31              33       50    10201     799.000         1.000\n",
       "2015-10-31              33       41    14436     169.000         1.000\n",
       "\n",
       "[2935843 rows x 5 columns]"
      ]
     },
     "execution_count": 16,
     "metadata": {},
     "output_type": "execute_result"
    }
   ],
   "source": [
    "# setting date as index\n",
    "train_1 = train.copy()\n",
    "train_1 = train_1.set_index('date').sort_index()\n",
    "train_1"
   ]
  },
  {
   "cell_type": "code",
   "execution_count": 17,
   "id": "rural-affairs",
   "metadata": {},
   "outputs": [
    {
     "data": {
      "text/plain": [
       "Text(0.5, 0, 'Year - Month')"
      ]
     },
     "execution_count": 17,
     "metadata": {},
     "output_type": "execute_result"
    },
    {
     "data": {
      "image/png": "[encoded data removed]",
      "text/plain": [
       "<Figure size 1440x720 with 1 Axes>"
      ]
     },
     "metadata": {
      "needs_background": "light"
     },
     "output_type": "display_data"
    }
   ],
   "source": [
    "# looking at total number of products sold throughout the months\n",
    "# sales is the highest in Jan of every month\n",
    "fig,ax = plt.subplots(figsize = (20,10))\n",
    "ax.plot(train_1.resample('M').agg({'item_price':'mean','item_cnt_day':'sum'})['item_cnt_day'])\n",
    "ax.set_title('Total number of products sold per month for all shops',fontsize = 14)\n",
    "ax.set_ylabel('Total monthly products sold',fontsize = 14)\n",
    "ax.set_xlabel('Year - Month',fontsize = 14)"
   ]
  },
  {
   "cell_type": "markdown",
   "id": "julian-compromise",
   "metadata": {},
   "source": [
    "### `item_cnt_day`"
   ]
  },
  {
   "cell_type": "code",
   "execution_count": 18,
   "id": "standing-nursing",
   "metadata": {
    "scrolled": true
   },
   "outputs": [
    {
     "data": {
      "text/plain": [
       "<AxesSubplot:xlabel='item_cnt_day'>"
      ]
     },
     "execution_count": 18,
     "metadata": {},
     "output_type": "execute_result"
    },
    {
     "data": {
      "image/png": "[encoded data removed]",
      "text/plain": [
       "<Figure size 432x288 with 1 Axes>"
      ]
     },
     "metadata": {
      "needs_background": "light"
     },
     "output_type": "display_data"
    }
   ],
   "source": [
    "# Looking at the distribution of target variable\n",
    "sns.boxplot(train.item_cnt_day)"
   ]
  },
  {
   "cell_type": "code",
   "execution_count": 19,
   "id": "french-convention",
   "metadata": {},
   "outputs": [
    {
     "data": {
      "text/html": [
       "<div>\n",
       "<style scoped>\n",
       "    .dataframe tbody tr th:only-of-type {\n",
       "        vertical-align: middle;\n",
       "    }\n",
       "\n",
       "    .dataframe tbody tr th {\n",
       "        vertical-align: top;\n",
       "    }\n",
       "\n",
       "    .dataframe thead th {\n",
       "        text-align: right;\n",
       "    }\n",
       "</style>\n",
       "<table border=\"1\" class=\"dataframe\">\n",
       "  <thead>\n",
       "    <tr style=\"text-align: right;\">\n",
       "      <th></th>\n",
       "      <th>date</th>\n",
       "      <th>date_block_num</th>\n",
       "      <th>shop_id</th>\n",
       "      <th>item_id</th>\n",
       "      <th>item_price</th>\n",
       "      <th>item_cnt_day</th>\n",
       "    </tr>\n",
       "  </thead>\n",
       "  <tbody>\n",
       "    <tr>\n",
       "      <th>2909818</th>\n",
       "      <td>2015-10-28</td>\n",
       "      <td>33</td>\n",
       "      <td>12</td>\n",
       "      <td>11373</td>\n",
       "      <td>0.909</td>\n",
       "      <td>2169.000</td>\n",
       "    </tr>\n",
       "  </tbody>\n",
       "</table>\n",
       "</div>"
      ],
      "text/plain": [
       "              date  date_block_num  shop_id  item_id  item_price  item_cnt_day\n",
       "2909818 2015-10-28              33       12    11373       0.909      2169.000"
      ]
     },
     "execution_count": 19,
     "metadata": {},
     "output_type": "execute_result"
    }
   ],
   "source": [
    "train[train.item_cnt_day > 2000]"
   ]
  },
  {
   "cell_type": "code",
   "execution_count": 20,
   "id": "comparative-testament",
   "metadata": {
    "scrolled": true
   },
   "outputs": [
    {
     "data": {
      "text/plain": [
       "<AxesSubplot:xlabel='item_cnt_day'>"
      ]
     },
     "execution_count": 20,
     "metadata": {},
     "output_type": "execute_result"
    },
    {
     "data": {
      "image/png": "[encoded data removed]",
      "text/plain": [
       "<Figure size 432x288 with 1 Axes>"
      ]
     },
     "metadata": {
      "needs_background": "light"
     },
     "output_type": "display_data"
    }
   ],
   "source": [
    "# based on the distribution of past item_cnt_day of the same item, seems like its an anomaly \n",
    "sns.boxplot(train[train.item_id == 11373][\"item_cnt_day\"])"
   ]
  },
  {
   "cell_type": "code",
   "execution_count": 21,
   "id": "controversial-dollar",
   "metadata": {},
   "outputs": [],
   "source": [
    "# Drop the anomaly\n",
    "train.drop(2909818,inplace = True)"
   ]
  },
  {
   "cell_type": "markdown",
   "id": "rapid-defense",
   "metadata": {},
   "source": [
    "### `item_price`"
   ]
  },
  {
   "cell_type": "code",
   "execution_count": 22,
   "id": "superb-discipline",
   "metadata": {
    "scrolled": true
   },
   "outputs": [
    {
     "data": {
      "text/plain": [
       "<AxesSubplot:xlabel='item_price'>"
      ]
     },
     "execution_count": 22,
     "metadata": {},
     "output_type": "execute_result"
    },
    {
     "data": {
      "image/png": "[encoded data removed]",
      "text/plain": [
       "<Figure size 1440x720 with 1 Axes>"
      ]
     },
     "metadata": {
      "needs_background": "light"
     },
     "output_type": "display_data"
    }
   ],
   "source": [
    "fig,ax = plt.subplots(figsize = (20,10))\n",
    "sns.violinplot(train.item_price)"
   ]
  },
  {
   "cell_type": "code",
   "execution_count": 23,
   "id": "boolean-rainbow",
   "metadata": {
    "scrolled": true
   },
   "outputs": [
    {
     "data": {
      "text/html": [
       "<div>\n",
       "<style scoped>\n",
       "    .dataframe tbody tr th:only-of-type {\n",
       "        vertical-align: middle;\n",
       "    }\n",
       "\n",
       "    .dataframe tbody tr th {\n",
       "        vertical-align: top;\n",
       "    }\n",
       "\n",
       "    .dataframe thead th {\n",
       "        text-align: right;\n",
       "    }\n",
       "</style>\n",
       "<table border=\"1\" class=\"dataframe\">\n",
       "  <thead>\n",
       "    <tr style=\"text-align: right;\">\n",
       "      <th></th>\n",
       "      <th>date</th>\n",
       "      <th>date_block_num</th>\n",
       "      <th>shop_id</th>\n",
       "      <th>item_id</th>\n",
       "      <th>item_price</th>\n",
       "      <th>item_cnt_day</th>\n",
       "    </tr>\n",
       "  </thead>\n",
       "  <tbody>\n",
       "    <tr>\n",
       "      <th>1163158</th>\n",
       "      <td>2013-12-13</td>\n",
       "      <td>11</td>\n",
       "      <td>12</td>\n",
       "      <td>6066</td>\n",
       "      <td>307980.000</td>\n",
       "      <td>1.000</td>\n",
       "    </tr>\n",
       "  </tbody>\n",
       "</table>\n",
       "</div>"
      ],
      "text/plain": [
       "              date  date_block_num  shop_id  item_id  item_price  item_cnt_day\n",
       "1163158 2013-12-13              11       12     6066  307980.000         1.000"
      ]
     },
     "execution_count": 23,
     "metadata": {},
     "output_type": "execute_result"
    }
   ],
   "source": [
    "# There is an extreme outlier with price > 300000\n",
    "train[train.item_price > 250000]"
   ]
  },
  {
   "cell_type": "code",
   "execution_count": 24,
   "id": "constitutional-peace",
   "metadata": {},
   "outputs": [
    {
     "data": {
      "text/html": [
       "<div>\n",
       "<style scoped>\n",
       "    .dataframe tbody tr th:only-of-type {\n",
       "        vertical-align: middle;\n",
       "    }\n",
       "\n",
       "    .dataframe tbody tr th {\n",
       "        vertical-align: top;\n",
       "    }\n",
       "\n",
       "    .dataframe thead th {\n",
       "        text-align: right;\n",
       "    }\n",
       "</style>\n",
       "<table border=\"1\" class=\"dataframe\">\n",
       "  <thead>\n",
       "    <tr style=\"text-align: right;\">\n",
       "      <th></th>\n",
       "      <th>date</th>\n",
       "      <th>date_block_num</th>\n",
       "      <th>shop_id</th>\n",
       "      <th>item_id</th>\n",
       "      <th>item_price</th>\n",
       "      <th>item_cnt_day</th>\n",
       "    </tr>\n",
       "  </thead>\n",
       "  <tbody>\n",
       "    <tr>\n",
       "      <th>1163158</th>\n",
       "      <td>2013-12-13</td>\n",
       "      <td>11</td>\n",
       "      <td>12</td>\n",
       "      <td>6066</td>\n",
       "      <td>307980.000</td>\n",
       "      <td>1.000</td>\n",
       "    </tr>\n",
       "  </tbody>\n",
       "</table>\n",
       "</div>"
      ],
      "text/plain": [
       "              date  date_block_num  shop_id  item_id  item_price  item_cnt_day\n",
       "1163158 2013-12-13              11       12     6066  307980.000         1.000"
      ]
     },
     "execution_count": 24,
     "metadata": {},
     "output_type": "execute_result"
    }
   ],
   "source": [
    "# Only 1 item with that price, might be an outlier\n",
    "train[train.item_id == 6066]"
   ]
  },
  {
   "cell_type": "code",
   "execution_count": 25,
   "id": "logical-cosmetic",
   "metadata": {},
   "outputs": [],
   "source": [
    "# Drop the outlier\n",
    "train.drop(1163158,inplace = True)"
   ]
  },
  {
   "cell_type": "markdown",
   "id": "frank-relief",
   "metadata": {},
   "source": [
    "### Pre-target variable: `item_cnt_day`\n",
    "target variable is the monthly value: `item_cnt_month`"
   ]
  },
  {
   "cell_type": "code",
   "execution_count": 26,
   "id": "floral-reservoir",
   "metadata": {},
   "outputs": [],
   "source": [
    "# extracting year and month\n",
    "train_1['year_month'] = train_1.index.strftime('%Y-%m')"
   ]
  },
  {
   "cell_type": "code",
   "execution_count": 27,
   "id": "ethical-macintosh",
   "metadata": {
    "scrolled": false
   },
   "outputs": [
    {
     "data": {
      "text/html": [
       "<div>\n",
       "<style scoped>\n",
       "    .dataframe tbody tr th:only-of-type {\n",
       "        vertical-align: middle;\n",
       "    }\n",
       "\n",
       "    .dataframe tbody tr th {\n",
       "        vertical-align: top;\n",
       "    }\n",
       "\n",
       "    .dataframe thead th {\n",
       "        text-align: right;\n",
       "    }\n",
       "</style>\n",
       "<table border=\"1\" class=\"dataframe\">\n",
       "  <thead>\n",
       "    <tr style=\"text-align: right;\">\n",
       "      <th></th>\n",
       "      <th>shop_id</th>\n",
       "      <th>item_id</th>\n",
       "      <th>2013-01</th>\n",
       "      <th>2013-02</th>\n",
       "      <th>2013-03</th>\n",
       "      <th>2013-04</th>\n",
       "      <th>2013-05</th>\n",
       "      <th>2013-06</th>\n",
       "      <th>2013-07</th>\n",
       "      <th>2013-08</th>\n",
       "      <th>...</th>\n",
       "      <th>2015-01</th>\n",
       "      <th>2015-02</th>\n",
       "      <th>2015-03</th>\n",
       "      <th>2015-04</th>\n",
       "      <th>2015-05</th>\n",
       "      <th>2015-06</th>\n",
       "      <th>2015-07</th>\n",
       "      <th>2015-08</th>\n",
       "      <th>2015-09</th>\n",
       "      <th>2015-10</th>\n",
       "    </tr>\n",
       "  </thead>\n",
       "  <tbody>\n",
       "    <tr>\n",
       "      <th>0</th>\n",
       "      <td>0</td>\n",
       "      <td>30</td>\n",
       "      <td>0</td>\n",
       "      <td>31</td>\n",
       "      <td>0</td>\n",
       "      <td>0</td>\n",
       "      <td>0</td>\n",
       "      <td>0</td>\n",
       "      <td>0</td>\n",
       "      <td>0</td>\n",
       "      <td>...</td>\n",
       "      <td>0</td>\n",
       "      <td>0</td>\n",
       "      <td>0</td>\n",
       "      <td>0</td>\n",
       "      <td>0</td>\n",
       "      <td>0</td>\n",
       "      <td>0</td>\n",
       "      <td>0</td>\n",
       "      <td>0</td>\n",
       "      <td>0</td>\n",
       "    </tr>\n",
       "    <tr>\n",
       "      <th>1</th>\n",
       "      <td>0</td>\n",
       "      <td>31</td>\n",
       "      <td>0</td>\n",
       "      <td>11</td>\n",
       "      <td>0</td>\n",
       "      <td>0</td>\n",
       "      <td>0</td>\n",
       "      <td>0</td>\n",
       "      <td>0</td>\n",
       "      <td>0</td>\n",
       "      <td>...</td>\n",
       "      <td>0</td>\n",
       "      <td>0</td>\n",
       "      <td>0</td>\n",
       "      <td>0</td>\n",
       "      <td>0</td>\n",
       "      <td>0</td>\n",
       "      <td>0</td>\n",
       "      <td>0</td>\n",
       "      <td>0</td>\n",
       "      <td>0</td>\n",
       "    </tr>\n",
       "    <tr>\n",
       "      <th>2</th>\n",
       "      <td>0</td>\n",
       "      <td>32</td>\n",
       "      <td>6</td>\n",
       "      <td>10</td>\n",
       "      <td>0</td>\n",
       "      <td>0</td>\n",
       "      <td>0</td>\n",
       "      <td>0</td>\n",
       "      <td>0</td>\n",
       "      <td>0</td>\n",
       "      <td>...</td>\n",
       "      <td>0</td>\n",
       "      <td>0</td>\n",
       "      <td>0</td>\n",
       "      <td>0</td>\n",
       "      <td>0</td>\n",
       "      <td>0</td>\n",
       "      <td>0</td>\n",
       "      <td>0</td>\n",
       "      <td>0</td>\n",
       "      <td>0</td>\n",
       "    </tr>\n",
       "    <tr>\n",
       "      <th>3</th>\n",
       "      <td>0</td>\n",
       "      <td>33</td>\n",
       "      <td>3</td>\n",
       "      <td>3</td>\n",
       "      <td>0</td>\n",
       "      <td>0</td>\n",
       "      <td>0</td>\n",
       "      <td>0</td>\n",
       "      <td>0</td>\n",
       "      <td>0</td>\n",
       "      <td>...</td>\n",
       "      <td>0</td>\n",
       "      <td>0</td>\n",
       "      <td>0</td>\n",
       "      <td>0</td>\n",
       "      <td>0</td>\n",
       "      <td>0</td>\n",
       "      <td>0</td>\n",
       "      <td>0</td>\n",
       "      <td>0</td>\n",
       "      <td>0</td>\n",
       "    </tr>\n",
       "    <tr>\n",
       "      <th>4</th>\n",
       "      <td>0</td>\n",
       "      <td>35</td>\n",
       "      <td>1</td>\n",
       "      <td>14</td>\n",
       "      <td>0</td>\n",
       "      <td>0</td>\n",
       "      <td>0</td>\n",
       "      <td>0</td>\n",
       "      <td>0</td>\n",
       "      <td>0</td>\n",
       "      <td>...</td>\n",
       "      <td>0</td>\n",
       "      <td>0</td>\n",
       "      <td>0</td>\n",
       "      <td>0</td>\n",
       "      <td>0</td>\n",
       "      <td>0</td>\n",
       "      <td>0</td>\n",
       "      <td>0</td>\n",
       "      <td>0</td>\n",
       "      <td>0</td>\n",
       "    </tr>\n",
       "    <tr>\n",
       "      <th>...</th>\n",
       "      <td>...</td>\n",
       "      <td>...</td>\n",
       "      <td>...</td>\n",
       "      <td>...</td>\n",
       "      <td>...</td>\n",
       "      <td>...</td>\n",
       "      <td>...</td>\n",
       "      <td>...</td>\n",
       "      <td>...</td>\n",
       "      <td>...</td>\n",
       "      <td>...</td>\n",
       "      <td>...</td>\n",
       "      <td>...</td>\n",
       "      <td>...</td>\n",
       "      <td>...</td>\n",
       "      <td>...</td>\n",
       "      <td>...</td>\n",
       "      <td>...</td>\n",
       "      <td>...</td>\n",
       "      <td>...</td>\n",
       "      <td>...</td>\n",
       "    </tr>\n",
       "    <tr>\n",
       "      <th>424119</th>\n",
       "      <td>59</td>\n",
       "      <td>22154</td>\n",
       "      <td>1</td>\n",
       "      <td>0</td>\n",
       "      <td>0</td>\n",
       "      <td>0</td>\n",
       "      <td>0</td>\n",
       "      <td>0</td>\n",
       "      <td>0</td>\n",
       "      <td>0</td>\n",
       "      <td>...</td>\n",
       "      <td>0</td>\n",
       "      <td>0</td>\n",
       "      <td>0</td>\n",
       "      <td>0</td>\n",
       "      <td>0</td>\n",
       "      <td>0</td>\n",
       "      <td>0</td>\n",
       "      <td>0</td>\n",
       "      <td>0</td>\n",
       "      <td>0</td>\n",
       "    </tr>\n",
       "    <tr>\n",
       "      <th>424120</th>\n",
       "      <td>59</td>\n",
       "      <td>22155</td>\n",
       "      <td>0</td>\n",
       "      <td>0</td>\n",
       "      <td>0</td>\n",
       "      <td>0</td>\n",
       "      <td>0</td>\n",
       "      <td>0</td>\n",
       "      <td>1</td>\n",
       "      <td>0</td>\n",
       "      <td>...</td>\n",
       "      <td>0</td>\n",
       "      <td>0</td>\n",
       "      <td>0</td>\n",
       "      <td>0</td>\n",
       "      <td>0</td>\n",
       "      <td>0</td>\n",
       "      <td>0</td>\n",
       "      <td>0</td>\n",
       "      <td>0</td>\n",
       "      <td>0</td>\n",
       "    </tr>\n",
       "    <tr>\n",
       "      <th>424121</th>\n",
       "      <td>59</td>\n",
       "      <td>22162</td>\n",
       "      <td>0</td>\n",
       "      <td>0</td>\n",
       "      <td>0</td>\n",
       "      <td>0</td>\n",
       "      <td>0</td>\n",
       "      <td>0</td>\n",
       "      <td>0</td>\n",
       "      <td>0</td>\n",
       "      <td>...</td>\n",
       "      <td>0</td>\n",
       "      <td>9</td>\n",
       "      <td>4</td>\n",
       "      <td>1</td>\n",
       "      <td>1</td>\n",
       "      <td>0</td>\n",
       "      <td>0</td>\n",
       "      <td>1</td>\n",
       "      <td>0</td>\n",
       "      <td>0</td>\n",
       "    </tr>\n",
       "    <tr>\n",
       "      <th>424122</th>\n",
       "      <td>59</td>\n",
       "      <td>22164</td>\n",
       "      <td>0</td>\n",
       "      <td>0</td>\n",
       "      <td>0</td>\n",
       "      <td>0</td>\n",
       "      <td>0</td>\n",
       "      <td>0</td>\n",
       "      <td>0</td>\n",
       "      <td>0</td>\n",
       "      <td>...</td>\n",
       "      <td>0</td>\n",
       "      <td>2</td>\n",
       "      <td>1</td>\n",
       "      <td>2</td>\n",
       "      <td>0</td>\n",
       "      <td>0</td>\n",
       "      <td>1</td>\n",
       "      <td>0</td>\n",
       "      <td>0</td>\n",
       "      <td>0</td>\n",
       "    </tr>\n",
       "    <tr>\n",
       "      <th>424123</th>\n",
       "      <td>59</td>\n",
       "      <td>22167</td>\n",
       "      <td>0</td>\n",
       "      <td>0</td>\n",
       "      <td>0</td>\n",
       "      <td>0</td>\n",
       "      <td>0</td>\n",
       "      <td>0</td>\n",
       "      <td>0</td>\n",
       "      <td>0</td>\n",
       "      <td>...</td>\n",
       "      <td>0</td>\n",
       "      <td>0</td>\n",
       "      <td>0</td>\n",
       "      <td>0</td>\n",
       "      <td>0</td>\n",
       "      <td>0</td>\n",
       "      <td>0</td>\n",
       "      <td>0</td>\n",
       "      <td>0</td>\n",
       "      <td>0</td>\n",
       "    </tr>\n",
       "  </tbody>\n",
       "</table>\n",
       "<p>424124 rows × 36 columns</p>\n",
       "</div>"
      ],
      "text/plain": [
       "        shop_id  item_id  2013-01  2013-02  2013-03  2013-04  2013-05  \\\n",
       "0             0       30        0       31        0        0        0   \n",
       "1             0       31        0       11        0        0        0   \n",
       "2             0       32        6       10        0        0        0   \n",
       "3             0       33        3        3        0        0        0   \n",
       "4             0       35        1       14        0        0        0   \n",
       "...         ...      ...      ...      ...      ...      ...      ...   \n",
       "424119       59    22154        1        0        0        0        0   \n",
       "424120       59    22155        0        0        0        0        0   \n",
       "424121       59    22162        0        0        0        0        0   \n",
       "424122       59    22164        0        0        0        0        0   \n",
       "424123       59    22167        0        0        0        0        0   \n",
       "\n",
       "        2013-06  2013-07  2013-08  ...  2015-01  2015-02  2015-03  2015-04  \\\n",
       "0             0        0        0  ...        0        0        0        0   \n",
       "1             0        0        0  ...        0        0        0        0   \n",
       "2             0        0        0  ...        0        0        0        0   \n",
       "3             0        0        0  ...        0        0        0        0   \n",
       "4             0        0        0  ...        0        0        0        0   \n",
       "...         ...      ...      ...  ...      ...      ...      ...      ...   \n",
       "424119        0        0        0  ...        0        0        0        0   \n",
       "424120        0        1        0  ...        0        0        0        0   \n",
       "424121        0        0        0  ...        0        9        4        1   \n",
       "424122        0        0        0  ...        0        2        1        2   \n",
       "424123        0        0        0  ...        0        0        0        0   \n",
       "\n",
       "        2015-05  2015-06  2015-07  2015-08  2015-09  2015-10  \n",
       "0             0        0        0        0        0        0  \n",
       "1             0        0        0        0        0        0  \n",
       "2             0        0        0        0        0        0  \n",
       "3             0        0        0        0        0        0  \n",
       "4             0        0        0        0        0        0  \n",
       "...         ...      ...      ...      ...      ...      ...  \n",
       "424119        0        0        0        0        0        0  \n",
       "424120        0        0        0        0        0        0  \n",
       "424121        1        0        0        1        0        0  \n",
       "424122        0        0        1        0        0        0  \n",
       "424123        0        0        0        0        0        0  \n",
       "\n",
       "[424124 rows x 36 columns]"
      ]
     },
     "execution_count": 27,
     "metadata": {},
     "output_type": "execute_result"
    }
   ],
   "source": [
    "# group according to shop_id and item_id\n",
    "df = pd.pivot_table(train_1, index = ['shop_id','item_id'], \n",
    "                              columns = 'year_month',\n",
    "                              values = 'item_cnt_day',\n",
    "                              aggfunc = np.sum,\n",
    "                              fill_value = 0)\n",
    "df = df.reset_index().rename_axis(None,axis = 1)\n",
    "df"
   ]
  },
  {
   "cell_type": "code",
   "execution_count": 30,
   "id": "secret-florida",
   "metadata": {
    "scrolled": true
   },
   "outputs": [
    {
     "data": {
      "text/html": [
       "<div>\n",
       "<style scoped>\n",
       "    .dataframe tbody tr th:only-of-type {\n",
       "        vertical-align: middle;\n",
       "    }\n",
       "\n",
       "    .dataframe tbody tr th {\n",
       "        vertical-align: top;\n",
       "    }\n",
       "\n",
       "    .dataframe thead th {\n",
       "        text-align: right;\n",
       "    }\n",
       "</style>\n",
       "<table border=\"1\" class=\"dataframe\">\n",
       "  <thead>\n",
       "    <tr style=\"text-align: right;\">\n",
       "      <th></th>\n",
       "      <th>2013-01</th>\n",
       "      <th>2013-02</th>\n",
       "      <th>2013-03</th>\n",
       "      <th>2013-04</th>\n",
       "      <th>2013-05</th>\n",
       "      <th>2013-06</th>\n",
       "      <th>2013-07</th>\n",
       "      <th>2013-08</th>\n",
       "      <th>2013-09</th>\n",
       "      <th>2013-10</th>\n",
       "      <th>...</th>\n",
       "      <th>2015-01</th>\n",
       "      <th>2015-02</th>\n",
       "      <th>2015-03</th>\n",
       "      <th>2015-04</th>\n",
       "      <th>2015-05</th>\n",
       "      <th>2015-06</th>\n",
       "      <th>2015-07</th>\n",
       "      <th>2015-08</th>\n",
       "      <th>2015-09</th>\n",
       "      <th>2015-10</th>\n",
       "    </tr>\n",
       "  </thead>\n",
       "  <tbody>\n",
       "    <tr>\n",
       "      <th>0</th>\n",
       "      <td>0.000</td>\n",
       "      <td>0.000</td>\n",
       "      <td>0.000</td>\n",
       "      <td>0.000</td>\n",
       "      <td>0.000</td>\n",
       "      <td>0.000</td>\n",
       "      <td>0.000</td>\n",
       "      <td>0.000</td>\n",
       "      <td>0.000</td>\n",
       "      <td>0.000</td>\n",
       "      <td>...</td>\n",
       "      <td>2.000</td>\n",
       "      <td>0.000</td>\n",
       "      <td>0.000</td>\n",
       "      <td>0.000</td>\n",
       "      <td>1.000</td>\n",
       "      <td>1.000</td>\n",
       "      <td>1.000</td>\n",
       "      <td>3.000</td>\n",
       "      <td>1.000</td>\n",
       "      <td>0.000</td>\n",
       "    </tr>\n",
       "    <tr>\n",
       "      <th>1</th>\n",
       "      <td>0.000</td>\n",
       "      <td>0.000</td>\n",
       "      <td>0.000</td>\n",
       "      <td>0.000</td>\n",
       "      <td>0.000</td>\n",
       "      <td>0.000</td>\n",
       "      <td>0.000</td>\n",
       "      <td>0.000</td>\n",
       "      <td>0.000</td>\n",
       "      <td>0.000</td>\n",
       "      <td>...</td>\n",
       "      <td>0.000</td>\n",
       "      <td>0.000</td>\n",
       "      <td>0.000</td>\n",
       "      <td>0.000</td>\n",
       "      <td>0.000</td>\n",
       "      <td>0.000</td>\n",
       "      <td>0.000</td>\n",
       "      <td>0.000</td>\n",
       "      <td>0.000</td>\n",
       "      <td>0.000</td>\n",
       "    </tr>\n",
       "    <tr>\n",
       "      <th>2</th>\n",
       "      <td>0.000</td>\n",
       "      <td>0.000</td>\n",
       "      <td>0.000</td>\n",
       "      <td>0.000</td>\n",
       "      <td>0.000</td>\n",
       "      <td>0.000</td>\n",
       "      <td>0.000</td>\n",
       "      <td>0.000</td>\n",
       "      <td>0.000</td>\n",
       "      <td>0.000</td>\n",
       "      <td>...</td>\n",
       "      <td>0.000</td>\n",
       "      <td>0.000</td>\n",
       "      <td>0.000</td>\n",
       "      <td>0.000</td>\n",
       "      <td>3.000</td>\n",
       "      <td>2.000</td>\n",
       "      <td>0.000</td>\n",
       "      <td>1.000</td>\n",
       "      <td>3.000</td>\n",
       "      <td>1.000</td>\n",
       "    </tr>\n",
       "    <tr>\n",
       "      <th>3</th>\n",
       "      <td>0.000</td>\n",
       "      <td>0.000</td>\n",
       "      <td>0.000</td>\n",
       "      <td>0.000</td>\n",
       "      <td>0.000</td>\n",
       "      <td>0.000</td>\n",
       "      <td>0.000</td>\n",
       "      <td>0.000</td>\n",
       "      <td>0.000</td>\n",
       "      <td>0.000</td>\n",
       "      <td>...</td>\n",
       "      <td>0.000</td>\n",
       "      <td>0.000</td>\n",
       "      <td>0.000</td>\n",
       "      <td>0.000</td>\n",
       "      <td>0.000</td>\n",
       "      <td>0.000</td>\n",
       "      <td>0.000</td>\n",
       "      <td>1.000</td>\n",
       "      <td>0.000</td>\n",
       "      <td>0.000</td>\n",
       "    </tr>\n",
       "    <tr>\n",
       "      <th>4</th>\n",
       "      <td>0.000</td>\n",
       "      <td>0.000</td>\n",
       "      <td>0.000</td>\n",
       "      <td>0.000</td>\n",
       "      <td>0.000</td>\n",
       "      <td>0.000</td>\n",
       "      <td>0.000</td>\n",
       "      <td>0.000</td>\n",
       "      <td>0.000</td>\n",
       "      <td>0.000</td>\n",
       "      <td>...</td>\n",
       "      <td>0.000</td>\n",
       "      <td>0.000</td>\n",
       "      <td>0.000</td>\n",
       "      <td>0.000</td>\n",
       "      <td>0.000</td>\n",
       "      <td>0.000</td>\n",
       "      <td>0.000</td>\n",
       "      <td>0.000</td>\n",
       "      <td>0.000</td>\n",
       "      <td>0.000</td>\n",
       "    </tr>\n",
       "  </tbody>\n",
       "</table>\n",
       "<p>5 rows × 34 columns</p>\n",
       "</div>"
      ],
      "text/plain": [
       "   2013-01  2013-02  2013-03  2013-04  2013-05  2013-06  2013-07  2013-08  \\\n",
       "0    0.000    0.000    0.000    0.000    0.000    0.000    0.000    0.000   \n",
       "1    0.000    0.000    0.000    0.000    0.000    0.000    0.000    0.000   \n",
       "2    0.000    0.000    0.000    0.000    0.000    0.000    0.000    0.000   \n",
       "3    0.000    0.000    0.000    0.000    0.000    0.000    0.000    0.000   \n",
       "4    0.000    0.000    0.000    0.000    0.000    0.000    0.000    0.000   \n",
       "\n",
       "   2013-09  2013-10  ...  2015-01  2015-02  2015-03  2015-04  2015-05  \\\n",
       "0    0.000    0.000  ...    2.000    0.000    0.000    0.000    1.000   \n",
       "1    0.000    0.000  ...    0.000    0.000    0.000    0.000    0.000   \n",
       "2    0.000    0.000  ...    0.000    0.000    0.000    0.000    3.000   \n",
       "3    0.000    0.000  ...    0.000    0.000    0.000    0.000    0.000   \n",
       "4    0.000    0.000  ...    0.000    0.000    0.000    0.000    0.000   \n",
       "\n",
       "   2015-06  2015-07  2015-08  2015-09  2015-10  \n",
       "0    1.000    1.000    3.000    1.000    0.000  \n",
       "1    0.000    0.000    0.000    0.000    0.000  \n",
       "2    2.000    0.000    1.000    3.000    1.000  \n",
       "3    0.000    0.000    1.000    0.000    0.000  \n",
       "4    0.000    0.000    0.000    0.000    0.000  \n",
       "\n",
       "[5 rows x 34 columns]"
      ]
     },
     "execution_count": 30,
     "metadata": {},
     "output_type": "execute_result"
    }
   ],
   "source": [
    "# to filter out those item counts that we want to predict afterwards\n",
    "df_test = test.merge(df, on = ['shop_id','item_id'],how = 'left').fillna(0).drop(columns = 'ID')\n",
    "\n",
    "# drop redundant columns for df_test\n",
    "df_test = df_test.drop(columns = ['shop_id','item_id'])\n",
    "df_test.head()"
   ]
  },
  {
   "cell_type": "code",
   "execution_count": 31,
   "id": "explicit-bullet",
   "metadata": {},
   "outputs": [],
   "source": [
    "# df_test_train: Training set where we use all dates except the latest one to train model\n",
    "# df_test_val: Test set where we use latest date to validate model\n",
    "df_test_train = df_test.iloc[:,:-1]\n",
    "df_test_val = df_test.iloc[:,-1]"
   ]
  },
  {
   "cell_type": "code",
   "execution_count": 32,
   "id": "speaking-above",
   "metadata": {},
   "outputs": [
    {
     "name": "stdout",
     "output_type": "stream",
     "text": [
      "validation set: (214200,)\n",
      "train set: (214200, 33)\n"
     ]
    }
   ],
   "source": [
    "print(f'validation set: {df_test_val.shape}')\n",
    "print(f'train set: {df_test_train.shape}')"
   ]
  },
  {
   "cell_type": "markdown",
   "id": "extraordinary-indicator",
   "metadata": {},
   "source": [
    "### Data Modeling \n",
    "Using **2015-10** as our target feature and earlier time periods as our predictor features"
   ]
  },
  {
   "cell_type": "code",
   "execution_count": 33,
   "id": "official-turtle",
   "metadata": {},
   "outputs": [],
   "source": [
    "# train test split df: X = all columns except last one, y = last column\n",
    "X = df_test_train\n",
    "y = df_test_val\n",
    "X_train,X_test,y_train,y_test = train_test_split(X,y,shuffle = False,test_size = 0.2, random_state = 42)"
   ]
  },
  {
   "cell_type": "code",
   "execution_count": 34,
   "id": "embedded-december",
   "metadata": {
    "scrolled": true
   },
   "outputs": [
    {
     "name": "stdout",
     "output_type": "stream",
     "text": [
      "train: (214200, 33)\n",
      "test: (214200,)\n",
      "val train: (42840, 33)\n",
      "val test: (42840,)\n"
     ]
    }
   ],
   "source": [
    "# looking at rows, columns for train and validation set\n",
    "print(f'train: {X.shape}')\n",
    "print(f'test: {y.shape}')\n",
    "print(f'val train: {X_test.shape}')\n",
    "print(f'val test: {y_test.shape}')"
   ]
  },
  {
   "cell_type": "markdown",
   "id": "graphic-brain",
   "metadata": {},
   "source": [
    "### StandardScaler\n",
    "Normalize scales of features to improve accuracy of predictions especially if our variables are on different scales/magnitudes. This is because this would affect the performances of models that specifically rely on distance metrics(k-NN, PCA) as well as to speed up gradient descent convergence for deep neural networks during backpropagation. Mainly to ensure that every feature contributes equally to the models! "
   ]
  },
  {
   "cell_type": "code",
   "execution_count": 35,
   "id": "requested-progressive",
   "metadata": {},
   "outputs": [],
   "source": [
    "# scale data\n",
    "ss = StandardScaler()\n",
    "ss.fit(X_train)\n",
    "X_train_ss = ss.transform(X_train)\n",
    "X_test_ss = ss.transform(X_test)"
   ]
  },
  {
   "cell_type": "code",
   "execution_count": 36,
   "id": "hungarian-theology",
   "metadata": {},
   "outputs": [],
   "source": [
    "def get_models(models=dict()):\n",
    "# linear models\n",
    "    models['lr'] = LinearRegression()\n",
    "    models['lasso'] = Lasso()\n",
    "    models['ridge'] = Ridge()\n",
    "    models['en'] = ElasticNet()\n",
    "    models['huber'] = HuberRegressor()\n",
    "    models['pa'] = PassiveAggressiveRegressor(max_iter=1000, tol=1e-3)\n",
    "   \n",
    "    return models\n",
    "\n",
    "def get_models_nl(models=dict()):\n",
    "# non-linear models\n",
    "    models['svr'] = SVR()\n",
    "# ensemble models\n",
    "    n_trees = 100\n",
    "    models['ada'] = AdaBoostRegressor(n_estimators=n_trees)\n",
    "    models['bag'] = BaggingRegressor(n_estimators=n_trees)\n",
    "    models['rf'] = RandomForestRegressor(n_estimators=n_trees)\n",
    "    models['et'] = ExtraTreesRegressor(n_estimators=n_trees)\n",
    "    models['gbm'] = GradientBoostingRegressor(n_estimators=n_trees)\n",
    "    return models\n",
    "\n",
    "def pipeline(model):\n",
    "    pipe = Pipeline([(model, model_dict[model])])\n",
    "    return pipe\n",
    "\n",
    "def params(model):\n",
    "    \n",
    "\n",
    "    if model == 'lasso':\n",
    "        return {\"alpha\":[0.01,0.1,1,2,5,10],\n",
    "               }\n",
    "    \n",
    "    \n",
    "    elif model == 'ridge':\n",
    "        return {\n",
    "            \"alpha\":[0.01,0.1,1,2,5,10],\n",
    "            }\n",
    "    \n",
    "    elif model == 'en':\n",
    "        return {\n",
    "            'alpha':[0.01,0.1,1,10],\n",
    "            'l1_ratio':[0.2,0.3,0.4,0.5,0.6]\n",
    "            }\n",
    "    elif model == 'knn':\n",
    "        return {\n",
    "            'n_neighbors':[4,5,6,7]}\n",
    "\n",
    "    elif model == 'dt':\n",
    "        return {\n",
    "            'max_depth':[3,4,5],\n",
    "            'min_samples_split':[2,3,4],\n",
    "            'min_samples_leaf':[2,3,4]\n",
    "        }\n",
    "    elif model == 'bag':\n",
    "        return {\n",
    "            'max_features':[100, 150]\n",
    "        }\n",
    "        \n",
    "    elif model == 'rf':\n",
    "        return {\n",
    "            'n_estimators':[100,150],\n",
    "            'max_depth':[4],\n",
    "            'min_samples_leaf':[2,3,4]\n",
    "        }\n",
    "    elif model == 'et':\n",
    "        return {\n",
    "            'n_estimators':[50,100,150],\n",
    "            'max_depth':[5],\n",
    "            'min_samples_leaf':[2,3],\n",
    "        }\n",
    "    elif model == 'abc':\n",
    "        return {\n",
    "            'n_estimators':[50, 100,150],\n",
    "            'learning_rate':[0.3,0.6,1]\n",
    "        }\n",
    "    elif model == 'gbc':\n",
    "        return {\n",
    "            'learning_rate':[0.2],\n",
    "            'max_depth':[5],\n",
    "            'min_samples_split':[2,5]\n",
    "            \n",
    "        }\n",
    "    elif model == 'xgb':\n",
    "        return {\n",
    "            'eval_metric' : ['auc'],\n",
    "            'subsample' : [0.8], \n",
    "            'colsample_bytree' : [0.5], \n",
    "            'learning_rate' : [0.1],\n",
    "            'max_depth' : [5], \n",
    "            'scale_pos_weight': [5], \n",
    "            'n_estimators' : [100,200],\n",
    "            'reg_alpha' : [0, 0.05],\n",
    "            'reg_lambda' : [2,3],\n",
    "            'gamma' : [0.01]\n",
    "                             \n",
    "        }\n",
    "    elif model == 'svr':\n",
    "        return {\n",
    "            'kernel': ['rbf', 'linear','poly'], \n",
    "            'C': [1,20,50,100],\n",
    "            'gamma':['scale','auto'],\n",
    "            'epsilon':[0.1,1,10]\n",
    "        }\n",
    "    elif model == 'ada':\n",
    "        return {\n",
    "            'n_estimators':[50,100,150],\n",
    "            'learning_rate':[0.01,0.1,1],\n",
    "            \n",
    "        }\n",
    "    elif model == 'bag':\n",
    "        return {\n",
    "            'n_estimators':[20,50,100,150],\n",
    "            'max_features':[5,10,20],\n",
    "            'max_samples':[0.1,0.2,0.3,0.5,0.7],\n",
    "            'bootstrap':[True]\n",
    "            \n",
    "        }\n",
    "    elif model == 'rf':\n",
    "        return {\n",
    "             'bootstrap': [True],\n",
    "             'max_depth': [5,10,20],\n",
    "             'max_features': [\"auto\", \"sqrt\", \"log2\"],\n",
    "             'min_samples_leaf': [2,4,6,8,10],\n",
    "             'min_samples_split': [2,5,8,10],\n",
    "             'n_estimators': [50,200,300,400],\n",
    "             'random_state': 42,\n",
    "             }\n",
    "    elif model == 'et':\n",
    "        return {\n",
    "             'bootstrap': [True],\n",
    "             'max_depth': [5,10,20],\n",
    "             'max_features': [\"auto\", \"sqrt\", \"log2\"],\n",
    "             'min_samples_leaf': [2,4,6,8,10],\n",
    "             'min_samples_split': [2,5,8,10],\n",
    "             'n_estimators': [50,200,300,400],\n",
    "             'random_state': 42,\n",
    "        }\n",
    "            \n",
    "    elif model == 'gbm':\n",
    "        return {\n",
    "            'learning_rate' : [0.1,0.3,0.6,1], \n",
    "            'min_samples_split':[500,1000,2000,3000,5000],\n",
    "            'min_samples_leaf': [50,200,400,1000],\n",
    "            'max_depth' : [8,10,20,30]\n",
    "        }"
   ]
  },
  {
   "cell_type": "code",
   "execution_count": 37,
   "id": "sticky-found",
   "metadata": {},
   "outputs": [],
   "source": [
    "def evaluate_models(models, X_train_ss,y_train,X_test_ss,y_test):\n",
    "    for name, model in models.items():\n",
    "    # fit models\n",
    "        model_fit = model.fit(X_train_ss,y_train)\n",
    "        # make predictions\n",
    "        train_preds = model_fit.predict(X_train_ss)\n",
    "        test_preds = model_fit.predict(X_test_ss)\n",
    "        # evaluate forecast\n",
    "        train_mse = mean_squared_error(y_train,train_preds)\n",
    "        test_mse = mean_squared_error(y_test,test_preds)\n",
    "        print(f'{name}:')\n",
    "        print(f'----')\n",
    "        print(f'Train MAE: {round(train_mse,2)}')\n",
    "        print(f'Test MAE: {round(test_mse,2)}')\n",
    "        print(f'\\n')\n",
    "    \n",
    "\n"
   ]
  },
  {
   "cell_type": "code",
   "execution_count": 38,
   "id": "practical-competition",
   "metadata": {},
   "outputs": [],
   "source": [
    "# grid search with gridsearchcv\n",
    "def grid_search(model,models,X_train = X_train_ss,y_train = y_train,X_test = X_test_ss,y_test=y_test):\n",
    "    pipe_params = params(model)\n",
    "    model = models[model]\n",
    "    gs = GridSearchCV(model,param_grid = pipe_params,cv = 5,scoring = 'neg_mean_squared_error', verbose=True, n_jobs=8)\n",
    "    gs.fit(X_train_ss,y_train)\n",
    "    train_score = gs.score(X_train_ss,y_train)\n",
    "    test_score = gs.score(X_test_ss,y_test)\n",
    "    \n",
    "    print(f'Results from: {model}')\n",
    "    print(f'-----------------------------------')\n",
    "    print(f'Best Hyperparameters: {gs.best_params_}')\n",
    "    print(f'Mean MSE: {round(gs.best_score_,4)}')\n",
    "    print(f'Train Score: {round(train_score,4)}')\n",
    "    print(f'Test Score: {round(test_score,4)}')\n",
    "    print(' ')"
   ]
  },
  {
   "cell_type": "code",
   "execution_count": 39,
   "id": "prompt-letters",
   "metadata": {},
   "outputs": [],
   "source": [
    "# grid search with randomizedsearchcv\n",
    "def grid_search_rs(model,models,X_train = X_train_ss,y_train = y_train,X_test = X_test_ss,y_test=y_test):\n",
    "    pipe_params = params(model)\n",
    "    model = models[model]\n",
    "    gs = RandomizedSearchCV(model,param_distributions = pipe_params,cv = 5,scoring = 'neg_mean_squared_error', verbose=True, n_jobs=8)\n",
    "    gs.fit(X_train_ss,y_train)\n",
    "    train_score = gs.score(X_train_ss,y_train)\n",
    "    test_score = gs.score(X_test_ss,y_test)\n",
    "    \n",
    "    print(f'Results from: {model}')\n",
    "    print(f'-----------------------------------')\n",
    "    print(f'Best Hyperparameters: {gs.best_params_}')\n",
    "    print(f'Mean MSE: {round(gs.best_score_,4)}')\n",
    "    print(f'Train Score: {round(train_score,4)}')\n",
    "    print(f'Test Score: {round(test_score,4)}')\n",
    "    print(' ')"
   ]
  },
  {
   "cell_type": "markdown",
   "id": "textile-monitor",
   "metadata": {},
   "source": [
    "### Linear models"
   ]
  },
  {
   "cell_type": "code",
   "execution_count": 40,
   "id": "therapeutic-lotus",
   "metadata": {
    "scrolled": false
   },
   "outputs": [
    {
     "name": "stdout",
     "output_type": "stream",
     "text": [
      "lr:\n",
      "----\n",
      "Train MAE: 17.96\n",
      "Test MAE: 3.32\n",
      "\n",
      "\n",
      "lasso:\n",
      "----\n",
      "Train MAE: 24.46\n",
      "Test MAE: 1.01\n",
      "\n",
      "\n",
      "ridge:\n",
      "----\n",
      "Train MAE: 17.96\n",
      "Test MAE: 3.32\n",
      "\n",
      "\n",
      "en:\n",
      "----\n",
      "Train MAE: 24.51\n",
      "Test MAE: 0.88\n",
      "\n",
      "\n",
      "huber:\n",
      "----\n",
      "Train MAE: 32.23\n",
      "Test MAE: 0.83\n",
      "\n",
      "\n",
      "pa:\n",
      "----\n",
      "Train MAE: 35.71\n",
      "Test MAE: 1.53\n",
      "\n",
      "\n"
     ]
    }
   ],
   "source": [
    "models = get_models()\n",
    "evaluate_models(models,X_train_ss,y_train,X_test_ss,y_test)"
   ]
  },
  {
   "cell_type": "code",
   "execution_count": 98,
   "id": "alive-chile",
   "metadata": {
    "scrolled": false
   },
   "outputs": [
    {
     "name": "stdout",
     "output_type": "stream",
     "text": [
      "Fitting 5 folds for each of 6 candidates, totalling 30 fits\n",
      "Results from: Lasso()\n",
      "-----------------------------------\n",
      "Best Hyperparameters: {'alpha': 0.1}\n",
      "Mean MSE: -31.5447\n",
      "Train Score: -19.0354\n",
      "Test Score: -1.9192\n",
      " \n",
      "Wall time: 8.75 s\n"
     ]
    }
   ],
   "source": [
    "# best params of lasso\n",
    "%time grid_search('lasso',models)"
   ]
  },
  {
   "cell_type": "code",
   "execution_count": 99,
   "id": "atlantic-asbestos",
   "metadata": {},
   "outputs": [
    {
     "name": "stdout",
     "output_type": "stream",
     "text": [
      "Fitting 5 folds for each of 6 candidates, totalling 30 fits\n",
      "Results from: Lasso()\n",
      "-----------------------------------\n",
      "Best Hyperparameters: {'alpha': 0.1}\n",
      "Mean MSE: -31.5447\n",
      "Train Score: -19.0354\n",
      "Test Score: -1.9192\n",
      " \n",
      "Wall time: 6.63 s\n"
     ]
    }
   ],
   "source": [
    "%%time\n",
    "grid_search_rs('lasso',models)"
   ]
  },
  {
   "cell_type": "code",
   "execution_count": 100,
   "id": "everyday-prerequisite",
   "metadata": {},
   "outputs": [
    {
     "name": "stdout",
     "output_type": "stream",
     "text": [
      "Fitting 5 folds for each of 10 candidates, totalling 50 fits\n",
      "Results from: ElasticNet()\n",
      "-----------------------------------\n",
      "Best Hyperparameters: {'l1_ratio': 0.2, 'alpha': 0.1}\n",
      "Mean MSE: -31.1294\n",
      "Train Score: -18.9416\n",
      "Test Score: -1.9402\n",
      " \n",
      "Wall time: 15.7 s\n"
     ]
    }
   ],
   "source": [
    "# best params of en:\n",
    "%time grid_search_rs('en',models)"
   ]
  },
  {
   "cell_type": "code",
   "execution_count": 101,
   "id": "impressive-birthday",
   "metadata": {},
   "outputs": [
    {
     "name": "stdout",
     "output_type": "stream",
     "text": [
      "Fitting 5 folds for each of 20 candidates, totalling 100 fits\n",
      "Results from: ElasticNet()\n",
      "-----------------------------------\n",
      "Best Hyperparameters: {'alpha': 0.1, 'l1_ratio': 0.2}\n",
      "Mean MSE: -31.1294\n",
      "Train Score: -18.9416\n",
      "Test Score: -1.9402\n",
      " \n",
      "Wall time: 36.9 s\n"
     ]
    }
   ],
   "source": [
    "# best params of en:\n",
    "%time grid_search('en',models)"
   ]
  },
  {
   "cell_type": "markdown",
   "id": "verified-study",
   "metadata": {},
   "source": [
    "### LSTM\n",
    "An extension of RNN that overcomes the vanishing gradient problem and to learn long term dependencies in sequence prediction problems using the memory cells present in the hidden states!"
   ]
  },
  {
   "cell_type": "code",
   "execution_count": 41,
   "id": "assumed-digest",
   "metadata": {
    "scrolled": true
   },
   "outputs": [
    {
     "data": {
      "text/plain": [
       "(171360, 33)"
      ]
     },
     "execution_count": 41,
     "metadata": {},
     "output_type": "execute_result"
    }
   ],
   "source": [
    "X_train_ss.shape"
   ]
  },
  {
   "cell_type": "code",
   "execution_count": 42,
   "id": "identified-invention",
   "metadata": {},
   "outputs": [],
   "source": [
    "# reshape [samples,timesteps] into expected shape [samples,timesteps,n_features]\n",
    "# samples = number of records ,timestep = how far back are we looking? , n_features = no. of variables, 1 as we are only using cnt to predict next month's cnt\n",
    "X_train_ss_rs = X_train_ss.reshape((X_train_ss.shape[0],X_train_ss.shape[1],1))\n",
    "X_test_ss_rs = X_test_ss.reshape((X_test_ss.shape[0],X_test_ss.shape[1],1))\n",
    "ss1 = StandardScaler()\n",
    "ss1.fit(y_train.values.reshape(y_train.shape[0],1))\n",
    "y_train_ss = ss1.transform(y_train.values.reshape(y_train.shape[0],1))"
   ]
  },
  {
   "cell_type": "code",
   "execution_count": 104,
   "id": "posted-compatibility",
   "metadata": {
    "scrolled": true
   },
   "outputs": [
    {
     "name": "stdout",
     "output_type": "stream",
     "text": [
      "Epoch 1/30\n",
      "4/4 - 12s - loss: 0.0921\n",
      "Epoch 2/30\n",
      "4/4 - 10s - loss: 0.0787\n",
      "Epoch 3/30\n",
      "4/4 - 10s - loss: 0.0685\n",
      "Epoch 4/30\n",
      "4/4 - 10s - loss: 0.0623\n",
      "Epoch 5/30\n",
      "4/4 - 10s - loss: 0.0644\n",
      "Epoch 6/30\n",
      "4/4 - 10s - loss: 0.0635\n",
      "Epoch 7/30\n",
      "4/4 - 10s - loss: 0.0656\n",
      "Epoch 8/30\n",
      "4/4 - 10s - loss: 0.0625\n",
      "Epoch 9/30\n",
      "4/4 - 10s - loss: 0.0619\n",
      "Epoch 10/30\n",
      "4/4 - 10s - loss: 0.0619\n",
      "Epoch 11/30\n",
      "4/4 - 11s - loss: 0.0584\n",
      "Epoch 12/30\n",
      "4/4 - 11s - loss: 0.0573\n",
      "Epoch 13/30\n",
      "4/4 - 14s - loss: 0.0550\n",
      "Epoch 14/30\n",
      "4/4 - 13s - loss: 0.0545\n",
      "Epoch 15/30\n",
      "4/4 - 14s - loss: 0.0533\n",
      "Epoch 16/30\n",
      "4/4 - 15s - loss: 0.0525\n",
      "Epoch 17/30\n",
      "4/4 - 11s - loss: 0.0522\n",
      "Epoch 18/30\n",
      "4/4 - 11s - loss: 0.0514\n",
      "Epoch 19/30\n",
      "4/4 - 11s - loss: 0.0518\n",
      "Epoch 20/30\n",
      "4/4 - 10s - loss: 0.0503\n",
      "Epoch 21/30\n",
      "4/4 - 10s - loss: 0.0495\n",
      "Epoch 22/30\n",
      "4/4 - 10s - loss: 0.0492\n",
      "Epoch 23/30\n",
      "4/4 - 10s - loss: 0.0487\n",
      "Epoch 24/30\n",
      "4/4 - 10s - loss: 0.0495\n",
      "Epoch 25/30\n",
      "4/4 - 10s - loss: 0.0489\n",
      "Epoch 26/30\n",
      "4/4 - 10s - loss: 0.0480\n",
      "Epoch 27/30\n",
      "4/4 - 10s - loss: 0.0496\n",
      "Epoch 28/30\n",
      "4/4 - 10s - loss: 0.0482\n",
      "Epoch 29/30\n",
      "4/4 - 10s - loss: 0.0474\n",
      "Epoch 30/30\n",
      "4/4 - 10s - loss: 0.0469\n",
      "Wall time: 5min 23s\n"
     ]
    },
    {
     "data": {
      "text/plain": [
       "[<matplotlib.lines.Line2D at 0x1dfe70fd7f0>]"
      ]
     },
     "execution_count": 104,
     "metadata": {},
     "output_type": "execute_result"
    },
    {
     "data": {
      "image/png": "[encoded data removed]",
      "text/plain": [
       "<Figure size 432x288 with 1 Axes>"
      ]
     },
     "metadata": {
      "needs_background": "light"
     },
     "output_type": "display_data"
    }
   ],
   "source": [
    "%%time\n",
    "model = Sequential()\n",
    "model.add(LSTM(50, input_shape = (X_train_ss_rs.shape[1],X_train_ss_rs.shape[2]),activation = 'relu'))\n",
    "model.add(Dense(16,activation = 'relu'))\n",
    "model.add(Dropout(0.4))\n",
    "model.add(Dense(1))\n",
    "model.compile(loss = 'mae',optimizer = 'adam')\n",
    "history = model.fit(X_train_ss_rs,y_train_ss,epochs = 30, batch_size = 50000, verbose = 2,shuffle = False)\n",
    "plt.plot(history.history['loss'],label = 'loss')"
   ]
  },
  {
   "cell_type": "code",
   "execution_count": 105,
   "id": "irish-seeking",
   "metadata": {
    "scrolled": true
   },
   "outputs": [
    {
     "name": "stdout",
     "output_type": "stream",
     "text": [
      "Epoch 1/50\n",
      "2/2 - 12s - loss: 0.0938\n",
      "Epoch 2/50\n",
      "2/2 - 10s - loss: 0.0853\n",
      "Epoch 3/50\n",
      "2/2 - 10s - loss: 0.0763\n",
      "Epoch 4/50\n",
      "2/2 - 10s - loss: 0.0663\n",
      "Epoch 5/50\n",
      "2/2 - 10s - loss: 0.0662\n",
      "Epoch 6/50\n",
      "2/2 - 10s - loss: 0.0661\n",
      "Epoch 7/50\n",
      "2/2 - 10s - loss: 0.0651\n",
      "Epoch 8/50\n",
      "2/2 - 10s - loss: 0.0634\n",
      "Epoch 9/50\n",
      "2/2 - 10s - loss: 0.0621\n",
      "Epoch 10/50\n",
      "2/2 - 10s - loss: 0.0608\n",
      "Epoch 11/50\n",
      "2/2 - 10s - loss: 0.0590\n",
      "Epoch 12/50\n",
      "2/2 - 10s - loss: 0.0582\n",
      "Epoch 13/50\n",
      "2/2 - 10s - loss: 0.0579\n",
      "Epoch 14/50\n",
      "2/2 - 10s - loss: 0.0567\n",
      "Epoch 15/50\n",
      "2/2 - 10s - loss: 0.0562\n",
      "Epoch 16/50\n",
      "2/2 - 10s - loss: 0.0553\n",
      "Epoch 17/50\n",
      "2/2 - 10s - loss: 0.0553\n",
      "Epoch 18/50\n",
      "2/2 - 10s - loss: 0.0548\n",
      "Epoch 19/50\n",
      "2/2 - 10s - loss: 0.0541\n",
      "Epoch 20/50\n",
      "2/2 - 10s - loss: 0.0537\n",
      "Epoch 21/50\n",
      "2/2 - 10s - loss: 0.0533\n",
      "Epoch 22/50\n",
      "2/2 - 10s - loss: 0.0524\n",
      "Epoch 23/50\n",
      "2/2 - 10s - loss: 0.0525\n",
      "Epoch 24/50\n",
      "2/2 - 10s - loss: 0.0521\n",
      "Epoch 25/50\n",
      "2/2 - 10s - loss: 0.0516\n",
      "Epoch 26/50\n",
      "2/2 - 10s - loss: 0.0514\n",
      "Epoch 27/50\n",
      "2/2 - 10s - loss: 0.0512\n",
      "Epoch 28/50\n",
      "2/2 - 10s - loss: 0.0505\n",
      "Epoch 29/50\n",
      "2/2 - 10s - loss: 0.0507\n",
      "Epoch 30/50\n",
      "2/2 - 10s - loss: 0.0499\n",
      "Epoch 31/50\n",
      "2/2 - 10s - loss: 0.0497\n",
      "Epoch 32/50\n",
      "2/2 - 10s - loss: 0.0493\n",
      "Epoch 33/50\n",
      "2/2 - 10s - loss: 0.0492\n",
      "Epoch 34/50\n",
      "2/2 - 10s - loss: 0.0487\n",
      "Epoch 35/50\n",
      "2/2 - 10s - loss: 0.0484\n",
      "Epoch 36/50\n",
      "2/2 - 10s - loss: 0.0480\n",
      "Epoch 37/50\n",
      "2/2 - 10s - loss: 0.0485\n",
      "Epoch 38/50\n",
      "2/2 - 10s - loss: 0.0479\n",
      "Epoch 39/50\n",
      "2/2 - 10s - loss: 0.0476\n",
      "Epoch 40/50\n",
      "2/2 - 10s - loss: 0.0475\n",
      "Epoch 41/50\n",
      "2/2 - 10s - loss: 0.0476\n",
      "Epoch 42/50\n",
      "2/2 - 10s - loss: 0.0467\n",
      "Epoch 43/50\n",
      "2/2 - 10s - loss: 0.0471\n",
      "Epoch 44/50\n",
      "2/2 - 10s - loss: 0.0463\n",
      "Epoch 45/50\n",
      "2/2 - 10s - loss: 0.0465\n",
      "Epoch 46/50\n",
      "2/2 - 10s - loss: 0.0462\n",
      "Epoch 47/50\n",
      "2/2 - 10s - loss: 0.0458\n",
      "Epoch 48/50\n",
      "2/2 - 10s - loss: 0.0459\n",
      "Epoch 49/50\n",
      "2/2 - 10s - loss: 0.0463\n",
      "Epoch 50/50\n",
      "2/2 - 10s - loss: 0.0454\n",
      "Wall time: 8min 21s\n"
     ]
    },
    {
     "data": {
      "text/plain": [
       "[<matplotlib.lines.Line2D at 0x1dfcaac9ac0>]"
      ]
     },
     "execution_count": 105,
     "metadata": {},
     "output_type": "execute_result"
    },
    {
     "data": {
      "image/png": "[encoded data removed]",
      "text/plain": [
       "<Figure size 432x288 with 1 Axes>"
      ]
     },
     "metadata": {
      "needs_background": "light"
     },
     "output_type": "display_data"
    }
   ],
   "source": [
    "%%time\n",
    "model_1 = Sequential()\n",
    "# [samples,timesteps,features]\n",
    "model_1.add(LSTM(50, input_shape = (X_train_ss_rs.shape[1],X_train_ss_rs.shape[2]),activation = 'relu'))\n",
    "model_1.add(Dense(16,activation = 'relu'))\n",
    "model_1.add(Dropout(0.4))\n",
    "model_1.add(Dense(1))\n",
    "model_1.compile(loss = 'mae',optimizer = 'adam')\n",
    "history_1 = model_1.fit(X_train_ss_rs,y_train_ss,epochs = 50, batch_size = 100000, verbose = 2,shuffle = False)\n",
    "plt.plot(history_1.history['loss'],label = 'loss')"
   ]
  },
  {
   "cell_type": "code",
   "execution_count": 110,
   "id": "sonic-agency",
   "metadata": {
    "scrolled": false
   },
   "outputs": [
    {
     "data": {
      "text/plain": [
       "<matplotlib.legend.Legend at 0x1dfca719a30>"
      ]
     },
     "execution_count": 110,
     "metadata": {},
     "output_type": "execute_result"
    },
    {
     "data": {
      "image/png": "[encoded data removed]",
      "text/plain": [
       "<Figure size 1440x720 with 1 Axes>"
      ]
     },
     "metadata": {
      "needs_background": "light"
     },
     "output_type": "display_data"
    }
   ],
   "source": [
    "fig,ax = plt.subplots(figsize = (20,10))\n",
    "ax.plot(history.history['loss'],label = 'Smaller batch size')\n",
    "ax.plot(history_1.history['loss'],label = 'Larger batch size, more epochs')\n",
    "# ax.plot(history_2.history['loss'],label = 'Larger batch size, more epochs, no relu')\n",
    "plt.legend()"
   ]
  },
  {
   "cell_type": "code",
   "execution_count": 50,
   "id": "mexican-month",
   "metadata": {},
   "outputs": [],
   "source": [
    "# function to evaluate performance of models\n",
    "def mae_train_test(model,model_name, X_train,y_train,X_test,y_test,ss1):\n",
    "    trainpreds = ss1.inverse_transform(model.predict(X_train)).reshape((y_train.shape[0],))\n",
    "    testpreds = ss1.inverse_transform(model.predict(X_test)).reshape((y_test.shape[0],))\n",
    "    print(f'Model: {model_name}')\n",
    "    print('----')\n",
    "    print(f'Train MAE: {mean_squared_error(y_train,trainpreds)}')\n",
    "    print(f'Test MAE: {mean_squared_error(y_test,testpreds)}')\n",
    "    print('\\n')\n",
    "    "
   ]
  },
  {
   "cell_type": "code",
   "execution_count": 112,
   "id": "great-segment",
   "metadata": {
    "scrolled": true
   },
   "outputs": [
    {
     "name": "stdout",
     "output_type": "stream",
     "text": [
      "Model: LSTM - Smaller Batch Size\n",
      "----\n",
      "Train MAE: 33.793531372637474\n",
      "Test MAE: 0.8218399035882286\n",
      "\n",
      "\n",
      "Model: LSTM - Larger Batch Size, more epochs\n",
      "----\n",
      "Train MAE: 28.381191756903092\n",
      "Test MAE: 0.7468863822650611\n",
      "\n",
      "\n"
     ]
    }
   ],
   "source": [
    "mae_train_test(model,\"LSTM - Smaller Batch Size\", X_train_ss_rs,y_train,X_test_ss_rs,y_test,ss1)\n",
    "mae_train_test(model_1,\"LSTM - Larger Batch Size, more epochs\", X_train_ss_rs,y_train,X_test_ss_rs,y_test,ss1)\n",
    "# mae_train_test(model_2,\"LSTM -Larger Batch Size, more epochs, no relu\", X_train_ss_rs,y_train,X_test_ss_rs,y_test,ss1)"
   ]
  },
  {
   "cell_type": "markdown",
   "id": "celtic-frost",
   "metadata": {},
   "source": [
    "### CNN-LSTM\n",
    "CNN: For additional feature engineering, LSTM: to overcome vanishing gradient problem and to learn long-term dependencies. "
   ]
  },
  {
   "cell_type": "code",
   "execution_count": 45,
   "id": "focused-imperial",
   "metadata": {
    "scrolled": true
   },
   "outputs": [
    {
     "name": "stdout",
     "output_type": "stream",
     "text": [
      "Shape of X_train: (171360, 33)\n",
      "Shape of X_test: (42840, 33)\n"
     ]
    }
   ],
   "source": [
    "print(f'Shape of X_train: {X_train.shape}')\n",
    "print(f'Shape of X_test: {X_test.shape}')"
   ]
  },
  {
   "cell_type": "code",
   "execution_count": 46,
   "id": "productive-mouse",
   "metadata": {
    "scrolled": true
   },
   "outputs": [
    {
     "name": "stdout",
     "output_type": "stream",
     "text": [
      "Shape of X_train_sub: (171360, 1, 33, 1)\n",
      "Shape of X_test_sub: (42840, 1, 33, 1)\n"
     ]
    }
   ],
   "source": [
    "# required input shape: [samples, subsequences, timesteps, features]\n",
    "# number of samples: \n",
    "subseq = 1\n",
    "ts = 33\n",
    "ss_cnn = StandardScaler()\n",
    "ss_cnn.fit(X_train)\n",
    "X_train_sub = ss_cnn.transform(X_train).reshape((X_train.shape[0],subseq,ts,1))\n",
    "X_test_sub = ss_cnn.transform(X_test).reshape((X_test.shape[0],subseq,ts,1))\n",
    "print(f'Shape of X_train_sub: {X_train_sub.shape}')\n",
    "print(f'Shape of X_test_sub: {X_test_sub.shape}')"
   ]
  },
  {
   "cell_type": "code",
   "execution_count": 115,
   "id": "minor-richards",
   "metadata": {
    "scrolled": true
   },
   "outputs": [
    {
     "name": "stdout",
     "output_type": "stream",
     "text": [
      "Epoch 1/50\n",
      "2/2 - 20s - loss: 0.0852\n",
      "Epoch 2/50\n",
      "2/2 - 7s - loss: 0.0659\n",
      "Epoch 3/50\n",
      "2/2 - 7s - loss: 0.0663\n",
      "Epoch 4/50\n",
      "2/2 - 7s - loss: 0.0614\n",
      "Epoch 5/50\n",
      "2/2 - 7s - loss: 0.0600\n",
      "Epoch 6/50\n",
      "2/2 - 7s - loss: 0.0600\n",
      "Epoch 7/50\n",
      "2/2 - 7s - loss: 0.0576\n",
      "Epoch 8/50\n",
      "2/2 - 7s - loss: 0.0577\n",
      "Epoch 9/50\n",
      "2/2 - 7s - loss: 0.0571\n",
      "Epoch 10/50\n",
      "2/2 - 7s - loss: 0.0559\n",
      "Epoch 11/50\n",
      "2/2 - 7s - loss: 0.0554\n",
      "Epoch 12/50\n",
      "2/2 - 8s - loss: 0.0557\n",
      "Epoch 13/50\n",
      "2/2 - 7s - loss: 0.0549\n",
      "Epoch 14/50\n",
      "2/2 - 8s - loss: 0.0545\n",
      "Epoch 15/50\n",
      "2/2 - 7s - loss: 0.0546\n",
      "Epoch 16/50\n",
      "2/2 - 7s - loss: 0.0544\n",
      "Epoch 17/50\n",
      "2/2 - 7s - loss: 0.0538\n",
      "Epoch 18/50\n",
      "2/2 - 7s - loss: 0.0535\n",
      "Epoch 19/50\n",
      "2/2 - 7s - loss: 0.0531\n",
      "Epoch 20/50\n",
      "2/2 - 8s - loss: 0.0527\n",
      "Epoch 21/50\n",
      "2/2 - 7s - loss: 0.0527\n",
      "Epoch 22/50\n",
      "2/2 - 7s - loss: 0.0522\n",
      "Epoch 23/50\n",
      "2/2 - 7s - loss: 0.0520\n",
      "Epoch 24/50\n",
      "2/2 - 7s - loss: 0.0518\n",
      "Epoch 25/50\n",
      "2/2 - 7s - loss: 0.0517\n",
      "Epoch 26/50\n",
      "2/2 - 7s - loss: 0.0511\n",
      "Epoch 27/50\n",
      "2/2 - 7s - loss: 0.0514\n",
      "Epoch 28/50\n",
      "2/2 - 7s - loss: 0.0507\n",
      "Epoch 29/50\n",
      "2/2 - 7s - loss: 0.0506\n",
      "Epoch 30/50\n",
      "2/2 - 7s - loss: 0.0503\n",
      "Epoch 31/50\n",
      "2/2 - 7s - loss: 0.0502\n",
      "Epoch 32/50\n",
      "2/2 - 7s - loss: 0.0501\n",
      "Epoch 33/50\n",
      "2/2 - 8s - loss: 0.0497\n",
      "Epoch 34/50\n",
      "2/2 - 8s - loss: 0.0496\n",
      "Epoch 35/50\n",
      "2/2 - 8s - loss: 0.0497\n",
      "Epoch 36/50\n",
      "2/2 - 8s - loss: 0.0495\n",
      "Epoch 37/50\n",
      "2/2 - 8s - loss: 0.0489\n",
      "Epoch 38/50\n",
      "2/2 - 8s - loss: 0.0492\n",
      "Epoch 39/50\n",
      "2/2 - 8s - loss: 0.0487\n",
      "Epoch 40/50\n",
      "2/2 - 9s - loss: 0.0486\n",
      "Epoch 41/50\n",
      "2/2 - 8s - loss: 0.0487\n",
      "Epoch 42/50\n",
      "2/2 - 8s - loss: 0.0481\n",
      "Epoch 43/50\n",
      "2/2 - 9s - loss: 0.0478\n",
      "Epoch 44/50\n",
      "2/2 - 8s - loss: 0.0478\n",
      "Epoch 45/50\n",
      "2/2 - 8s - loss: 0.0479\n",
      "Epoch 46/50\n",
      "2/2 - 7s - loss: 0.0477\n",
      "Epoch 47/50\n",
      "2/2 - 7s - loss: 0.0479\n",
      "Epoch 48/50\n",
      "2/2 - 7s - loss: 0.0469\n",
      "Epoch 49/50\n",
      "2/2 - 7s - loss: 0.0472\n",
      "Epoch 50/50\n",
      "2/2 - 8s - loss: 0.0469\n",
      "Wall time: 6min 19s\n"
     ]
    }
   ],
   "source": [
    "%%time \n",
    "cnn_lstm = Sequential()\n",
    "cnn_lstm.add(TimeDistributed(Conv1D(filters = 64, kernel_size = 2, input_shape = (None,X_train_sub.shape[2],X_train_sub.shape[3]),activation = 'relu')))\n",
    "cnn_lstm.add(TimeDistributed(Dropout(0.4)))\n",
    "cnn_lstm.add(TimeDistributed(MaxPooling1D(pool_size = 1)))\n",
    "cnn_lstm.add(TimeDistributed(Flatten()))\n",
    "cnn_lstm.add(LSTM(50, activation = 'relu',return_sequences = True))\n",
    "cnn_lstm.add(Dense(16,activation = 'relu'))\n",
    "cnn_lstm.add(Dropout(0.4))\n",
    "cnn_lstm.add(Dense(1))\n",
    "cnn_lstm.compile(loss= 'mae',optimizer = 'adam')\n",
    "cnn_lstm_history = cnn_lstm.fit(X_train_sub,y_train_ss, epochs = 50, batch_size = 100000, verbose = 2,shuffle = False)\n"
   ]
  },
  {
   "cell_type": "code",
   "execution_count": 89,
   "id": "juvenile-entrance",
   "metadata": {
    "scrolled": true
   },
   "outputs": [],
   "source": [
    "# cnn_lstm.reset_states()"
   ]
  },
  {
   "cell_type": "code",
   "execution_count": 48,
   "id": "crazy-literacy",
   "metadata": {
    "scrolled": true
   },
   "outputs": [
    {
     "name": "stdout",
     "output_type": "stream",
     "text": [
      "Epoch 1/30\n",
      "2/2 - 32s - loss: 0.0886\n",
      "Epoch 2/30\n",
      "2/2 - 7s - loss: 0.0662\n",
      "Epoch 3/30\n",
      "2/2 - 7s - loss: 0.0623\n",
      "Epoch 4/30\n",
      "2/2 - 7s - loss: 0.0621\n",
      "Epoch 5/30\n",
      "2/2 - 7s - loss: 0.0573\n",
      "Epoch 6/30\n",
      "2/2 - 7s - loss: 0.0576\n",
      "Epoch 7/30\n",
      "2/2 - 7s - loss: 0.0578\n",
      "Epoch 8/30\n",
      "2/2 - 7s - loss: 0.0561\n",
      "Epoch 9/30\n",
      "2/2 - 7s - loss: 0.0550\n",
      "Epoch 10/30\n",
      "2/2 - 7s - loss: 0.0550\n",
      "Epoch 11/30\n",
      "2/2 - 7s - loss: 0.0557\n",
      "Epoch 12/30\n",
      "2/2 - 7s - loss: 0.0539\n",
      "Epoch 13/30\n",
      "2/2 - 7s - loss: 0.0536\n",
      "Epoch 14/30\n",
      "2/2 - 7s - loss: 0.0537\n",
      "Epoch 15/30\n",
      "2/2 - 7s - loss: 0.0528\n",
      "Epoch 16/30\n",
      "2/2 - 7s - loss: 0.0527\n",
      "Epoch 17/30\n",
      "2/2 - 7s - loss: 0.0529\n",
      "Epoch 18/30\n",
      "2/2 - 7s - loss: 0.0523\n",
      "Epoch 19/30\n",
      "2/2 - 7s - loss: 0.0518\n",
      "Epoch 20/30\n",
      "2/2 - 7s - loss: 0.0520\n",
      "Epoch 21/30\n",
      "2/2 - 7s - loss: 0.0517\n",
      "Epoch 22/30\n",
      "2/2 - 8s - loss: 0.0515\n",
      "Epoch 23/30\n",
      "2/2 - 8s - loss: 0.0509\n",
      "Epoch 24/30\n",
      "2/2 - 9s - loss: 0.0513\n",
      "Epoch 25/30\n",
      "2/2 - 9s - loss: 0.0508\n",
      "Epoch 26/30\n",
      "2/2 - 8s - loss: 0.0507\n",
      "Epoch 27/30\n",
      "2/2 - 8s - loss: 0.0506\n",
      "Epoch 28/30\n",
      "2/2 - 7s - loss: 0.0500\n",
      "Epoch 29/30\n",
      "2/2 - 7s - loss: 0.0504\n",
      "Epoch 30/30\n",
      "2/2 - 7s - loss: 0.0501\n",
      "Wall time: 4min 9s\n"
     ]
    }
   ],
   "source": [
    "%%time\n",
    "cnn_lstm_1 = Sequential()\n",
    "cnn_lstm_1.add(TimeDistributed(Conv1D(filters = 64, kernel_size = 11, input_shape = (None,1,X_train_sub.shape[2],X_train_sub.shape[3]),activation = 'relu')))\n",
    "cnn_lstm_1.add(TimeDistributed(Dropout(0.4)))\n",
    "cnn_lstm_1.add(TimeDistributed(MaxPooling1D(pool_size = 1)))\n",
    "cnn_lstm_1.add(TimeDistributed(Flatten()))\n",
    "cnn_lstm_1.add(LSTM(50, activation = 'relu'))\n",
    "cnn_lstm_1.add(Dense(16))\n",
    "cnn_lstm_1.add((Dropout(0.4)))\n",
    "cnn_lstm_1.add(Dense(1))\n",
    "cnn_lstm_1.compile(loss= 'mae',optimizer = 'adam')\n",
    "cnn_lstm_1_history = cnn_lstm_1.fit(X_train_sub,y_train_ss, epochs = 30, batch_size = 100000, verbose = 2,shuffle = False)\n"
   ]
  },
  {
   "cell_type": "code",
   "execution_count": 117,
   "id": "respiratory-range",
   "metadata": {
    "scrolled": false
   },
   "outputs": [
    {
     "data": {
      "text/plain": [
       "<matplotlib.legend.Legend at 0x1dfad0ea3d0>"
      ]
     },
     "execution_count": 117,
     "metadata": {},
     "output_type": "execute_result"
    },
    {
     "data": {
      "image/png": "[encoded data removed]",
      "text/plain": [
       "<Figure size 1440x720 with 1 Axes>"
      ]
     },
     "metadata": {
      "needs_background": "light"
     },
     "output_type": "display_data"
    }
   ],
   "source": [
    "fig,ax = plt.subplots(figsize = (20,10))\n",
    "ax.plot(cnn_lstm_history.history['loss'],label = 'more epochs, return state')\n",
    "ax.plot(cnn_lstm_1_history.history['loss'],label = 'fewer epochs, without relu')\n",
    "ax.legend()"
   ]
  },
  {
   "cell_type": "code",
   "execution_count": 118,
   "id": "single-minute",
   "metadata": {
    "scrolled": true
   },
   "outputs": [
    {
     "name": "stdout",
     "output_type": "stream",
     "text": [
      "Model: CNN-LSTM\n",
      "----\n",
      "Train MAE: 28.077274266354568\n",
      "Test MAE: 0.7197554123666983\n",
      "\n",
      "\n"
     ]
    }
   ],
   "source": [
    "mae_train_test(cnn_lstm,\"CNN-LSTM\", X_train_sub,y_train,X_test_sub,y_test,ss1)"
   ]
  },
  {
   "cell_type": "code",
   "execution_count": 51,
   "id": "biological-shield",
   "metadata": {},
   "outputs": [
    {
     "name": "stdout",
     "output_type": "stream",
     "text": [
      "Model: CNN-LSTM - No relu\n",
      "----\n",
      "Train MAE: 25.67723097164851\n",
      "Test MAE: 0.7198006962073465\n",
      "\n",
      "\n"
     ]
    }
   ],
   "source": [
    "mae_train_test(cnn_lstm_1,\"CNN-LSTM - No relu\", X_train_sub,y_train,X_test_sub,y_test,ss1)"
   ]
  },
  {
   "cell_type": "markdown",
   "id": "lesbian-virtue",
   "metadata": {},
   "source": [
    "### Generating forecasts\n",
    "Since our model is trained on the past 33 months of data, we will feed the same duration of historical data to make our forecasts! "
   ]
  },
  {
   "cell_type": "code",
   "execution_count": 124,
   "id": "interstate-perfume",
   "metadata": {},
   "outputs": [
    {
     "name": "stdout",
     "output_type": "stream",
     "text": [
      "test: (214200, 34)\n",
      "train: (424124, 34)\n"
     ]
    }
   ],
   "source": [
    "print(f'test: {df_test.shape}')\n",
    "print(f'train: {df_train.shape}')"
   ]
  },
  {
   "cell_type": "code",
   "execution_count": 53,
   "id": "micro-communications",
   "metadata": {},
   "outputs": [],
   "source": [
    "## Using only 33 columns to make our next forecasts\n",
    "df_test_1 = df_test.iloc[:,1:]\n",
    "ss_test = StandardScaler()\n",
    "ss_test.fit(df_test_1)\n",
    "df_test_1_sub = ss_test.transform(df_test_1).reshape((df_test_1.shape[0],subseq,ts,1))"
   ]
  },
  {
   "cell_type": "code",
   "execution_count": 54,
   "id": "fiscal-wesley",
   "metadata": {},
   "outputs": [
    {
     "data": {
      "text/plain": [
       "(214200, 33)"
      ]
     },
     "execution_count": 54,
     "metadata": {},
     "output_type": "execute_result"
    }
   ],
   "source": [
    "df_test_1.shape"
   ]
  },
  {
   "cell_type": "code",
   "execution_count": 55,
   "id": "extended-economics",
   "metadata": {
    "scrolled": false
   },
   "outputs": [
    {
     "name": "stdout",
     "output_type": "stream",
     "text": [
      "Shape of test: (214200, 1, 33, 1)\n"
     ]
    }
   ],
   "source": [
    "print(f'Shape of test: {df_test_1_sub.shape}')"
   ]
  },
  {
   "cell_type": "code",
   "execution_count": 59,
   "id": "prime-adjustment",
   "metadata": {
    "scrolled": true
   },
   "outputs": [],
   "source": [
    "# generating forecasts, input = 33 months of data, output = 34th month\n",
    "preds = cnn_lstm_1.predict(df_test_1_sub)"
   ]
  },
  {
   "cell_type": "code",
   "execution_count": 61,
   "id": "metallic-iceland",
   "metadata": {},
   "outputs": [],
   "source": [
    "# since we scaled 33 variables, the standardscaler expects 33 variables so we'll just leave them as 0s\n",
    "forecasts = np.zeros(shape=(len(preds), 33) )\n",
    "# replace the first column with the actual preds\n",
    "forecasts[:,0] = preds[:,0]\n",
    "# inverse transform and then select the same preds column\n",
    "forecasts = ss_test.inverse_transform(forecasts)[:,0]"
   ]
  },
  {
   "cell_type": "code",
   "execution_count": 73,
   "id": "clear-times",
   "metadata": {
    "scrolled": false
   },
   "outputs": [
    {
     "data": {
      "text/html": [
       "<div>\n",
       "<style scoped>\n",
       "    .dataframe tbody tr th:only-of-type {\n",
       "        vertical-align: middle;\n",
       "    }\n",
       "\n",
       "    .dataframe tbody tr th {\n",
       "        vertical-align: top;\n",
       "    }\n",
       "\n",
       "    .dataframe thead th {\n",
       "        text-align: right;\n",
       "    }\n",
       "</style>\n",
       "<table border=\"1\" class=\"dataframe\">\n",
       "  <thead>\n",
       "    <tr style=\"text-align: right;\">\n",
       "      <th></th>\n",
       "      <th>ID</th>\n",
       "      <th>item_cnt_month</th>\n",
       "    </tr>\n",
       "  </thead>\n",
       "  <tbody>\n",
       "    <tr>\n",
       "      <th>0</th>\n",
       "      <td>0</td>\n",
       "      <td>0.077</td>\n",
       "    </tr>\n",
       "    <tr>\n",
       "      <th>1</th>\n",
       "      <td>1</td>\n",
       "      <td>0.045</td>\n",
       "    </tr>\n",
       "    <tr>\n",
       "      <th>2</th>\n",
       "      <td>2</td>\n",
       "      <td>0.108</td>\n",
       "    </tr>\n",
       "    <tr>\n",
       "      <th>3</th>\n",
       "      <td>3</td>\n",
       "      <td>0.045</td>\n",
       "    </tr>\n",
       "    <tr>\n",
       "      <th>4</th>\n",
       "      <td>4</td>\n",
       "      <td>0.045</td>\n",
       "    </tr>\n",
       "  </tbody>\n",
       "</table>\n",
       "</div>"
      ],
      "text/plain": [
       "   ID  item_cnt_month\n",
       "0   0           0.077\n",
       "1   1           0.045\n",
       "2   2           0.108\n",
       "3   3           0.045\n",
       "4   4           0.045"
      ]
     },
     "execution_count": 73,
     "metadata": {},
     "output_type": "execute_result"
    }
   ],
   "source": [
    "# saving as a new dataframe\n",
    "submissions = pd.DataFrame({\"ID\":test.ID, \"item_cnt_month\":forecasts})\n",
    "submissions.head()"
   ]
  },
  {
   "cell_type": "code",
   "execution_count": 74,
   "id": "tracked-zealand",
   "metadata": {},
   "outputs": [],
   "source": [
    "# ready for submissions!\n",
    "submissions.to_csv('../data/submissions.csv',index = False)"
   ]
  }
 ],
 "metadata": {
  "kernelspec": {
   "display_name": "sales-env",
   "language": "python",
   "name": "sales-env"
  },
  "language_info": {
   "codemirror_mode": {
    "name": "ipython",
    "version": 3
   },
   "file_extension": ".py",
   "mimetype": "text/x-python",
   "name": "python",
   "nbconvert_exporter": "python",
   "pygments_lexer": "ipython3",
   "version": "3.9.2"
  }
 },
 "nbformat": 4,
 "nbformat_minor": 5
}
